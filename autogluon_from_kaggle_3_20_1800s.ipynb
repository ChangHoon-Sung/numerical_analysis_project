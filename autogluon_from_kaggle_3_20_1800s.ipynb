{
  "nbformat": 4,
  "nbformat_minor": 0,
  "metadata": {
    "kernelspec": {
      "language": "python",
      "display_name": "Python 3",
      "name": "python3"
    },
    "language_info": {
      "name": "python",
      "version": "3.7.10",
      "mimetype": "text/x-python",
      "codemirror_mode": {
        "name": "ipython",
        "version": 3
      },
      "pygments_lexer": "ipython3",
      "nbconvert_exporter": "python",
      "file_extension": ".py"
    },
    "colab": {
      "name": "autogluon_from_kaggle.ipynb",
      "provenance": [],
      "collapsed_sections": [],
      "toc_visible": true
    },
    "accelerator": "GPU",
    "widgets": {
      "application/vnd.jupyter.widget-state+json": {
        "550bb7f88f384fe4a79ee00de5939833": {
          "model_module": "@jupyter-widgets/controls",
          "model_name": "HBoxModel",
          "state": {
            "_view_name": "HBoxView",
            "_dom_classes": [],
            "_model_name": "HBoxModel",
            "_view_module": "@jupyter-widgets/controls",
            "_model_module_version": "1.5.0",
            "_view_count": null,
            "_view_module_version": "1.5.0",
            "box_style": "",
            "layout": "IPY_MODEL_216baa699499486888ca5c2339e49175",
            "_model_module": "@jupyter-widgets/controls",
            "children": [
              "IPY_MODEL_8e23e333b3274e32a220851825e95bf4",
              "IPY_MODEL_e607dc5fa998433894486cf199df2714"
            ]
          }
        },
        "216baa699499486888ca5c2339e49175": {
          "model_module": "@jupyter-widgets/base",
          "model_name": "LayoutModel",
          "state": {
            "_view_name": "LayoutView",
            "grid_template_rows": null,
            "right": null,
            "justify_content": null,
            "_view_module": "@jupyter-widgets/base",
            "overflow": null,
            "_model_module_version": "1.2.0",
            "_view_count": null,
            "flex_flow": null,
            "width": null,
            "min_width": null,
            "border": null,
            "align_items": null,
            "bottom": null,
            "_model_module": "@jupyter-widgets/base",
            "top": null,
            "grid_column": null,
            "overflow_y": null,
            "overflow_x": null,
            "grid_auto_flow": null,
            "grid_area": null,
            "grid_template_columns": null,
            "flex": null,
            "_model_name": "LayoutModel",
            "justify_items": null,
            "grid_row": null,
            "max_height": null,
            "align_content": null,
            "visibility": null,
            "align_self": null,
            "height": null,
            "min_height": null,
            "padding": null,
            "grid_auto_rows": null,
            "grid_gap": null,
            "max_width": null,
            "order": null,
            "_view_module_version": "1.2.0",
            "grid_template_areas": null,
            "object_position": null,
            "object_fit": null,
            "grid_auto_columns": null,
            "margin": null,
            "display": null,
            "left": null
          }
        },
        "8e23e333b3274e32a220851825e95bf4": {
          "model_module": "@jupyter-widgets/controls",
          "model_name": "FloatProgressModel",
          "state": {
            "_view_name": "ProgressView",
            "style": "IPY_MODEL_c3db9ba919774f879db7e8132b164f05",
            "_dom_classes": [],
            "description": "  0%",
            "_model_name": "FloatProgressModel",
            "bar_style": "danger",
            "max": 3,
            "_view_module": "@jupyter-widgets/controls",
            "_model_module_version": "1.5.0",
            "value": 0,
            "_view_count": null,
            "_view_module_version": "1.5.0",
            "orientation": "horizontal",
            "min": 0,
            "description_tooltip": null,
            "_model_module": "@jupyter-widgets/controls",
            "layout": "IPY_MODEL_689e23b86e6c4c95bca516e7bbded852"
          }
        },
        "e607dc5fa998433894486cf199df2714": {
          "model_module": "@jupyter-widgets/controls",
          "model_name": "HTMLModel",
          "state": {
            "_view_name": "HTMLView",
            "style": "IPY_MODEL_5baee70b8f90408ab43500f4ebdd1f54",
            "_dom_classes": [],
            "description": "",
            "_model_name": "HTMLModel",
            "placeholder": "​",
            "_view_module": "@jupyter-widgets/controls",
            "_model_module_version": "1.5.0",
            "value": " 0/3 [06:09&lt;?, ?it/s]",
            "_view_count": null,
            "_view_module_version": "1.5.0",
            "description_tooltip": null,
            "_model_module": "@jupyter-widgets/controls",
            "layout": "IPY_MODEL_1b53345705274d0c92a501beef16bc33"
          }
        },
        "c3db9ba919774f879db7e8132b164f05": {
          "model_module": "@jupyter-widgets/controls",
          "model_name": "ProgressStyleModel",
          "state": {
            "_view_name": "StyleView",
            "_model_name": "ProgressStyleModel",
            "description_width": "initial",
            "_view_module": "@jupyter-widgets/base",
            "_model_module_version": "1.5.0",
            "_view_count": null,
            "_view_module_version": "1.2.0",
            "bar_color": null,
            "_model_module": "@jupyter-widgets/controls"
          }
        },
        "689e23b86e6c4c95bca516e7bbded852": {
          "model_module": "@jupyter-widgets/base",
          "model_name": "LayoutModel",
          "state": {
            "_view_name": "LayoutView",
            "grid_template_rows": null,
            "right": null,
            "justify_content": null,
            "_view_module": "@jupyter-widgets/base",
            "overflow": null,
            "_model_module_version": "1.2.0",
            "_view_count": null,
            "flex_flow": null,
            "width": null,
            "min_width": null,
            "border": null,
            "align_items": null,
            "bottom": null,
            "_model_module": "@jupyter-widgets/base",
            "top": null,
            "grid_column": null,
            "overflow_y": null,
            "overflow_x": null,
            "grid_auto_flow": null,
            "grid_area": null,
            "grid_template_columns": null,
            "flex": null,
            "_model_name": "LayoutModel",
            "justify_items": null,
            "grid_row": null,
            "max_height": null,
            "align_content": null,
            "visibility": null,
            "align_self": null,
            "height": null,
            "min_height": null,
            "padding": null,
            "grid_auto_rows": null,
            "grid_gap": null,
            "max_width": null,
            "order": null,
            "_view_module_version": "1.2.0",
            "grid_template_areas": null,
            "object_position": null,
            "object_fit": null,
            "grid_auto_columns": null,
            "margin": null,
            "display": null,
            "left": null
          }
        },
        "5baee70b8f90408ab43500f4ebdd1f54": {
          "model_module": "@jupyter-widgets/controls",
          "model_name": "DescriptionStyleModel",
          "state": {
            "_view_name": "StyleView",
            "_model_name": "DescriptionStyleModel",
            "description_width": "",
            "_view_module": "@jupyter-widgets/base",
            "_model_module_version": "1.5.0",
            "_view_count": null,
            "_view_module_version": "1.2.0",
            "_model_module": "@jupyter-widgets/controls"
          }
        },
        "1b53345705274d0c92a501beef16bc33": {
          "model_module": "@jupyter-widgets/base",
          "model_name": "LayoutModel",
          "state": {
            "_view_name": "LayoutView",
            "grid_template_rows": null,
            "right": null,
            "justify_content": null,
            "_view_module": "@jupyter-widgets/base",
            "overflow": null,
            "_model_module_version": "1.2.0",
            "_view_count": null,
            "flex_flow": null,
            "width": null,
            "min_width": null,
            "border": null,
            "align_items": null,
            "bottom": null,
            "_model_module": "@jupyter-widgets/base",
            "top": null,
            "grid_column": null,
            "overflow_y": null,
            "overflow_x": null,
            "grid_auto_flow": null,
            "grid_area": null,
            "grid_template_columns": null,
            "flex": null,
            "_model_name": "LayoutModel",
            "justify_items": null,
            "grid_row": null,
            "max_height": null,
            "align_content": null,
            "visibility": null,
            "align_self": null,
            "height": null,
            "min_height": null,
            "padding": null,
            "grid_auto_rows": null,
            "grid_gap": null,
            "max_width": null,
            "order": null,
            "_view_module_version": "1.2.0",
            "grid_template_areas": null,
            "object_position": null,
            "object_fit": null,
            "grid_auto_columns": null,
            "margin": null,
            "display": null,
            "left": null
          }
        }
      }
    }
  },
  "cells": [
    {
      "source": [
        "# Numerical Analysis Project\n",
        "Team: 아프지마\n",
        "\n",
        "Member\n",
        "\n",
        "* 20181628 성창훈\n",
        "* 20181635 신명철\n",
        "\n",
        "written by 성창훈, 신명철"
      ],
      "cell_type": "markdown",
      "metadata": {}
    },
    {
      "source": [
        "# Google Colab\n",
        "\n",
        "<U>AutoKeras는 GPU를 지원하므로</U> 원활한 학습을 위해서 Google Colab의 GPU를 이용해서 학습한다.\n",
        "\n",
        "Google Colab에서는 Tesla K80과 Tesla T4 두 종류의 GPU를 제공한다.\n",
        "\n",
        "이 노트에서는 K80보다 성능이 더 좋은 Tesla T4를 이용한다.\n",
        "\n",
        "GPU를 이용하는 경우에는 CUDA와 CuDNN의 버전이 중요하다.\n",
        "\n",
        "아래 표 우측 상단에서 CUDA의 버전이 11.2임을 확인할 수 있다."
      ],
      "cell_type": "markdown",
      "metadata": {}
    },
    {
      "cell_type": "code",
      "metadata": {
        "colab": {
          "base_uri": "https://localhost:8080/"
        },
        "id": "a-ktBxhrjIv8",
        "outputId": "62f960a9-b37f-4a43-8a1e-36633b159c8c"
      },
      "source": [
        "!nvidia-smi"
      ],
      "execution_count": 1,
      "outputs": [
        {
          "output_type": "stream",
          "text": [
            "Mon May 24 18:11:35 2021       \n",
            "+-----------------------------------------------------------------------------+\n",
            "| NVIDIA-SMI 465.19.01    Driver Version: 460.32.03    CUDA Version: 11.2     |\n",
            "|-------------------------------+----------------------+----------------------+\n",
            "| GPU  Name        Persistence-M| Bus-Id        Disp.A | Volatile Uncorr. ECC |\n",
            "| Fan  Temp  Perf  Pwr:Usage/Cap|         Memory-Usage | GPU-Util  Compute M. |\n",
            "|                               |                      |               MIG M. |\n",
            "|===============================+======================+======================|\n",
            "|   0  Tesla T4            Off  | 00000000:00:04.0 Off |                    0 |\n",
            "| N/A   63C    P8    11W /  70W |      0MiB / 15109MiB |      0%      Default |\n",
            "|                               |                      |                  N/A |\n",
            "+-------------------------------+----------------------+----------------------+\n",
            "                                                                               \n",
            "+-----------------------------------------------------------------------------+\n",
            "| Processes:                                                                  |\n",
            "|  GPU   GI   CI        PID   Type   Process name                  GPU Memory |\n",
            "|        ID   ID                                                   Usage      |\n",
            "|=============================================================================|\n",
            "|  No running processes found                                                 |\n",
            "+-----------------------------------------------------------------------------+\n"
          ],
          "name": "stdout"
        }
      ]
    },
    {
      "cell_type": "code",
      "metadata": {
        "execution": {
          "iopub.status.busy": "2021-05-24T17:35:02.699760Z",
          "iopub.execute_input": "2021-05-24T17:35:02.700152Z",
          "iopub.status.idle": "2021-05-24T17:35:03.338907Z",
          "shell.execute_reply.started": "2021-05-24T17:35:02.700089Z",
          "shell.execute_reply": "2021-05-24T17:35:03.337961Z"
        },
        "trusted": true,
        "colab": {
          "base_uri": "https://localhost:8080/"
        },
        "id": "LzmK4YTqjDqQ",
        "outputId": "9d9b5643-6185-4682-b50f-1ec155b88a59"
      },
      "source": [
        "!nvcc -V"
      ],
      "execution_count": 3,
      "outputs": [
        {
          "output_type": "stream",
          "text": [
            "nvcc: NVIDIA (R) Cuda compiler driver\n",
            "Copyright (c) 2005-2020 NVIDIA Corporation\n",
            "Built on Wed_Jul_22_19:09:09_PDT_2020\n",
            "Cuda compilation tools, release 11.0, V11.0.221\n",
            "Build cuda_11.0_bu.TC445_37.28845127_0\n"
          ],
          "name": "stdout"
        }
      ]
    },
    {
      "source": [
        "## Packages\n",
        "\n",
        "대다수의 Web-Based notebook 서비스들(Google Colab, Kaggle, Paperspace...)은 docker를 이용해 일관된 환경을 제공한다.\n",
        "\n",
        "환경의 업데이트는 패키지의 업데이트보다 보수적으로 이루어지므로 보통 버전이 낮다.\n",
        "\n",
        "이때 일부 최신 패키지는 높은 버전의 pip 버전을 요하므로, 반드시 패키지 관리 도구를 최신 버전으로 업데이트하여 사용한다.\n",
        "\n",
        "업데이트 후에는 kernel을 다시 시작한다. (초기화가 아님에 유의한다)"
      ],
      "cell_type": "markdown",
      "metadata": {}
    },
    {
      "cell_type": "code",
      "metadata": {
        "execution": {
          "iopub.status.busy": "2021-05-24T17:35:03.345361Z",
          "iopub.execute_input": "2021-05-24T17:35:03.345725Z",
          "iopub.status.idle": "2021-05-24T17:35:15.443958Z",
          "shell.execute_reply.started": "2021-05-24T17:35:03.345683Z",
          "shell.execute_reply": "2021-05-24T17:35:15.442980Z"
        },
        "trusted": true,
        "colab": {
          "base_uri": "https://localhost:8080/"
        },
        "id": "nWsMo95ZjDqR",
        "outputId": "c8fb0cb1-0d23-407c-b0f9-49d3f1d0bcb2"
      },
      "source": [
        "!pip install --upgrade pip\n",
        "!pip install --upgrade setuptools"
      ],
      "execution_count": 1,
      "outputs": [
        {
          "output_type": "stream",
          "text": [
            "Requirement already satisfied: pip in /usr/local/lib/python3.7/dist-packages (21.1.2)\n",
            "\u001b[33mWARNING: Running pip as root will break packages and permissions. You should install packages reliably by using venv: https://pip.pypa.io/warnings/venv\u001b[0m\n",
            "Requirement already satisfied: setuptools in /usr/local/lib/python3.7/dist-packages (57.0.0)\n",
            "\u001b[33mWARNING: Running pip as root will break packages and permissions. You should install packages reliably by using venv: https://pip.pypa.io/warnings/venv\u001b[0m\n"
          ],
          "name": "stdout"
        }
      ]
    },
    {
      "source": [
        "런타임 다시 시작"
      ],
      "cell_type": "markdown",
      "metadata": {}
    },
    {
      "source": [
        "여기서 mxnet을 CUDA의 버전에 맞게 설치해야 한다.\n",
        "\n",
        "메뉴얼에서 CUDA 버전이 10.0인 경우 mxnet_cu100을 설치하라고 하였으므로, 위에서 살펴본 CUDA 버전에 알맞은 패키지는 mxnet_cu110이다. (mxnet_cu112는 없음)"
      ],
      "cell_type": "markdown",
      "metadata": {}
    },
    {
      "cell_type": "code",
      "metadata": {
        "id": "Gptks1oA7N6D",
        "execution": {
          "iopub.status.busy": "2021-05-24T17:35:15.447319Z",
          "iopub.execute_input": "2021-05-24T17:35:15.447608Z",
          "iopub.status.idle": "2021-05-24T17:35:20.941771Z",
          "shell.execute_reply.started": "2021-05-24T17:35:15.447568Z",
          "shell.execute_reply": "2021-05-24T17:35:20.940822Z"
        },
        "trusted": true,
        "colab": {
          "base_uri": "https://localhost:8080/"
        },
        "outputId": "969ddbaf-a1f2-41d4-e642-791c6e1ce1a2"
      },
      "source": [
        "# Here we assume CUDA 10.1 is installed.  You should change the number\n",
        "# according to your own CUDA version (e.g. mxnet_cu100 for CUDA 10.0).\n",
        "!python3 -m pip install --upgrade \"mxnet_cu110<2.0.0\""
      ],
      "execution_count": 2,
      "outputs": [
        {
          "output_type": "stream",
          "text": [
            "Requirement already satisfied: mxnet_cu110<2.0.0 in /usr/local/lib/python3.7/dist-packages (1.8.0.post0)\n",
            "Requirement already satisfied: requests<3,>=2.20.0 in /usr/local/lib/python3.7/dist-packages (from mxnet_cu110<2.0.0) (2.23.0)\n",
            "Requirement already satisfied: numpy<2.0.0,>1.16.0 in /usr/local/lib/python3.7/dist-packages (from mxnet_cu110<2.0.0) (1.19.5)\n",
            "Requirement already satisfied: graphviz<0.9.0,>=0.8.1 in /usr/local/lib/python3.7/dist-packages (from mxnet_cu110<2.0.0) (0.8.4)\n",
            "Requirement already satisfied: chardet<4,>=3.0.2 in /usr/local/lib/python3.7/dist-packages (from requests<3,>=2.20.0->mxnet_cu110<2.0.0) (3.0.4)\n",
            "Requirement already satisfied: certifi>=2017.4.17 in /usr/local/lib/python3.7/dist-packages (from requests<3,>=2.20.0->mxnet_cu110<2.0.0) (2020.12.5)\n",
            "Requirement already satisfied: idna<3,>=2.5 in /usr/local/lib/python3.7/dist-packages (from requests<3,>=2.20.0->mxnet_cu110<2.0.0) (2.10)\n",
            "Requirement already satisfied: urllib3!=1.25.0,!=1.25.1,<1.26,>=1.21.1 in /usr/local/lib/python3.7/dist-packages (from requests<3,>=2.20.0->mxnet_cu110<2.0.0) (1.25.11)\n",
            "\u001b[33mWARNING: Running pip as root will break packages and permissions. You should install packages reliably by using venv: https://pip.pypa.io/warnings/venv\u001b[0m\n"
          ],
          "name": "stdout"
        }
      ]
    },
    {
      "cell_type": "markdown",
      "metadata": {
        "id": "VZY2ploI0E8F",
        "execution": {
          "iopub.status.busy": "2021-05-23T12:46:40.491942Z",
          "iopub.execute_input": "2021-05-23T12:46:40.492358Z",
          "iopub.status.idle": "2021-05-23T12:46:40.498698Z",
          "shell.execute_reply.started": "2021-05-23T12:46:40.492322Z",
          "shell.execute_reply": "2021-05-23T12:46:40.497507Z"
        }
      },
      "source": [
        "신속한 패치 적용을 위해 pre-release 버전을 설치했다."
      ]
    },
    {
      "cell_type": "code",
      "metadata": {
        "id": "L5_G80lZ9V8A",
        "execution": {
          "iopub.status.busy": "2021-05-24T17:35:20.943371Z",
          "iopub.execute_input": "2021-05-24T17:35:20.943735Z",
          "iopub.status.idle": "2021-05-24T17:35:27.844489Z",
          "shell.execute_reply.started": "2021-05-24T17:35:20.943695Z",
          "shell.execute_reply": "2021-05-24T17:35:27.843599Z"
        },
        "trusted": true,
        "colab": {
          "base_uri": "https://localhost:8080/"
        },
        "outputId": "a3b96495-688a-438c-ab44-c6334877798f"
      },
      "source": [
        "!pip install --pre autogluon"
      ],
      "execution_count": 3,
      "outputs": [
        {
          "output_type": "stream",
          "text": [
            "Requirement already satisfied: autogluon in /usr/local/lib/python3.7/dist-packages (0.2.1b20210524)\n",
            "Requirement already satisfied: autogluon.features==0.2.1b20210524 in /usr/local/lib/python3.7/dist-packages (from autogluon) (0.2.1b20210524)\n",
            "Requirement already satisfied: autogluon.tabular[all]==0.2.1b20210524 in /usr/local/lib/python3.7/dist-packages (from autogluon) (0.2.1b20210524)\n",
            "Requirement already satisfied: autogluon.core==0.2.1b20210524 in /usr/local/lib/python3.7/dist-packages (from autogluon) (0.2.1b20210524)\n",
            "Requirement already satisfied: autogluon.extra==0.2.1b20210524 in /usr/local/lib/python3.7/dist-packages (from autogluon) (0.2.1b20210524)\n",
            "Requirement already satisfied: autogluon.mxnet==0.2.1b20210524 in /usr/local/lib/python3.7/dist-packages (from autogluon) (0.2.1b20210524)\n",
            "Requirement already satisfied: autogluon.text==0.2.1b20210524 in /usr/local/lib/python3.7/dist-packages (from autogluon) (0.2.1b20210524)\n",
            "Requirement already satisfied: autogluon.vision==0.2.1b20210524 in /usr/local/lib/python3.7/dist-packages (from autogluon) (0.2.1b20210524)\n",
            "Requirement already satisfied: dill==0.3.3 in /usr/local/lib/python3.7/dist-packages (from autogluon.core==0.2.1b20210524->autogluon) (0.3.3)\n",
            "Requirement already satisfied: ConfigSpace==0.4.18 in /usr/local/lib/python3.7/dist-packages (from autogluon.core==0.2.1b20210524->autogluon) (0.4.18)\n",
            "Requirement already satisfied: paramiko>=2.4 in /usr/local/lib/python3.7/dist-packages (from autogluon.core==0.2.1b20210524->autogluon) (2.7.2)\n",
            "Requirement already satisfied: tornado>=5.0.1 in /usr/local/lib/python3.7/dist-packages (from autogluon.core==0.2.1b20210524->autogluon) (5.1.1)\n",
            "Requirement already satisfied: boto3 in /usr/local/lib/python3.7/dist-packages (from autogluon.core==0.2.1b20210524->autogluon) (1.17.78)\n",
            "Requirement already satisfied: graphviz<0.9.0,>=0.8.1 in /usr/local/lib/python3.7/dist-packages (from autogluon.core==0.2.1b20210524->autogluon) (0.8.4)\n",
            "Requirement already satisfied: cython in /usr/local/lib/python3.7/dist-packages (from autogluon.core==0.2.1b20210524->autogluon) (0.29.23)\n",
            "Requirement already satisfied: dask>=2.6.0 in /usr/local/lib/python3.7/dist-packages (from autogluon.core==0.2.1b20210524->autogluon) (2021.5.0)\n",
            "Requirement already satisfied: requests in /usr/local/lib/python3.7/dist-packages (from autogluon.core==0.2.1b20210524->autogluon) (2.23.0)\n",
            "Requirement already satisfied: distributed>=2.6.0 in /usr/local/lib/python3.7/dist-packages (from autogluon.core==0.2.1b20210524->autogluon) (2021.5.0)\n",
            "Requirement already satisfied: autograd>=1.3 in /usr/local/lib/python3.7/dist-packages (from autogluon.core==0.2.1b20210524->autogluon) (1.3)\n",
            "Requirement already satisfied: tqdm>=4.38.0 in /usr/local/lib/python3.7/dist-packages (from autogluon.core==0.2.1b20210524->autogluon) (4.41.1)\n",
            "Requirement already satisfied: scipy<1.7,>=1.5.4 in /usr/local/lib/python3.7/dist-packages (from autogluon.core==0.2.1b20210524->autogluon) (1.6.3)\n",
            "Requirement already satisfied: scikit-learn<0.25,>=0.23.2 in /usr/local/lib/python3.7/dist-packages (from autogluon.core==0.2.1b20210524->autogluon) (0.24.2)\n",
            "Requirement already satisfied: pandas<2.0,>=1.0.0 in /usr/local/lib/python3.7/dist-packages (from autogluon.core==0.2.1b20210524->autogluon) (1.1.5)\n",
            "Requirement already satisfied: numpy==1.19.5 in /usr/local/lib/python3.7/dist-packages (from autogluon.core==0.2.1b20210524->autogluon) (1.19.5)\n",
            "Requirement already satisfied: matplotlib in /usr/local/lib/python3.7/dist-packages (from autogluon.core==0.2.1b20210524->autogluon) (3.2.2)\n",
            "Requirement already satisfied: pytest in /usr/local/lib/python3.7/dist-packages (from autogluon.extra==0.2.1b20210524->autogluon) (3.6.4)\n",
            "Requirement already satisfied: gluoncv<0.11,>=0.10.1.post0 in /usr/local/lib/python3.7/dist-packages (from autogluon.extra==0.2.1b20210524->autogluon) (0.10.1.post0)\n",
            "Requirement already satisfied: openml in /usr/local/lib/python3.7/dist-packages (from autogluon.extra==0.2.1b20210524->autogluon) (0.12.2)\n",
            "Requirement already satisfied: Pillow<=8.1 in /usr/local/lib/python3.7/dist-packages (from autogluon.mxnet==0.2.1b20210524->autogluon) (7.1.2)\n",
            "Requirement already satisfied: networkx<3.0,>=2.3 in /usr/local/lib/python3.7/dist-packages (from autogluon.tabular[all]==0.2.1b20210524->autogluon) (2.5.1)\n",
            "Requirement already satisfied: psutil<5.9,>=5.7.3 in /usr/local/lib/python3.7/dist-packages (from autogluon.tabular[all]==0.2.1b20210524->autogluon) (5.8.0)\n",
            "Requirement already satisfied: catboost<0.26,>=0.24.0 in /usr/local/lib/python3.7/dist-packages (from autogluon.tabular[all]==0.2.1b20210524->autogluon) (0.25.1)\n",
            "Requirement already satisfied: xgboost<1.4,>=1.3.2 in /usr/local/lib/python3.7/dist-packages (from autogluon.tabular[all]==0.2.1b20210524->autogluon) (1.3.3)\n",
            "Requirement already satisfied: fastai<3.0,>=2.0 in /usr/local/lib/python3.7/dist-packages (from autogluon.tabular[all]==0.2.1b20210524->autogluon) (2.3.1)\n",
            "Requirement already satisfied: torch<2.0,>=1.0 in /usr/local/lib/python3.7/dist-packages (from autogluon.tabular[all]==0.2.1b20210524->autogluon) (1.8.1+cu101)\n",
            "Requirement already satisfied: lightgbm<4.0,>=3.0 in /usr/local/lib/python3.7/dist-packages (from autogluon.tabular[all]==0.2.1b20210524->autogluon) (3.2.1)\n",
            "Requirement already satisfied: pyarrow in /usr/local/lib/python3.7/dist-packages (from autogluon.text==0.2.1b20210524->autogluon) (3.0.0)\n",
            "Requirement already satisfied: autogluon-contrib-nlp==0.0.1b20210201 in /usr/local/lib/python3.7/dist-packages (from autogluon.text==0.2.1b20210524->autogluon) (0.0.1b20210201)\n",
            "Requirement already satisfied: flake8 in /usr/local/lib/python3.7/dist-packages (from autogluon-contrib-nlp==0.0.1b20210201->autogluon.text==0.2.1b20210524->autogluon) (3.9.2)\n",
            "Requirement already satisfied: protobuf in /usr/local/lib/python3.7/dist-packages (from autogluon-contrib-nlp==0.0.1b20210201->autogluon.text==0.2.1b20210524->autogluon) (3.12.4)\n",
            "Requirement already satisfied: regex in /usr/local/lib/python3.7/dist-packages (from autogluon-contrib-nlp==0.0.1b20210201->autogluon.text==0.2.1b20210524->autogluon) (2019.12.20)\n",
            "Requirement already satisfied: sacremoses>=0.0.38 in /usr/local/lib/python3.7/dist-packages (from autogluon-contrib-nlp==0.0.1b20210201->autogluon.text==0.2.1b20210524->autogluon) (0.0.45)\n",
            "Requirement already satisfied: contextvars in /usr/local/lib/python3.7/dist-packages (from autogluon-contrib-nlp==0.0.1b20210201->autogluon.text==0.2.1b20210524->autogluon) (2.4)\n",
            "Requirement already satisfied: sacrebleu in /usr/local/lib/python3.7/dist-packages (from autogluon-contrib-nlp==0.0.1b20210201->autogluon.text==0.2.1b20210524->autogluon) (1.5.1)\n",
            "Requirement already satisfied: tokenizers==0.9.4 in /usr/local/lib/python3.7/dist-packages (from autogluon-contrib-nlp==0.0.1b20210201->autogluon.text==0.2.1b20210524->autogluon) (0.9.4)\n",
            "Requirement already satisfied: yacs>=0.1.6 in /usr/local/lib/python3.7/dist-packages (from autogluon-contrib-nlp==0.0.1b20210201->autogluon.text==0.2.1b20210524->autogluon) (0.1.8)\n",
            "Requirement already satisfied: sentencepiece==0.1.95 in /usr/local/lib/python3.7/dist-packages (from autogluon-contrib-nlp==0.0.1b20210201->autogluon.text==0.2.1b20210524->autogluon) (0.1.95)\n",
            "Requirement already satisfied: d8<1.0,>=0.0.2 in /usr/local/lib/python3.7/dist-packages (from autogluon.vision==0.2.1b20210524->autogluon) (0.0.2.post0)\n",
            "Requirement already satisfied: pyparsing in /usr/local/lib/python3.7/dist-packages (from ConfigSpace==0.4.18->autogluon.core==0.2.1b20210524->autogluon) (2.4.7)\n",
            "Requirement already satisfied: future>=0.15.2 in /usr/local/lib/python3.7/dist-packages (from autograd>=1.3->autogluon.core==0.2.1b20210524->autogluon) (0.16.0)\n",
            "Requirement already satisfied: six in /usr/local/lib/python3.7/dist-packages (from catboost<0.26,>=0.24.0->autogluon.tabular[all]==0.2.1b20210524->autogluon) (1.15.0)\n",
            "Requirement already satisfied: plotly in /usr/local/lib/python3.7/dist-packages (from catboost<0.26,>=0.24.0->autogluon.tabular[all]==0.2.1b20210524->autogluon) (4.4.1)\n",
            "Requirement already satisfied: kaggle in /usr/local/lib/python3.7/dist-packages (from d8<1.0,>=0.0.2->autogluon.vision==0.2.1b20210524->autogluon) (1.5.12)\n",
            "Requirement already satisfied: xxhash in /usr/local/lib/python3.7/dist-packages (from d8<1.0,>=0.0.2->autogluon.vision==0.2.1b20210524->autogluon) (2.0.2)\n",
            "Requirement already satisfied: partd>=0.3.10 in /usr/local/lib/python3.7/dist-packages (from dask>=2.6.0->autogluon.core==0.2.1b20210524->autogluon) (1.2.0)\n",
            "Requirement already satisfied: cloudpickle>=1.1.1 in /usr/local/lib/python3.7/dist-packages (from dask>=2.6.0->autogluon.core==0.2.1b20210524->autogluon) (1.6.0)\n",
            "Requirement already satisfied: fsspec>=0.6.0 in /usr/local/lib/python3.7/dist-packages (from dask>=2.6.0->autogluon.core==0.2.1b20210524->autogluon) (2021.5.0)\n",
            "Requirement already satisfied: toolz>=0.8.2 in /usr/local/lib/python3.7/dist-packages (from dask>=2.6.0->autogluon.core==0.2.1b20210524->autogluon) (0.11.1)\n",
            "Requirement already satisfied: pyyaml in /usr/local/lib/python3.7/dist-packages (from dask>=2.6.0->autogluon.core==0.2.1b20210524->autogluon) (3.13)\n",
            "Requirement already satisfied: zict>=0.1.3 in /usr/local/lib/python3.7/dist-packages (from distributed>=2.6.0->autogluon.core==0.2.1b20210524->autogluon) (2.0.0)\n",
            "Requirement already satisfied: msgpack>=0.6.0 in /usr/local/lib/python3.7/dist-packages (from distributed>=2.6.0->autogluon.core==0.2.1b20210524->autogluon) (1.0.2)\n",
            "Requirement already satisfied: sortedcontainers!=2.0.0,!=2.0.1 in /usr/local/lib/python3.7/dist-packages (from distributed>=2.6.0->autogluon.core==0.2.1b20210524->autogluon) (2.3.0)\n",
            "Requirement already satisfied: setuptools in /usr/local/lib/python3.7/dist-packages (from distributed>=2.6.0->autogluon.core==0.2.1b20210524->autogluon) (57.0.0)\n",
            "Requirement already satisfied: click>=6.6 in /usr/local/lib/python3.7/dist-packages (from distributed>=2.6.0->autogluon.core==0.2.1b20210524->autogluon) (8.0.0)\n",
            "Requirement already satisfied: tblib>=1.6.0 in /usr/local/lib/python3.7/dist-packages (from distributed>=2.6.0->autogluon.core==0.2.1b20210524->autogluon) (1.7.0)\n",
            "Requirement already satisfied: fastcore<1.4,>=1.3.8 in /usr/local/lib/python3.7/dist-packages (from fastai<3.0,>=2.0->autogluon.tabular[all]==0.2.1b20210524->autogluon) (1.3.20)\n",
            "Requirement already satisfied: fastprogress>=0.2.4 in /usr/local/lib/python3.7/dist-packages (from fastai<3.0,>=2.0->autogluon.tabular[all]==0.2.1b20210524->autogluon) (1.0.0)\n",
            "Requirement already satisfied: torchvision>=0.8.2 in /usr/local/lib/python3.7/dist-packages (from fastai<3.0,>=2.0->autogluon.tabular[all]==0.2.1b20210524->autogluon) (0.9.1+cu101)\n",
            "Requirement already satisfied: spacy<4 in /usr/local/lib/python3.7/dist-packages (from fastai<3.0,>=2.0->autogluon.tabular[all]==0.2.1b20210524->autogluon) (2.2.4)\n",
            "Requirement already satisfied: packaging in /usr/local/lib/python3.7/dist-packages (from fastai<3.0,>=2.0->autogluon.tabular[all]==0.2.1b20210524->autogluon) (20.9)\n",
            "Requirement already satisfied: pip in /usr/local/lib/python3.7/dist-packages (from fastai<3.0,>=2.0->autogluon.tabular[all]==0.2.1b20210524->autogluon) (21.1.2)\n",
            "Requirement already satisfied: opencv-python in /usr/local/lib/python3.7/dist-packages (from gluoncv<0.11,>=0.10.1.post0->autogluon.extra==0.2.1b20210524->autogluon) (4.1.2.30)\n",
            "Requirement already satisfied: tensorboardx in /usr/local/lib/python3.7/dist-packages (from gluoncv<0.11,>=0.10.1.post0->autogluon.extra==0.2.1b20210524->autogluon) (2.2)\n",
            "Requirement already satisfied: portalocker in /usr/local/lib/python3.7/dist-packages (from gluoncv<0.11,>=0.10.1.post0->autogluon.extra==0.2.1b20210524->autogluon) (2.0.0)\n",
            "Requirement already satisfied: decord in /usr/local/lib/python3.7/dist-packages (from gluoncv<0.11,>=0.10.1.post0->autogluon.extra==0.2.1b20210524->autogluon) (0.5.2)\n",
            "Requirement already satisfied: autocfg in /usr/local/lib/python3.7/dist-packages (from gluoncv<0.11,>=0.10.1.post0->autogluon.extra==0.2.1b20210524->autogluon) (0.0.8)\n",
            "Requirement already satisfied: wheel in /usr/local/lib/python3.7/dist-packages (from lightgbm<4.0,>=3.0->autogluon.tabular[all]==0.2.1b20210524->autogluon) (0.36.2)\n",
            "Requirement already satisfied: decorator<5,>=4.3 in /usr/local/lib/python3.7/dist-packages (from networkx<3.0,>=2.3->autogluon.tabular[all]==0.2.1b20210524->autogluon) (4.4.2)\n",
            "Requirement already satisfied: python-dateutil>=2.7.3 in /usr/local/lib/python3.7/dist-packages (from pandas<2.0,>=1.0.0->autogluon.core==0.2.1b20210524->autogluon) (2.8.1)\n",
            "Requirement already satisfied: pytz>=2017.2 in /usr/local/lib/python3.7/dist-packages (from pandas<2.0,>=1.0.0->autogluon.core==0.2.1b20210524->autogluon) (2018.9)\n",
            "Requirement already satisfied: pynacl>=1.0.1 in /usr/local/lib/python3.7/dist-packages (from paramiko>=2.4->autogluon.core==0.2.1b20210524->autogluon) (1.4.0)\n",
            "Requirement already satisfied: cryptography>=2.5 in /usr/local/lib/python3.7/dist-packages (from paramiko>=2.4->autogluon.core==0.2.1b20210524->autogluon) (3.4.7)\n",
            "Requirement already satisfied: bcrypt>=3.1.3 in /usr/local/lib/python3.7/dist-packages (from paramiko>=2.4->autogluon.core==0.2.1b20210524->autogluon) (3.2.0)\n",
            "Requirement already satisfied: cffi>=1.1 in /usr/local/lib/python3.7/dist-packages (from bcrypt>=3.1.3->paramiko>=2.4->autogluon.core==0.2.1b20210524->autogluon) (1.14.5)\n",
            "Requirement already satisfied: pycparser in /usr/local/lib/python3.7/dist-packages (from cffi>=1.1->bcrypt>=3.1.3->paramiko>=2.4->autogluon.core==0.2.1b20210524->autogluon) (2.20)\n",
            "Requirement already satisfied: locket in /usr/local/lib/python3.7/dist-packages (from partd>=0.3.10->dask>=2.6.0->autogluon.core==0.2.1b20210524->autogluon) (0.2.1)\n",
            "Requirement already satisfied: joblib in /usr/local/lib/python3.7/dist-packages (from sacremoses>=0.0.38->autogluon-contrib-nlp==0.0.1b20210201->autogluon.text==0.2.1b20210524->autogluon) (1.0.1)\n",
            "Requirement already satisfied: threadpoolctl>=2.0.0 in /usr/local/lib/python3.7/dist-packages (from scikit-learn<0.25,>=0.23.2->autogluon.core==0.2.1b20210524->autogluon) (2.1.0)\n",
            "Requirement already satisfied: wasabi<1.1.0,>=0.4.0 in /usr/local/lib/python3.7/dist-packages (from spacy<4->fastai<3.0,>=2.0->autogluon.tabular[all]==0.2.1b20210524->autogluon) (0.8.2)\n",
            "Requirement already satisfied: blis<0.5.0,>=0.4.0 in /usr/local/lib/python3.7/dist-packages (from spacy<4->fastai<3.0,>=2.0->autogluon.tabular[all]==0.2.1b20210524->autogluon) (0.4.1)\n",
            "Requirement already satisfied: thinc==7.4.0 in /usr/local/lib/python3.7/dist-packages (from spacy<4->fastai<3.0,>=2.0->autogluon.tabular[all]==0.2.1b20210524->autogluon) (7.4.0)\n",
            "Requirement already satisfied: preshed<3.1.0,>=3.0.2 in /usr/local/lib/python3.7/dist-packages (from spacy<4->fastai<3.0,>=2.0->autogluon.tabular[all]==0.2.1b20210524->autogluon) (3.0.5)\n",
            "Requirement already satisfied: cymem<2.1.0,>=2.0.2 in /usr/local/lib/python3.7/dist-packages (from spacy<4->fastai<3.0,>=2.0->autogluon.tabular[all]==0.2.1b20210524->autogluon) (2.0.5)\n",
            "Requirement already satisfied: murmurhash<1.1.0,>=0.28.0 in /usr/local/lib/python3.7/dist-packages (from spacy<4->fastai<3.0,>=2.0->autogluon.tabular[all]==0.2.1b20210524->autogluon) (1.0.5)\n",
            "Requirement already satisfied: srsly<1.1.0,>=1.0.2 in /usr/local/lib/python3.7/dist-packages (from spacy<4->fastai<3.0,>=2.0->autogluon.tabular[all]==0.2.1b20210524->autogluon) (1.0.5)\n",
            "Requirement already satisfied: plac<1.2.0,>=0.9.6 in /usr/local/lib/python3.7/dist-packages (from spacy<4->fastai<3.0,>=2.0->autogluon.tabular[all]==0.2.1b20210524->autogluon) (1.1.3)\n",
            "Requirement already satisfied: catalogue<1.1.0,>=0.0.7 in /usr/local/lib/python3.7/dist-packages (from spacy<4->fastai<3.0,>=2.0->autogluon.tabular[all]==0.2.1b20210524->autogluon) (1.0.0)\n",
            "Requirement already satisfied: importlib-metadata>=0.20 in /usr/local/lib/python3.7/dist-packages (from catalogue<1.1.0,>=0.0.7->spacy<4->fastai<3.0,>=2.0->autogluon.tabular[all]==0.2.1b20210524->autogluon) (4.0.1)\n",
            "Requirement already satisfied: typing-extensions>=3.6.4 in /usr/local/lib/python3.7/dist-packages (from importlib-metadata>=0.20->catalogue<1.1.0,>=0.0.7->spacy<4->fastai<3.0,>=2.0->autogluon.tabular[all]==0.2.1b20210524->autogluon) (3.7.4.3)\n",
            "Requirement already satisfied: zipp>=0.5 in /usr/local/lib/python3.7/dist-packages (from importlib-metadata>=0.20->catalogue<1.1.0,>=0.0.7->spacy<4->fastai<3.0,>=2.0->autogluon.tabular[all]==0.2.1b20210524->autogluon) (3.4.1)\n",
            "Requirement already satisfied: urllib3!=1.25.0,!=1.25.1,<1.26,>=1.21.1 in /usr/local/lib/python3.7/dist-packages (from requests->autogluon.core==0.2.1b20210524->autogluon) (1.25.11)\n",
            "Requirement already satisfied: idna<3,>=2.5 in /usr/local/lib/python3.7/dist-packages (from requests->autogluon.core==0.2.1b20210524->autogluon) (2.10)\n",
            "Requirement already satisfied: certifi>=2017.4.17 in /usr/local/lib/python3.7/dist-packages (from requests->autogluon.core==0.2.1b20210524->autogluon) (2020.12.5)\n",
            "Requirement already satisfied: chardet<4,>=3.0.2 in /usr/local/lib/python3.7/dist-packages (from requests->autogluon.core==0.2.1b20210524->autogluon) (3.0.4)\n",
            "Requirement already satisfied: heapdict in /usr/local/lib/python3.7/dist-packages (from zict>=0.1.3->distributed>=2.6.0->autogluon.core==0.2.1b20210524->autogluon) (1.0.1)\n",
            "Requirement already satisfied: jmespath<1.0.0,>=0.7.1 in /usr/local/lib/python3.7/dist-packages (from boto3->autogluon.core==0.2.1b20210524->autogluon) (0.10.0)\n",
            "Requirement already satisfied: botocore<1.21.0,>=1.20.78 in /usr/local/lib/python3.7/dist-packages (from boto3->autogluon.core==0.2.1b20210524->autogluon) (1.20.78)\n",
            "Requirement already satisfied: s3transfer<0.5.0,>=0.4.0 in /usr/local/lib/python3.7/dist-packages (from boto3->autogluon.core==0.2.1b20210524->autogluon) (0.4.2)\n",
            "Requirement already satisfied: immutables>=0.9 in /usr/local/lib/python3.7/dist-packages (from contextvars->autogluon-contrib-nlp==0.0.1b20210201->autogluon.text==0.2.1b20210524->autogluon) (0.15)\n",
            "Requirement already satisfied: pyflakes<2.4.0,>=2.3.0 in /usr/local/lib/python3.7/dist-packages (from flake8->autogluon-contrib-nlp==0.0.1b20210201->autogluon.text==0.2.1b20210524->autogluon) (2.3.1)\n",
            "Requirement already satisfied: mccabe<0.7.0,>=0.6.0 in /usr/local/lib/python3.7/dist-packages (from flake8->autogluon-contrib-nlp==0.0.1b20210201->autogluon.text==0.2.1b20210524->autogluon) (0.6.1)\n",
            "Requirement already satisfied: pycodestyle<2.8.0,>=2.7.0 in /usr/local/lib/python3.7/dist-packages (from flake8->autogluon-contrib-nlp==0.0.1b20210201->autogluon.text==0.2.1b20210524->autogluon) (2.7.0)\n",
            "Requirement already satisfied: python-slugify in /usr/local/lib/python3.7/dist-packages (from kaggle->d8<1.0,>=0.0.2->autogluon.vision==0.2.1b20210524->autogluon) (5.0.2)\n",
            "Requirement already satisfied: cycler>=0.10 in /usr/local/lib/python3.7/dist-packages (from matplotlib->autogluon.core==0.2.1b20210524->autogluon) (0.10.0)\n",
            "Requirement already satisfied: kiwisolver>=1.0.1 in /usr/local/lib/python3.7/dist-packages (from matplotlib->autogluon.core==0.2.1b20210524->autogluon) (1.3.1)\n",
            "Requirement already satisfied: liac-arff>=2.4.0 in /usr/local/lib/python3.7/dist-packages (from openml->autogluon.extra==0.2.1b20210524->autogluon) (2.5.0)\n",
            "Requirement already satisfied: xmltodict in /usr/local/lib/python3.7/dist-packages (from openml->autogluon.extra==0.2.1b20210524->autogluon) (0.12.0)\n",
            "Requirement already satisfied: minio in /usr/local/lib/python3.7/dist-packages (from openml->autogluon.extra==0.2.1b20210524->autogluon) (7.0.3)\n",
            "Requirement already satisfied: retrying>=1.3.3 in /usr/local/lib/python3.7/dist-packages (from plotly->catboost<0.26,>=0.24.0->autogluon.tabular[all]==0.2.1b20210524->autogluon) (1.3.3)\n",
            "Requirement already satisfied: attrs>=17.4.0 in /usr/local/lib/python3.7/dist-packages (from pytest->autogluon.extra==0.2.1b20210524->autogluon) (21.2.0)\n",
            "Requirement already satisfied: atomicwrites>=1.0 in /usr/local/lib/python3.7/dist-packages (from pytest->autogluon.extra==0.2.1b20210524->autogluon) (1.4.0)\n",
            "Requirement already satisfied: more-itertools>=4.0.0 in /usr/local/lib/python3.7/dist-packages (from pytest->autogluon.extra==0.2.1b20210524->autogluon) (8.7.0)\n",
            "Requirement already satisfied: py>=1.5.0 in /usr/local/lib/python3.7/dist-packages (from pytest->autogluon.extra==0.2.1b20210524->autogluon) (1.10.0)\n",
            "Requirement already satisfied: pluggy<0.8,>=0.5 in /usr/local/lib/python3.7/dist-packages (from pytest->autogluon.extra==0.2.1b20210524->autogluon) (0.7.1)\n",
            "Requirement already satisfied: text-unidecode>=1.3 in /usr/local/lib/python3.7/dist-packages (from python-slugify->kaggle->d8<1.0,>=0.0.2->autogluon.vision==0.2.1b20210524->autogluon) (1.3)\n",
            "\u001b[33mWARNING: Running pip as root will break packages and permissions. You should install packages reliably by using venv: https://pip.pypa.io/warnings/venv\u001b[0m\n"
          ],
          "name": "stdout"
        }
      ]
    },
    {
      "source": [
        "# AutoGluon\n",
        "\n",
        "AutoGluon이라는 이름이 조금 생소하지만, 이 오픈소스의 repo는 AWS Labs에 속해있다.\n",
        "\n",
        "성능도 성능이지만, 무엇보다 가장 사용하기 편한 패키지로 기억된다.\n",
        "\n",
        "AutoGluon은 ImagePredictor를 제공하여 이미지에 전문화된 모델을 자동으로 탐색하고(NAS), 하이퍼파라메터를 최적화한다(HPO)."
      ],
      "cell_type": "markdown",
      "metadata": {}
    },
    {
      "cell_type": "code",
      "metadata": {
        "id": "UiLJ89Nh7XOz",
        "execution": {
          "iopub.status.busy": "2021-05-24T17:42:12.883873Z",
          "iopub.execute_input": "2021-05-24T17:42:12.884274Z",
          "iopub.status.idle": "2021-05-24T17:42:16.549463Z",
          "shell.execute_reply.started": "2021-05-24T17:42:12.884235Z",
          "shell.execute_reply": "2021-05-24T17:42:16.548632Z"
        },
        "trusted": true
      },
      "source": [
        "import autogluon.core as ag\n",
        "from autogluon.vision import ImagePredictor"
      ],
      "execution_count": 4,
      "outputs": []
    },
    {
      "source": [
        "# Data Loading\n",
        "Kaggle의 Leaf Rice Disease Dataset을 이용한다.\n",
        "\n",
        "다른 모든 AutoML 패키지와 구분되는 기능을 제공한다.\n",
        "\n",
        "바로 디렉토리로부터 자동으로 train과 test 데이터셋을 만들어내는 함수를 제공한다.\n",
        "\n",
        "심지어 배치 사이즈와 이미지 사이즈도 알아서 맞춰준다.\n",
        "\n",
        "프로젝트를 진행하면서 .npz 파일로 이미지셋을 로드하는 방식을 채택해서 한결 일처리가 수월해졌지만, 그 전까지는 AutoGluon의 from_folders() 메소드는 사막의 오아시스같은 존재였다.\n",
        "\n",
        "구글 드라이브에 3:1 비율로 구서한 학습 데이터와 검증 데이터를 압축해 업로드했고, 이를 노트북에서 불러와 이용했다."
      ],
      "cell_type": "markdown",
      "metadata": {}
    },
    {
      "cell_type": "code",
      "metadata": {
        "id": "14nuWdSz7mDV",
        "trusted": true,
        "colab": {
          "base_uri": "https://localhost:8080/"
        },
        "outputId": "108d071d-1ed1-4372-8eef-da133d1872d6"
      },
      "source": [
        "from google.colab import drive\n",
        "drive.mount('/content/drive')"
      ],
      "execution_count": 2,
      "outputs": [
        {
          "output_type": "stream",
          "text": [
            "Mounted at /content/drive\n"
          ],
          "name": "stdout"
        }
      ]
    },
    {
      "cell_type": "code",
      "metadata": {
        "id": "hjzlFkHC4ZAG",
        "trusted": true,
        "colab": {
          "base_uri": "https://localhost:8080/"
        },
        "outputId": "1d4fa87e-5551-4718-f7ec-52681798e1e9"
      },
      "source": [
        "!unzip ./drive/MyDrive/archive_60_20.zip -d ."
      ],
      "execution_count": 3,
      "outputs": [
        {
          "output_type": "stream",
          "text": [
            "Archive:  ./drive/MyDrive/archive_60_20.zip\n",
            "   creating: ./data/\n",
            "   creating: ./data/test/\n",
            "   creating: ./data/test/blast/\n",
            "  inflating: ./data/test/blast/IMG_0682.jpg  \n",
            "  inflating: ./data/test/blast/IMG_0684.jpg  \n",
            "  inflating: ./data/test/blast/IMG_0687.jpg  \n",
            "  inflating: ./data/test/blast/IMG_0691.jpg  \n",
            "  inflating: ./data/test/blast/IMG_0692.jpg  \n",
            "  inflating: ./data/test/blast/IMG_0694.jpg  \n",
            "  inflating: ./data/test/blast/IMG_0695.jpg  \n",
            "  inflating: ./data/test/blast/IMG_0698.jpg  \n",
            "  inflating: ./data/test/blast/IMG_0701.jpg  \n",
            "  inflating: ./data/test/blast/IMG_0704.jpg  \n",
            "  inflating: ./data/test/blast/IMG_0705.jpg  \n",
            "  inflating: ./data/test/blast/IMG_0707.jpg  \n",
            "  inflating: ./data/test/blast/IMG_0708.jpg  \n",
            "  inflating: ./data/test/blast/IMG_0711.jpg  \n",
            "  inflating: ./data/test/blast/IMG_0713.jpg  \n",
            "  inflating: ./data/test/blast/IMG_0716.jpg  \n",
            "  inflating: ./data/test/blast/IMG_0717.jpg  \n",
            "  inflating: ./data/test/blast/IMG_0718.jpg  \n",
            "  inflating: ./data/test/blast/IMG_0720.jpg  \n",
            "  inflating: ./data/test/blast/IMG_0722.jpg  \n",
            "   creating: ./data/test/blight/\n",
            "  inflating: ./data/test/blight/IMG_1033.jpg  \n",
            "  inflating: ./data/test/blight/IMG_1034.jpg  \n",
            "  inflating: ./data/test/blight/IMG_1035.jpg  \n",
            "  inflating: ./data/test/blight/IMG_1036.jpg  \n",
            "  inflating: ./data/test/blight/IMG_1042.jpg  \n",
            "  inflating: ./data/test/blight/IMG_1043.jpg  \n",
            "  inflating: ./data/test/blight/IMG_1047.jpg  \n",
            "  inflating: ./data/test/blight/IMG_1055.jpg  \n",
            "  inflating: ./data/test/blight/IMG_1056.jpg  \n",
            "  inflating: ./data/test/blight/IMG_1057.jpg  \n",
            "  inflating: ./data/test/blight/IMG_1059.jpg  \n",
            "  inflating: ./data/test/blight/IMG_1063.jpg  \n",
            "  inflating: ./data/test/blight/IMG_1064.jpg  \n",
            "  inflating: ./data/test/blight/IMG_1065.jpg  \n",
            "  inflating: ./data/test/blight/IMG_1066.jpg  \n",
            "  inflating: ./data/test/blight/IMG_1068.jpg  \n",
            "  inflating: ./data/test/blight/IMG_1069.jpg  \n",
            "  inflating: ./data/test/blight/IMG_1071.jpg  \n",
            "  inflating: ./data/test/blight/IMG_1072.jpg  \n",
            "  inflating: ./data/test/blight/IMG_1075.jpg  \n",
            "   creating: ./data/test/tungro/\n",
            "  inflating: ./data/test/tungro/IMG_0891.jpg  \n",
            "  inflating: ./data/test/tungro/IMG_0895.jpg  \n",
            "  inflating: ./data/test/tungro/IMG_0896.jpg  \n",
            "  inflating: ./data/test/tungro/IMG_0897.jpg  \n",
            "  inflating: ./data/test/tungro/IMG_0898.jpg  \n",
            "  inflating: ./data/test/tungro/IMG_0899.jpg  \n",
            "  inflating: ./data/test/tungro/IMG_0900.jpg  \n",
            "  inflating: ./data/test/tungro/IMG_0901.jpg  \n",
            "  inflating: ./data/test/tungro/IMG_0902.jpg  \n",
            "  inflating: ./data/test/tungro/IMG_0903.jpg  \n",
            "  inflating: ./data/test/tungro/IMG_0904.jpg  \n",
            "  inflating: ./data/test/tungro/IMG_0906.jpg  \n",
            "  inflating: ./data/test/tungro/IMG_0907.jpg  \n",
            "  inflating: ./data/test/tungro/IMG_0911.jpg  \n",
            "  inflating: ./data/test/tungro/IMG_0912.jpg  \n",
            "  inflating: ./data/test/tungro/IMG_0913.jpg  \n",
            "  inflating: ./data/test/tungro/IMG_0916.jpg  \n",
            "  inflating: ./data/test/tungro/IMG_0917.jpg  \n",
            "  inflating: ./data/test/tungro/IMG_0923.jpg  \n",
            "  inflating: ./data/test/tungro/IMG_1028.jpg  \n",
            "   creating: ./data/train/\n",
            "   creating: ./data/train/blast/\n",
            "  inflating: ./data/train/blast/IMG_0448.jpg  \n",
            "  inflating: ./data/train/blast/IMG_0535.jpg  \n",
            "  inflating: ./data/train/blast/IMG_0536.jpg  \n",
            "  inflating: ./data/train/blast/IMG_0541.jpg  \n",
            "  inflating: ./data/train/blast/IMG_0543.jpg  \n",
            "  inflating: ./data/train/blast/IMG_0544.jpg  \n",
            "  inflating: ./data/train/blast/IMG_0545.jpg  \n",
            "  inflating: ./data/train/blast/IMG_0546.jpg  \n",
            "  inflating: ./data/train/blast/IMG_0547.jpg  \n",
            "  inflating: ./data/train/blast/IMG_0548.jpg  \n",
            "  inflating: ./data/train/blast/IMG_0549.jpg  \n",
            "  inflating: ./data/train/blast/IMG_0550.jpg  \n",
            "  inflating: ./data/train/blast/IMG_0551.jpg  \n",
            "  inflating: ./data/train/blast/IMG_0553.jpg  \n",
            "  inflating: ./data/train/blast/IMG_0557.jpg  \n",
            "  inflating: ./data/train/blast/IMG_0558.jpg  \n",
            "  inflating: ./data/train/blast/IMG_0559.jpg  \n",
            "  inflating: ./data/train/blast/IMG_0560.jpg  \n",
            "  inflating: ./data/train/blast/IMG_0561.jpg  \n",
            "  inflating: ./data/train/blast/IMG_0563.jpg  \n",
            "  inflating: ./data/train/blast/IMG_0566.jpg  \n",
            "  inflating: ./data/train/blast/IMG_0567.jpg  \n",
            "  inflating: ./data/train/blast/IMG_0569.jpg  \n",
            "  inflating: ./data/train/blast/IMG_0570.jpg  \n",
            "  inflating: ./data/train/blast/IMG_0571.jpg  \n",
            "  inflating: ./data/train/blast/IMG_0572.jpg  \n",
            "  inflating: ./data/train/blast/IMG_0575.jpg  \n",
            "  inflating: ./data/train/blast/IMG_0576.jpg  \n",
            "  inflating: ./data/train/blast/IMG_0594.jpg  \n",
            "  inflating: ./data/train/blast/IMG_0599.jpg  \n",
            "  inflating: ./data/train/blast/IMG_0602.jpg  \n",
            "  inflating: ./data/train/blast/IMG_0603.jpg  \n",
            "  inflating: ./data/train/blast/IMG_0604.jpg  \n",
            "  inflating: ./data/train/blast/IMG_0605.jpg  \n",
            "  inflating: ./data/train/blast/IMG_0607.jpg  \n",
            "  inflating: ./data/train/blast/IMG_0611.jpg  \n",
            "  inflating: ./data/train/blast/IMG_0612.jpg  \n",
            "  inflating: ./data/train/blast/IMG_0613.jpg  \n",
            "  inflating: ./data/train/blast/IMG_0622.jpg  \n",
            "  inflating: ./data/train/blast/IMG_0628.jpg  \n",
            "  inflating: ./data/train/blast/IMG_0630.jpg  \n",
            "  inflating: ./data/train/blast/IMG_0632.jpg  \n",
            "  inflating: ./data/train/blast/IMG_0633.jpg  \n",
            "  inflating: ./data/train/blast/IMG_0635.jpg  \n",
            "  inflating: ./data/train/blast/IMG_0636.jpg  \n",
            "  inflating: ./data/train/blast/IMG_0640.jpg  \n",
            "  inflating: ./data/train/blast/IMG_0641.jpg  \n",
            "  inflating: ./data/train/blast/IMG_0647.jpg  \n",
            "  inflating: ./data/train/blast/IMG_0648.jpg  \n",
            "  inflating: ./data/train/blast/IMG_0649.jpg  \n",
            "  inflating: ./data/train/blast/IMG_0650.jpg  \n",
            "  inflating: ./data/train/blast/IMG_0651.jpg  \n",
            "  inflating: ./data/train/blast/IMG_0652.jpg  \n",
            "  inflating: ./data/train/blast/IMG_0654.jpg  \n",
            "  inflating: ./data/train/blast/IMG_0656.jpg  \n",
            "  inflating: ./data/train/blast/IMG_0674.jpg  \n",
            "  inflating: ./data/train/blast/IMG_0675.jpg  \n",
            "  inflating: ./data/train/blast/IMG_0678.jpg  \n",
            "  inflating: ./data/train/blast/IMG_0680.jpg  \n",
            "  inflating: ./data/train/blast/IMG_0681.jpg  \n",
            "   creating: ./data/train/blight/\n",
            "  inflating: ./data/train/blight/IMG_0834.jpg  \n",
            "  inflating: ./data/train/blight/IMG_0936.jpg  \n",
            "  inflating: ./data/train/blight/IMG_0937.jpg  \n",
            "  inflating: ./data/train/blight/IMG_0938.jpg  \n",
            "  inflating: ./data/train/blight/IMG_0939.jpg  \n",
            "  inflating: ./data/train/blight/IMG_0941.jpg  \n",
            "  inflating: ./data/train/blight/IMG_0943.jpg  \n",
            "  inflating: ./data/train/blight/IMG_0944.jpg  \n",
            "  inflating: ./data/train/blight/IMG_0946.jpg  \n",
            "  inflating: ./data/train/blight/IMG_0947.jpg  \n",
            "  inflating: ./data/train/blight/IMG_0948.jpg  \n",
            "  inflating: ./data/train/blight/IMG_0949.jpg  \n",
            "  inflating: ./data/train/blight/IMG_0950.jpg  \n",
            "  inflating: ./data/train/blight/IMG_0952.jpg  \n",
            "  inflating: ./data/train/blight/IMG_0956.jpg  \n",
            "  inflating: ./data/train/blight/IMG_0959.jpg  \n",
            "  inflating: ./data/train/blight/IMG_0962.jpg  \n",
            "  inflating: ./data/train/blight/IMG_0964.jpg  \n",
            "  inflating: ./data/train/blight/IMG_0965.jpg  \n",
            "  inflating: ./data/train/blight/IMG_0966.jpg  \n",
            "  inflating: ./data/train/blight/IMG_0971.jpg  \n",
            "  inflating: ./data/train/blight/IMG_0972.jpg  \n",
            "  inflating: ./data/train/blight/IMG_0973.jpg  \n",
            "  inflating: ./data/train/blight/IMG_0976.jpg  \n",
            "  inflating: ./data/train/blight/IMG_0979.jpg  \n",
            "  inflating: ./data/train/blight/IMG_0982.jpg  \n",
            "  inflating: ./data/train/blight/IMG_0983.jpg  \n",
            "  inflating: ./data/train/blight/IMG_0984.jpg  \n",
            "  inflating: ./data/train/blight/IMG_0985.jpg  \n",
            "  inflating: ./data/train/blight/IMG_0986.jpg  \n",
            "  inflating: ./data/train/blight/IMG_0987.jpg  \n",
            "  inflating: ./data/train/blight/IMG_0990.jpg  \n",
            "  inflating: ./data/train/blight/IMG_0991.jpg  \n",
            "  inflating: ./data/train/blight/IMG_0992.jpg  \n",
            "  inflating: ./data/train/blight/IMG_0993.jpg  \n",
            "  inflating: ./data/train/blight/IMG_0998.jpg  \n",
            "  inflating: ./data/train/blight/IMG_0999.jpg  \n",
            "  inflating: ./data/train/blight/IMG_1001.jpg  \n",
            "  inflating: ./data/train/blight/IMG_1002.jpg  \n",
            "  inflating: ./data/train/blight/IMG_1003.jpg  \n",
            "  inflating: ./data/train/blight/IMG_1004.jpg  \n",
            "  inflating: ./data/train/blight/IMG_1008.jpg  \n",
            "  inflating: ./data/train/blight/IMG_1009.jpg  \n",
            "  inflating: ./data/train/blight/IMG_1010.jpg  \n",
            "  inflating: ./data/train/blight/IMG_1011.jpg  \n",
            "  inflating: ./data/train/blight/IMG_1012.jpg  \n",
            "  inflating: ./data/train/blight/IMG_1013.jpg  \n",
            "  inflating: ./data/train/blight/IMG_1014.jpg  \n",
            "  inflating: ./data/train/blight/IMG_1015.jpg  \n",
            "  inflating: ./data/train/blight/IMG_1016.jpg  \n",
            "  inflating: ./data/train/blight/IMG_1020.jpg  \n",
            "  inflating: ./data/train/blight/IMG_1021.jpg  \n",
            "  inflating: ./data/train/blight/IMG_1022.jpg  \n",
            "  inflating: ./data/train/blight/IMG_1023.jpg  \n",
            "  inflating: ./data/train/blight/IMG_1024.jpg  \n",
            "  inflating: ./data/train/blight/IMG_1026.jpg  \n",
            "  inflating: ./data/train/blight/IMG_1027.jpg  \n",
            "  inflating: ./data/train/blight/IMG_1029.jpg  \n",
            "  inflating: ./data/train/blight/IMG_1030.jpg  \n",
            "  inflating: ./data/train/blight/IMG_1031.jpg  \n",
            "   creating: ./data/train/tungro/\n",
            "  inflating: ./data/train/tungro/IMG_0399.jpg  \n",
            "  inflating: ./data/train/tungro/IMG_0400.jpg  \n",
            "  inflating: ./data/train/tungro/IMG_0414.jpg  \n",
            "  inflating: ./data/train/tungro/IMG_0432.jpg  \n",
            "  inflating: ./data/train/tungro/IMG_0581.jpg  \n",
            "  inflating: ./data/train/tungro/IMG_0582.jpg  \n",
            "  inflating: ./data/train/tungro/IMG_0583.jpg  \n",
            "  inflating: ./data/train/tungro/IMG_0584.jpg  \n",
            "  inflating: ./data/train/tungro/IMG_0614.jpg  \n",
            "  inflating: ./data/train/tungro/IMG_0615.jpg  \n",
            "  inflating: ./data/train/tungro/IMG_0688.jpg  \n",
            "  inflating: ./data/train/tungro/IMG_0689.jpg  \n",
            "  inflating: ./data/train/tungro/IMG_0706.jpg  \n",
            "  inflating: ./data/train/tungro/IMG_0714.jpg  \n",
            "  inflating: ./data/train/tungro/IMG_0715.jpg  \n",
            "  inflating: ./data/train/tungro/IMG_0823.jpg  \n",
            "  inflating: ./data/train/tungro/IMG_0824.jpg  \n",
            "  inflating: ./data/train/tungro/IMG_0825.jpg  \n",
            "  inflating: ./data/train/tungro/IMG_0826.jpg  \n",
            "  inflating: ./data/train/tungro/IMG_0827.jpg  \n",
            "  inflating: ./data/train/tungro/IMG_0832.jpg  \n",
            "  inflating: ./data/train/tungro/IMG_0833.jpg  \n",
            "  inflating: ./data/train/tungro/IMG_0836.jpg  \n",
            "  inflating: ./data/train/tungro/IMG_0844.jpg  \n",
            "  inflating: ./data/train/tungro/IMG_0845.jpg  \n",
            "  inflating: ./data/train/tungro/IMG_0846.jpg  \n",
            "  inflating: ./data/train/tungro/IMG_0847.jpg  \n",
            "  inflating: ./data/train/tungro/IMG_0848.jpg  \n",
            "  inflating: ./data/train/tungro/IMG_0849.jpg  \n",
            "  inflating: ./data/train/tungro/IMG_0850.jpg  \n",
            "  inflating: ./data/train/tungro/IMG_0851.jpg  \n",
            "  inflating: ./data/train/tungro/IMG_0852.jpg  \n",
            "  inflating: ./data/train/tungro/IMG_0853.jpg  \n",
            "  inflating: ./data/train/tungro/IMG_0854.jpg  \n",
            "  inflating: ./data/train/tungro/IMG_0855.jpg  \n",
            "  inflating: ./data/train/tungro/IMG_0857.jpg  \n",
            "  inflating: ./data/train/tungro/IMG_0858.jpg  \n",
            "  inflating: ./data/train/tungro/IMG_0859.jpg  \n",
            "  inflating: ./data/train/tungro/IMG_0860.jpg  \n",
            "  inflating: ./data/train/tungro/IMG_0861.jpg  \n",
            "  inflating: ./data/train/tungro/IMG_0864.jpg  \n",
            "  inflating: ./data/train/tungro/IMG_0865.jpg  \n",
            "  inflating: ./data/train/tungro/IMG_0866.jpg  \n",
            "  inflating: ./data/train/tungro/IMG_0867.jpg  \n",
            "  inflating: ./data/train/tungro/IMG_0868.jpg  \n",
            "  inflating: ./data/train/tungro/IMG_0869.jpg  \n",
            "  inflating: ./data/train/tungro/IMG_0872.jpg  \n",
            "  inflating: ./data/train/tungro/IMG_0876.jpg  \n",
            "  inflating: ./data/train/tungro/IMG_0878.jpg  \n",
            "  inflating: ./data/train/tungro/IMG_0879.jpg  \n",
            "  inflating: ./data/train/tungro/IMG_0880.jpg  \n",
            "  inflating: ./data/train/tungro/IMG_0881.jpg  \n",
            "  inflating: ./data/train/tungro/IMG_0882.jpg  \n",
            "  inflating: ./data/train/tungro/IMG_0883.jpg  \n",
            "  inflating: ./data/train/tungro/IMG_0885.jpg  \n",
            "  inflating: ./data/train/tungro/IMG_0886.jpg  \n",
            "  inflating: ./data/train/tungro/IMG_0887.jpg  \n",
            "  inflating: ./data/train/tungro/IMG_0888.jpg  \n",
            "  inflating: ./data/train/tungro/IMG_0889.jpg  \n",
            "  inflating: ./data/train/tungro/IMG_0890.jpg  \n"
          ],
          "name": "stdout"
        }
      ]
    },
    {
      "cell_type": "code",
      "metadata": {
        "id": "868MMwKQtqui",
        "execution": {
          "iopub.status.busy": "2021-05-24T17:45:45.000002Z",
          "iopub.execute_input": "2021-05-24T17:45:45.000331Z",
          "iopub.status.idle": "2021-05-24T17:45:45.163309Z",
          "shell.execute_reply.started": "2021-05-24T17:45:45.000302Z",
          "shell.execute_reply": "2021-05-24T17:45:45.162315Z"
        },
        "trusted": true,
        "colab": {
          "base_uri": "https://localhost:8080/"
        },
        "outputId": "d686a5ae-3c1c-4776-8ee2-675f08dff614"
      },
      "source": [
        "# %cd /content\n",
        "train_dataset, _, test_dataset = ImagePredictor.Dataset.from_folders('/content/data')\n",
        "print(train_dataset)\n",
        "print(test_dataset)"
      ],
      "execution_count": 5,
      "outputs": [
        {
          "output_type": "stream",
          "text": [
            "                                       image  label\n",
            "0     /content/data/train/blast/IMG_0448.jpg      0\n",
            "1     /content/data/train/blast/IMG_0535.jpg      0\n",
            "2     /content/data/train/blast/IMG_0536.jpg      0\n",
            "3     /content/data/train/blast/IMG_0541.jpg      0\n",
            "4     /content/data/train/blast/IMG_0543.jpg      0\n",
            "..                                       ...    ...\n",
            "175  /content/data/train/tungro/IMG_0886.jpg      2\n",
            "176  /content/data/train/tungro/IMG_0887.jpg      2\n",
            "177  /content/data/train/tungro/IMG_0888.jpg      2\n",
            "178  /content/data/train/tungro/IMG_0889.jpg      2\n",
            "179  /content/data/train/tungro/IMG_0890.jpg      2\n",
            "\n",
            "[180 rows x 2 columns]\n",
            "                                     image  label\n",
            "0    /content/data/test/blast/IMG_0682.jpg      0\n",
            "1    /content/data/test/blast/IMG_0684.jpg      0\n",
            "2    /content/data/test/blast/IMG_0687.jpg      0\n",
            "3    /content/data/test/blast/IMG_0691.jpg      0\n",
            "4    /content/data/test/blast/IMG_0692.jpg      0\n",
            "5    /content/data/test/blast/IMG_0694.jpg      0\n",
            "6    /content/data/test/blast/IMG_0695.jpg      0\n",
            "7    /content/data/test/blast/IMG_0698.jpg      0\n",
            "8    /content/data/test/blast/IMG_0701.jpg      0\n",
            "9    /content/data/test/blast/IMG_0704.jpg      0\n",
            "10   /content/data/test/blast/IMG_0705.jpg      0\n",
            "11   /content/data/test/blast/IMG_0707.jpg      0\n",
            "12   /content/data/test/blast/IMG_0708.jpg      0\n",
            "13   /content/data/test/blast/IMG_0711.jpg      0\n",
            "14   /content/data/test/blast/IMG_0713.jpg      0\n",
            "15   /content/data/test/blast/IMG_0716.jpg      0\n",
            "16   /content/data/test/blast/IMG_0717.jpg      0\n",
            "17   /content/data/test/blast/IMG_0718.jpg      0\n",
            "18   /content/data/test/blast/IMG_0720.jpg      0\n",
            "19   /content/data/test/blast/IMG_0722.jpg      0\n",
            "20  /content/data/test/blight/IMG_1033.jpg      1\n",
            "21  /content/data/test/blight/IMG_1034.jpg      1\n",
            "22  /content/data/test/blight/IMG_1035.jpg      1\n",
            "23  /content/data/test/blight/IMG_1036.jpg      1\n",
            "24  /content/data/test/blight/IMG_1042.jpg      1\n",
            "25  /content/data/test/blight/IMG_1043.jpg      1\n",
            "26  /content/data/test/blight/IMG_1047.jpg      1\n",
            "27  /content/data/test/blight/IMG_1055.jpg      1\n",
            "28  /content/data/test/blight/IMG_1056.jpg      1\n",
            "29  /content/data/test/blight/IMG_1057.jpg      1\n",
            "30  /content/data/test/blight/IMG_1059.jpg      1\n",
            "31  /content/data/test/blight/IMG_1063.jpg      1\n",
            "32  /content/data/test/blight/IMG_1064.jpg      1\n",
            "33  /content/data/test/blight/IMG_1065.jpg      1\n",
            "34  /content/data/test/blight/IMG_1066.jpg      1\n",
            "35  /content/data/test/blight/IMG_1068.jpg      1\n",
            "36  /content/data/test/blight/IMG_1069.jpg      1\n",
            "37  /content/data/test/blight/IMG_1071.jpg      1\n",
            "38  /content/data/test/blight/IMG_1072.jpg      1\n",
            "39  /content/data/test/blight/IMG_1075.jpg      1\n",
            "40  /content/data/test/tungro/IMG_0891.jpg      2\n",
            "41  /content/data/test/tungro/IMG_0895.jpg      2\n",
            "42  /content/data/test/tungro/IMG_0896.jpg      2\n",
            "43  /content/data/test/tungro/IMG_0897.jpg      2\n",
            "44  /content/data/test/tungro/IMG_0898.jpg      2\n",
            "45  /content/data/test/tungro/IMG_0899.jpg      2\n",
            "46  /content/data/test/tungro/IMG_0900.jpg      2\n",
            "47  /content/data/test/tungro/IMG_0901.jpg      2\n",
            "48  /content/data/test/tungro/IMG_0902.jpg      2\n",
            "49  /content/data/test/tungro/IMG_0903.jpg      2\n",
            "50  /content/data/test/tungro/IMG_0904.jpg      2\n",
            "51  /content/data/test/tungro/IMG_0906.jpg      2\n",
            "52  /content/data/test/tungro/IMG_0907.jpg      2\n",
            "53  /content/data/test/tungro/IMG_0911.jpg      2\n",
            "54  /content/data/test/tungro/IMG_0912.jpg      2\n",
            "55  /content/data/test/tungro/IMG_0913.jpg      2\n",
            "56  /content/data/test/tungro/IMG_0916.jpg      2\n",
            "57  /content/data/test/tungro/IMG_0917.jpg      2\n",
            "58  /content/data/test/tungro/IMG_0923.jpg      2\n",
            "59  /content/data/test/tungro/IMG_1028.jpg      2\n"
          ],
          "name": "stdout"
        }
      ]
    },
    {
      "source": [
        "# Build a classifier and Fit\n",
        "\n",
        "AutoGluon이 Imgage classification에 적합한 모델을 탐색한다.\n",
        "\n",
        "코드가 간단한 것이 AutoML의 큰 장점인데, 모델 설계와 학습을 단 두 줄에 끝냈다.\n",
        "\n",
        "시간과 자원을 고려해 최대 탐색 시간은 30분으로 제한했다.\n",
        "\n",
        "기본적으로 fit() 메소드에서 verbose를 지원한다.\n",
        "\n",
        "실시간으로 얼마나 어떻게 학습했는지, 하이퍼파라메터가 얼마나 달라지는지 확인할 수 있었다."
      ],
      "cell_type": "markdown",
      "metadata": {}
    },
    {
      "cell_type": "code",
      "metadata": {
        "id": "UznuAZB_7nV5",
        "execution": {
          "iopub.status.busy": "2021-05-24T17:58:21.888887Z",
          "iopub.execute_input": "2021-05-24T17:58:21.889234Z",
          "iopub.status.idle": "2021-05-24T18:00:25.586512Z",
          "shell.execute_reply.started": "2021-05-24T17:58:21.889205Z",
          "shell.execute_reply": "2021-05-24T18:00:25.584526Z"
        },
        "trusted": true,
        "colab": {
          "base_uri": "https://localhost:8080/",
          "height": 1000,
          "referenced_widgets": [
            "550bb7f88f384fe4a79ee00de5939833",
            "216baa699499486888ca5c2339e49175",
            "8e23e333b3274e32a220851825e95bf4",
            "e607dc5fa998433894486cf199df2714",
            "c3db9ba919774f879db7e8132b164f05",
            "689e23b86e6c4c95bca516e7bbded852",
            "5baee70b8f90408ab43500f4ebdd1f54",
            "1b53345705274d0c92a501beef16bc33"
          ]
        },
        "outputId": "9a32b9d7-d43f-410b-947e-4b809a12a33f"
      },
      "source": [
        "predictor = ImagePredictor(path='/content/checkpoint')\n",
        "# since the original dataset does not provide validation split, the `fit` function splits it randomly with 90/10 ratio\n",
        "predictor.fit(train_dataset, time_limit=1800, hyperparameters={'epochs': 20}, hyperparameter_tune_kwargs={'num_trials':3})  # you can trust the default config, we reduce the # epoch to save some build time"
      ],
      "execution_count": 46,
      "outputs": [
        {
          "output_type": "stream",
          "text": [
            "INFO:root:Reset labels to [0, 1, 2]\n",
            "WARNING:gluoncv.auto.tasks.image_classification:The number of requested GPUs is greater than the number of available GPUs.Reduce the number to 1\n",
            "INFO:gluoncv.auto.tasks.image_classification:Randomly split train_data into train[170]/validation[10] splits.\n",
            "INFO:gluoncv.auto.tasks.image_classification:Starting HPO experiments\n"
          ],
          "name": "stderr"
        },
        {
          "output_type": "display_data",
          "data": {
            "application/vnd.jupyter.widget-view+json": {
              "model_id": "550bb7f88f384fe4a79ee00de5939833",
              "version_minor": 0,
              "version_major": 2
            },
            "text/plain": [
              "HBox(children=(FloatProgress(value=0.0, max=3.0), HTML(value='')))"
            ]
          },
          "metadata": {
            "tags": []
          }
        },
        {
          "output_type": "stream",
          "text": [
            "INFO:ImageClassificationEstimator:modified configs(<old> != <new>): {\n",
            "INFO:ImageClassificationEstimator:root.img_cls.model   resnet50_v1 != resnet50_v1b\n",
            "INFO:ImageClassificationEstimator:root.valid.num_workers 4 != 0\n",
            "INFO:ImageClassificationEstimator:root.valid.batch_size 128 != 16\n",
            "INFO:ImageClassificationEstimator:root.train.lr        0.1 != 0.01\n",
            "INFO:ImageClassificationEstimator:root.train.rec_val_idx ~/.mxnet/datasets/imagenet/rec/val.idx != auto\n",
            "INFO:ImageClassificationEstimator:root.train.num_workers 4 != 0\n",
            "INFO:ImageClassificationEstimator:root.train.batch_size 128 != 16\n",
            "INFO:ImageClassificationEstimator:root.train.rec_train_idx ~/.mxnet/datasets/imagenet/rec/train.idx != auto\n",
            "INFO:ImageClassificationEstimator:root.train.data_dir  ~/.mxnet/datasets/imagenet != auto\n",
            "INFO:ImageClassificationEstimator:root.train.epochs    10 != 20\n",
            "INFO:ImageClassificationEstimator:root.train.early_stop_patience -1 != 10\n",
            "INFO:ImageClassificationEstimator:root.train.rec_val   ~/.mxnet/datasets/imagenet/rec/val.rec != auto\n",
            "INFO:ImageClassificationEstimator:root.train.early_stop_max_value 1.0 != inf\n",
            "INFO:ImageClassificationEstimator:root.train.rec_train ~/.mxnet/datasets/imagenet/rec/train.rec != auto\n",
            "INFO:ImageClassificationEstimator:root.train.num_training_samples 1281167 != -1\n",
            "INFO:ImageClassificationEstimator:root.train.early_stop_baseline 0.0 != -inf\n",
            "INFO:ImageClassificationEstimator:}\n",
            "INFO:ImageClassificationEstimator:Saved config to /content/checkpoint/290420f5/.trial_0/config.yaml\n",
            "INFO:ImageClassificationEstimator:Start training from [Epoch 0]\n",
            "INFO:ImageClassificationEstimator:[Epoch 0] training: accuracy=0.431818\n",
            "INFO:ImageClassificationEstimator:[Epoch 0] speed: 16 samples/sec\ttime cost: 16.841885\n",
            "INFO:ImageClassificationEstimator:[Epoch 0] validation: top1=0.344444 top5=1.000000\n",
            "INFO:ImageClassificationEstimator:[Epoch 0] Current best top-1: 0.344444 vs previous 0.000000, saved to /content/checkpoint/290420f5/.trial_0/best_checkpoint.pkl\n",
            "INFO:ImageClassificationEstimator:[Epoch 1] training: accuracy=0.619318\n",
            "INFO:ImageClassificationEstimator:[Epoch 1] speed: 15 samples/sec\ttime cost: 17.681376\n",
            "INFO:ImageClassificationEstimator:[Epoch 1] validation: top1=0.694444 top5=1.000000\n",
            "INFO:ImageClassificationEstimator:[Epoch 1] Current best top-1: 0.694444 vs previous 0.344444, saved to /content/checkpoint/290420f5/.trial_0/best_checkpoint.pkl\n",
            "INFO:ImageClassificationEstimator:[Epoch 2] training: accuracy=0.755682\n",
            "INFO:ImageClassificationEstimator:[Epoch 2] speed: 15 samples/sec\ttime cost: 17.786516\n",
            "INFO:ImageClassificationEstimator:[Epoch 2] validation: top1=0.794444 top5=1.000000\n",
            "INFO:ImageClassificationEstimator:[Epoch 2] Current best top-1: 0.794444 vs previous 0.694444, saved to /content/checkpoint/290420f5/.trial_0/best_checkpoint.pkl\n",
            "INFO:ImageClassificationEstimator:[Epoch 3] training: accuracy=0.835227\n",
            "INFO:ImageClassificationEstimator:[Epoch 3] speed: 15 samples/sec\ttime cost: 17.257635\n",
            "INFO:ImageClassificationEstimator:[Epoch 3] validation: top1=0.872222 top5=1.000000\n",
            "INFO:ImageClassificationEstimator:[Epoch 3] Current best top-1: 0.872222 vs previous 0.794444, saved to /content/checkpoint/290420f5/.trial_0/best_checkpoint.pkl\n",
            "INFO:ImageClassificationEstimator:[Epoch 4] training: accuracy=0.880682\n",
            "INFO:ImageClassificationEstimator:[Epoch 4] speed: 15 samples/sec\ttime cost: 16.994815\n",
            "INFO:ImageClassificationEstimator:[Epoch 4] validation: top1=0.905556 top5=1.000000\n",
            "INFO:ImageClassificationEstimator:[Epoch 4] Current best top-1: 0.905556 vs previous 0.872222, saved to /content/checkpoint/290420f5/.trial_0/best_checkpoint.pkl\n",
            "INFO:ImageClassificationEstimator:[Epoch 5] training: accuracy=0.846591\n",
            "INFO:ImageClassificationEstimator:[Epoch 5] speed: 15 samples/sec\ttime cost: 17.119949\n",
            "INFO:ImageClassificationEstimator:[Epoch 5] validation: top1=0.933333 top5=1.000000\n",
            "INFO:ImageClassificationEstimator:[Epoch 5] Current best top-1: 0.933333 vs previous 0.905556, saved to /content/checkpoint/290420f5/.trial_0/best_checkpoint.pkl\n",
            "INFO:ImageClassificationEstimator:[Epoch 6] training: accuracy=0.846591\n",
            "INFO:ImageClassificationEstimator:[Epoch 6] speed: 15 samples/sec\ttime cost: 17.001842\n",
            "INFO:ImageClassificationEstimator:[Epoch 6] validation: top1=0.933333 top5=1.000000\n",
            "INFO:ImageClassificationEstimator:[Epoch 7] training: accuracy=0.869318\n",
            "INFO:ImageClassificationEstimator:[Epoch 7] speed: 16 samples/sec\ttime cost: 16.752658\n",
            "INFO:ImageClassificationEstimator:[Epoch 7] validation: top1=0.977778 top5=1.000000\n",
            "INFO:ImageClassificationEstimator:[Epoch 7] Current best top-1: 0.977778 vs previous 0.933333, saved to /content/checkpoint/290420f5/.trial_0/best_checkpoint.pkl\n",
            "INFO:ImageClassificationEstimator:[Epoch 8] training: accuracy=0.903409\n",
            "INFO:ImageClassificationEstimator:[Epoch 8] speed: 15 samples/sec\ttime cost: 17.287717\n",
            "INFO:ImageClassificationEstimator:[Epoch 8] validation: top1=0.972222 top5=1.000000\n",
            "INFO:ImageClassificationEstimator:[Epoch 9] training: accuracy=0.931818\n",
            "INFO:ImageClassificationEstimator:[Epoch 9] speed: 15 samples/sec\ttime cost: 17.026635\n",
            "INFO:ImageClassificationEstimator:[Epoch 9] validation: top1=0.994444 top5=1.000000\n",
            "INFO:ImageClassificationEstimator:[Epoch 9] Current best top-1: 0.994444 vs previous 0.977778, saved to /content/checkpoint/290420f5/.trial_0/best_checkpoint.pkl\n",
            "INFO:ImageClassificationEstimator:[Epoch 10] training: accuracy=0.937500\n",
            "INFO:ImageClassificationEstimator:[Epoch 10] speed: 15 samples/sec\ttime cost: 17.170956\n",
            "INFO:ImageClassificationEstimator:[Epoch 10] validation: top1=0.988889 top5=1.000000\n",
            "INFO:ImageClassificationEstimator:[Epoch 11] training: accuracy=0.920455\n",
            "INFO:ImageClassificationEstimator:[Epoch 11] speed: 15 samples/sec\ttime cost: 16.838185\n",
            "INFO:ImageClassificationEstimator:[Epoch 11] validation: top1=0.972222 top5=1.000000\n",
            "INFO:ImageClassificationEstimator:[Epoch 12] training: accuracy=0.897727\n",
            "INFO:ImageClassificationEstimator:[Epoch 12] speed: 15 samples/sec\ttime cost: 16.791143\n",
            "INFO:ImageClassificationEstimator:[Epoch 12] validation: top1=0.994444 top5=1.000000\n",
            "INFO:ImageClassificationEstimator:[Epoch 13] training: accuracy=0.892045\n",
            "INFO:ImageClassificationEstimator:[Epoch 13] speed: 16 samples/sec\ttime cost: 16.651705\n",
            "INFO:ImageClassificationEstimator:[Epoch 13] validation: top1=0.983333 top5=1.000000\n",
            "INFO:ImageClassificationEstimator:[Epoch 14] training: accuracy=0.869318\n",
            "INFO:ImageClassificationEstimator:[Epoch 14] speed: 16 samples/sec\ttime cost: 16.687179\n",
            "INFO:ImageClassificationEstimator:[Epoch 14] validation: top1=0.988889 top5=1.000000\n",
            "INFO:ImageClassificationEstimator:[Epoch 15] training: accuracy=0.931818\n",
            "INFO:ImageClassificationEstimator:[Epoch 15] speed: 15 samples/sec\ttime cost: 17.140297\n",
            "INFO:ImageClassificationEstimator:[Epoch 15] validation: top1=0.977778 top5=1.000000\n",
            "INFO:ImageClassificationEstimator:[Epoch 16] training: accuracy=0.948864\n",
            "INFO:ImageClassificationEstimator:[Epoch 16] speed: 15 samples/sec\ttime cost: 16.826424\n",
            "INFO:ImageClassificationEstimator:[Epoch 16] validation: top1=0.983333 top5=1.000000\n",
            "INFO:ImageClassificationEstimator:[Epoch 17] training: accuracy=0.948864\n",
            "INFO:ImageClassificationEstimator:[Epoch 17] speed: 16 samples/sec\ttime cost: 16.604295\n",
            "INFO:ImageClassificationEstimator:[Epoch 17] validation: top1=0.983333 top5=1.000000\n",
            "INFO:ImageClassificationEstimator:[Epoch 18] training: accuracy=0.948864\n",
            "INFO:ImageClassificationEstimator:[Epoch 18] speed: 16 samples/sec\ttime cost: 16.849168\n",
            "INFO:ImageClassificationEstimator:[Epoch 18] validation: top1=0.994444 top5=1.000000\n",
            "INFO:ImageClassificationEstimator:[Epoch 19] training: accuracy=0.948864\n",
            "INFO:ImageClassificationEstimator:[Epoch 19] speed: 15 samples/sec\ttime cost: 17.106508\n",
            "INFO:ImageClassificationEstimator:[Epoch 19] validation: top1=0.994444 top5=1.000000\n",
            "INFO:ImageClassificationEstimator:Applying the state from the best checkpoint...\n",
            "INFO:autogluon.core.scheduler.seq_scheduler:\tMax reward is reached\n",
            "INFO:ImageClassificationEstimator:modified configs(<old> != <new>): {\n",
            "INFO:ImageClassificationEstimator:root.img_cls.model   resnet50_v1 != resnet50_v1b\n",
            "INFO:ImageClassificationEstimator:root.valid.num_workers 4 != 0\n",
            "INFO:ImageClassificationEstimator:root.valid.batch_size 128 != 16\n",
            "INFO:ImageClassificationEstimator:root.train.lr        0.1 != 0.01\n",
            "INFO:ImageClassificationEstimator:root.train.rec_val_idx ~/.mxnet/datasets/imagenet/rec/val.idx != auto\n",
            "INFO:ImageClassificationEstimator:root.train.num_workers 4 != 0\n",
            "INFO:ImageClassificationEstimator:root.train.batch_size 128 != 16\n",
            "INFO:ImageClassificationEstimator:root.train.rec_train_idx ~/.mxnet/datasets/imagenet/rec/train.idx != auto\n",
            "INFO:ImageClassificationEstimator:root.train.data_dir  ~/.mxnet/datasets/imagenet != auto\n",
            "INFO:ImageClassificationEstimator:root.train.epochs    10 != 20\n",
            "INFO:ImageClassificationEstimator:root.train.early_stop_patience -1 != 10\n",
            "INFO:ImageClassificationEstimator:root.train.rec_val   ~/.mxnet/datasets/imagenet/rec/val.rec != auto\n",
            "INFO:ImageClassificationEstimator:root.train.early_stop_max_value 1.0 != inf\n",
            "INFO:ImageClassificationEstimator:root.train.rec_train ~/.mxnet/datasets/imagenet/rec/train.rec != auto\n",
            "INFO:ImageClassificationEstimator:root.train.num_training_samples 1281167 != -1\n",
            "INFO:ImageClassificationEstimator:root.train.early_stop_baseline 0.0 != -inf\n",
            "INFO:ImageClassificationEstimator:}\n",
            "INFO:ImageClassificationEstimator:Saved config to /content/checkpoint/290420f5/.trial_0/config.yaml\n",
            "INFO:ImageClassificationEstimator:Start training from [Epoch 0]\n",
            "INFO:ImageClassificationEstimator:[Epoch 0] training: accuracy=0.403409\n",
            "INFO:ImageClassificationEstimator:[Epoch 0] speed: 15 samples/sec\ttime cost: 17.355078\n",
            "INFO:ImageClassificationEstimator:[Epoch 0] validation: top1=0.622222 top5=1.000000\n",
            "INFO:ImageClassificationEstimator:[Epoch 0] Current best top-1: 0.622222 vs previous 0.000000, saved to /content/checkpoint/290420f5/.trial_0/best_checkpoint.pkl\n",
            "INFO:ImageClassificationEstimator:[Epoch 1] training: accuracy=0.613636\n",
            "INFO:ImageClassificationEstimator:[Epoch 1] speed: 15 samples/sec\ttime cost: 17.575073\n",
            "INFO:ImageClassificationEstimator:[Epoch 1] validation: top1=0.688889 top5=1.000000\n",
            "INFO:ImageClassificationEstimator:[Epoch 1] Current best top-1: 0.688889 vs previous 0.622222, saved to /content/checkpoint/290420f5/.trial_0/best_checkpoint.pkl\n",
            "INFO:ImageClassificationEstimator:[Epoch 2] training: accuracy=0.715909\n",
            "INFO:ImageClassificationEstimator:[Epoch 2] speed: 15 samples/sec\ttime cost: 17.725875\n",
            "INFO:ImageClassificationEstimator:[Epoch 2] validation: top1=0.761111 top5=1.000000\n",
            "INFO:ImageClassificationEstimator:[Epoch 2] Current best top-1: 0.761111 vs previous 0.688889, saved to /content/checkpoint/290420f5/.trial_0/best_checkpoint.pkl\n",
            "INFO:ImageClassificationEstimator:[Epoch 3] training: accuracy=0.732955\n",
            "INFO:ImageClassificationEstimator:[Epoch 3] speed: 15 samples/sec\ttime cost: 17.643529\n",
            "INFO:ImageClassificationEstimator:[Epoch 3] validation: top1=0.872222 top5=1.000000\n",
            "INFO:ImageClassificationEstimator:[Epoch 3] Current best top-1: 0.872222 vs previous 0.761111, saved to /content/checkpoint/290420f5/.trial_0/best_checkpoint.pkl\n",
            "INFO:ImageClassificationEstimator:[Epoch 4] training: accuracy=0.801136\n",
            "INFO:ImageClassificationEstimator:[Epoch 4] speed: 15 samples/sec\ttime cost: 17.935485\n",
            "INFO:ImageClassificationEstimator:[Epoch 4] validation: top1=0.877778 top5=1.000000\n",
            "INFO:ImageClassificationEstimator:[Epoch 4] Current best top-1: 0.877778 vs previous 0.872222, saved to /content/checkpoint/290420f5/.trial_0/best_checkpoint.pkl\n",
            "INFO:ImageClassificationEstimator:[Epoch 5] training: accuracy=0.818182\n",
            "INFO:ImageClassificationEstimator:[Epoch 5] speed: 15 samples/sec\ttime cost: 17.697398\n",
            "INFO:ImageClassificationEstimator:[Epoch 5] validation: top1=0.927778 top5=1.000000\n",
            "INFO:ImageClassificationEstimator:[Epoch 5] Current best top-1: 0.927778 vs previous 0.877778, saved to /content/checkpoint/290420f5/.trial_0/best_checkpoint.pkl\n",
            "INFO:ImageClassificationEstimator:[Epoch 6] training: accuracy=0.875000\n",
            "INFO:ImageClassificationEstimator:[Epoch 6] speed: 15 samples/sec\ttime cost: 17.732963\n",
            "INFO:ImageClassificationEstimator:[Epoch 6] validation: top1=0.927778 top5=1.000000\n",
            "INFO:ImageClassificationEstimator:[Epoch 7] training: accuracy=0.869318\n",
            "INFO:ImageClassificationEstimator:[Epoch 7] speed: 15 samples/sec\ttime cost: 17.835963\n",
            "INFO:ImageClassificationEstimator:[Epoch 7] validation: top1=0.950000 top5=1.000000\n",
            "INFO:ImageClassificationEstimator:[Epoch 7] Current best top-1: 0.950000 vs previous 0.927778, saved to /content/checkpoint/290420f5/.trial_0/best_checkpoint.pkl\n",
            "INFO:ImageClassificationEstimator:[Epoch 8] training: accuracy=0.897727\n",
            "INFO:ImageClassificationEstimator:[Epoch 8] speed: 14 samples/sec\ttime cost: 18.235873\n",
            "INFO:ImageClassificationEstimator:[Epoch 8] validation: top1=0.966667 top5=1.000000\n",
            "INFO:ImageClassificationEstimator:[Epoch 8] Current best top-1: 0.966667 vs previous 0.950000, saved to /content/checkpoint/290420f5/.trial_0/best_checkpoint.pkl\n",
            "INFO:ImageClassificationEstimator:[Epoch 9] training: accuracy=0.914773\n",
            "INFO:ImageClassificationEstimator:[Epoch 9] speed: 15 samples/sec\ttime cost: 18.281674\n",
            "INFO:ImageClassificationEstimator:[Epoch 9] validation: top1=0.950000 top5=1.000000\n",
            "INFO:ImageClassificationEstimator:[Epoch 10] training: accuracy=0.909091\n",
            "INFO:ImageClassificationEstimator:[Epoch 10] speed: 15 samples/sec\ttime cost: 18.112644\n",
            "INFO:ImageClassificationEstimator:[Epoch 10] validation: top1=0.977778 top5=1.000000\n",
            "INFO:ImageClassificationEstimator:[Epoch 10] Current best top-1: 0.977778 vs previous 0.966667, saved to /content/checkpoint/290420f5/.trial_0/best_checkpoint.pkl\n",
            "INFO:ImageClassificationEstimator:[Epoch 11] training: accuracy=0.914773\n",
            "INFO:ImageClassificationEstimator:[Epoch 11] speed: 14 samples/sec\ttime cost: 18.495639\n",
            "INFO:ImageClassificationEstimator:[Epoch 11] validation: top1=0.983333 top5=1.000000\n",
            "INFO:ImageClassificationEstimator:[Epoch 11] Current best top-1: 0.983333 vs previous 0.977778, saved to /content/checkpoint/290420f5/.trial_0/best_checkpoint.pkl\n",
            "INFO:ImageClassificationEstimator:[Epoch 12] training: accuracy=0.920455\n",
            "INFO:ImageClassificationEstimator:[Epoch 12] speed: 14 samples/sec\ttime cost: 18.407676\n",
            "INFO:ImageClassificationEstimator:[Epoch 12] validation: top1=0.983333 top5=1.000000\n",
            "INFO:ImageClassificationEstimator:[Epoch 13] training: accuracy=0.903409\n",
            "INFO:ImageClassificationEstimator:[Epoch 13] speed: 14 samples/sec\ttime cost: 17.935371\n",
            "INFO:ImageClassificationEstimator:[Epoch 13] validation: top1=0.966667 top5=1.000000\n",
            "INFO:ImageClassificationEstimator:[Epoch 14] training: accuracy=0.931818\n",
            "INFO:ImageClassificationEstimator:[Epoch 14] speed: 15 samples/sec\ttime cost: 17.392817\n",
            "INFO:ImageClassificationEstimator:[Epoch 14] validation: top1=0.950000 top5=1.000000\n",
            "INFO:ImageClassificationEstimator:[Epoch 15] training: accuracy=0.926136\n",
            "INFO:ImageClassificationEstimator:[Epoch 15] speed: 15 samples/sec\ttime cost: 16.988555\n",
            "INFO:ImageClassificationEstimator:[Epoch 15] validation: top1=0.972222 top5=1.000000\n",
            "INFO:ImageClassificationEstimator:[Epoch 16] training: accuracy=0.948864\n",
            "INFO:ImageClassificationEstimator:[Epoch 16] speed: 15 samples/sec\ttime cost: 17.076458\n",
            "INFO:ImageClassificationEstimator:[Epoch 16] validation: top1=0.972222 top5=1.000000\n",
            "INFO:ImageClassificationEstimator:[Epoch 17] training: accuracy=0.960227\n",
            "INFO:ImageClassificationEstimator:[Epoch 17] speed: 15 samples/sec\ttime cost: 17.445969\n",
            "INFO:ImageClassificationEstimator:[Epoch 17] validation: top1=0.977778 top5=1.000000\n",
            "INFO:ImageClassificationEstimator:[Epoch 18] training: accuracy=0.931818\n",
            "INFO:ImageClassificationEstimator:[Epoch 18] speed: 15 samples/sec\ttime cost: 17.212697\n",
            "INFO:ImageClassificationEstimator:[Epoch 18] validation: top1=0.983333 top5=1.000000\n",
            "INFO:ImageClassificationEstimator:[Epoch 19] training: accuracy=0.965909\n",
            "INFO:ImageClassificationEstimator:[Epoch 19] speed: 15 samples/sec\ttime cost: 17.299458\n",
            "INFO:ImageClassificationEstimator:[Epoch 19] validation: top1=0.977778 top5=1.000000\n",
            "INFO:ImageClassificationEstimator:Applying the state from the best checkpoint...\n",
            "INFO:autogluon.core.scheduler.seq_scheduler:Saving Training Curve in checkpoint/plot_training_curves.png\n"
          ],
          "name": "stderr"
        },
        {
          "output_type": "display_data",
          "data": {
            "image/png": "[encoded data removed]",
            "text/plain": [
              "<Figure size 432x288 with 1 Axes>"
            ]
          },
          "metadata": {
            "tags": [],
            "needs_background": "light"
          }
        },
        {
          "output_type": "stream",
          "text": [
            "INFO:gluoncv.auto.tasks.image_classification:Finished, total runtime is 759.32 s\n",
            "INFO:gluoncv.auto.tasks.image_classification:{ 'best_config': { 'estimator': <class 'gluoncv.auto.estimators.image_classification.image_classification.ImageClassificationEstimator'>,\n",
            "                   'gpus': [0],\n",
            "                   'img_cls': { 'batch_norm': False,\n",
            "                                'last_gamma': False,\n",
            "                                'model': 'resnet50_v1b',\n",
            "                                'use_gn': False,\n",
            "                                'use_pretrained': True,\n",
            "                                'use_se': False},\n",
            "                   'train': { 'batch_size': 16,\n",
            "                              'crop_ratio': 0.875,\n",
            "                              'data_dir': 'auto',\n",
            "                              'dtype': 'float32',\n",
            "                              'early_stop_baseline': -inf,\n",
            "                              'early_stop_max_value': inf,\n",
            "                              'early_stop_min_delta': 0.001,\n",
            "                              'early_stop_patience': 10,\n",
            "                              'epochs': 20,\n",
            "                              'hard_weight': 0.5,\n",
            "                              'input_size': 224,\n",
            "                              'label_smoothing': False,\n",
            "                              'log_interval': 50,\n",
            "                              'lr': 0.01,\n",
            "                              'lr_decay': 0.1,\n",
            "                              'lr_decay_epoch': '40, 60',\n",
            "                              'lr_decay_period': 0,\n",
            "                              'lr_mode': 'step',\n",
            "                              'mixup': False,\n",
            "                              'mixup_alpha': 0.2,\n",
            "                              'mixup_off_epoch': 0,\n",
            "                              'mode': '',\n",
            "                              'momentum': 0.9,\n",
            "                              'no_wd': False,\n",
            "                              'num_training_samples': -1,\n",
            "                              'num_workers': 0,\n",
            "                              'output_lr_mult': 0.1,\n",
            "                              'pretrained_base': True,\n",
            "                              'rec_train': 'auto',\n",
            "                              'rec_train_idx': 'auto',\n",
            "                              'rec_val': 'auto',\n",
            "                              'rec_val_idx': 'auto',\n",
            "                              'resume_epoch': 0,\n",
            "                              'start_epoch': 0,\n",
            "                              'teacher': None,\n",
            "                              'temperature': 20,\n",
            "                              'transfer_lr_mult': 0.01,\n",
            "                              'use_rec': False,\n",
            "                              'warmup_epochs': 0,\n",
            "                              'warmup_lr': 0.0,\n",
            "                              'wd': 0.0001},\n",
            "                   'valid': {'batch_size': 16, 'num_workers': 0}},\n",
            "  'total_time': 758.8448376655579,\n",
            "  'train_acc': 0.9659090909090909,\n",
            "  'valid_acc': 0.9833333333333333}\n"
          ],
          "name": "stderr"
        },
        {
          "output_type": "execute_result",
          "data": {
            "text/plain": [
              "<autogluon.vision.predictor.predictor.ImagePredictor at 0x7f0913176c90>"
            ]
          },
          "metadata": {
            "tags": []
          },
          "execution_count": 46
        }
      ]
    },
    {
      "source": [
        "이때 AutoGluon은 MNIST나 다른 데이터셋에 비하면 상대적으로 적은 양의 데이터 양을 가지고도 매우 빠르게 높은 정확성을 가진 모델을 찾아냈다. 심지어 data augmentation도 하지 않았다.\n",
        "\n",
        "눈여겨볼 점은 train accuracy보다 validation accuracy가 더 높다는 것이다.\n",
        "\n",
        "보통 학습하면서 train 데이터에 overfit이 되기 마련인데, 놀랍게도 학습하지 않은 내용을 더 잘 맞춘 것이다!"
      ],
      "cell_type": "markdown",
      "metadata": {}
    },
    {
      "cell_type": "code",
      "metadata": {
        "id": "cqngS_Fp7pLa",
        "execution": {
          "iopub.status.busy": "2021-05-24T17:55:40.656050Z",
          "iopub.execute_input": "2021-05-24T17:55:40.656383Z",
          "iopub.status.idle": "2021-05-24T17:55:40.661707Z",
          "shell.execute_reply.started": "2021-05-24T17:55:40.656352Z",
          "shell.execute_reply": "2021-05-24T17:55:40.660634Z"
        },
        "trusted": true,
        "colab": {
          "base_uri": "https://localhost:8080/"
        },
        "outputId": "9515f540-93b2-43ac-c55c-778860a7d2f8"
      },
      "source": [
        "fit_result = predictor.fit_summary()\n",
        "print('Top-1 train acc: %.3f, val acc: %.3f' %(fit_result['train_acc'], fit_result['valid_acc']))"
      ],
      "execution_count": 47,
      "outputs": [
        {
          "output_type": "stream",
          "text": [
            "Top-1 train acc: 0.966, val acc: 0.983\n"
          ],
          "name": "stdout"
        }
      ]
    },
    {
      "source": [
        "# Get accuracy of the final model\n",
        "\n",
        "가장 좋은 성능을 보여준 모델로 테스트를 진행한다.\n",
        "\n",
        "30분의 제한을 걸었음에도 약 13분만에 학습이 종료되었으며, test_accuracy 또한 train accuracy보다 높은 98.3%를 달성했다.\n",
        "\n",
        "시간 비용과 데이터의 양, 정확성을 고려했을 때 AutoGluon은 가장 우수한 성능을 보였다."
      ],
      "cell_type": "markdown",
      "metadata": {}
    },
    {
      "cell_type": "code",
      "metadata": {
        "id": "w8YJn19qALcj",
        "execution": {
          "iopub.status.busy": "2021-05-24T17:55:44.713656Z",
          "iopub.execute_input": "2021-05-24T17:55:44.713981Z",
          "iopub.status.idle": "2021-05-24T17:55:48.252092Z",
          "shell.execute_reply.started": "2021-05-24T17:55:44.713953Z",
          "shell.execute_reply": "2021-05-24T17:55:48.251168Z"
        },
        "trusted": true,
        "colab": {
          "base_uri": "https://localhost:8080/"
        },
        "outputId": "748b6078-3eeb-4864-dbc0-f472554570fb"
      },
      "source": [
        "test_acc, _ = predictor.evaluate(test_dataset)\n",
        "print('Top-1 test acc: %.3f' % test_acc)"
      ],
      "execution_count": 48,
      "outputs": [
        {
          "output_type": "stream",
          "text": [
            "Top-1 test acc: 0.983\n"
          ],
          "name": "stdout"
        }
      ]
    }
  ]
}