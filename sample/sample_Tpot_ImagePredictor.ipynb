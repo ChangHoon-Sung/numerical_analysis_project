{
  "nbformat": 4,
  "nbformat_minor": 0,
  "metadata": {
    "colab": {
      "name": "sample_Tpot_ImagePredictor.ipynb",
      "provenance": [],
      "collapsed_sections": []
    },
    "kernelspec": {
      "name": "python3",
      "display_name": "Python 3"
    },
    "language_info": {
      "name": "python"
    },
    "accelerator": "GPU",
    "widgets": {
      "application/vnd.jupyter.widget-state+json": {
        "15964fe1a4f34059861efbe10dc75ade": {
          "model_module": "@jupyter-widgets/controls",
          "model_name": "HBoxModel",
          "state": {
            "_view_name": "HBoxView",
            "_dom_classes": [],
            "_model_name": "HBoxModel",
            "_view_module": "@jupyter-widgets/controls",
            "_model_module_version": "1.5.0",
            "_view_count": null,
            "_view_module_version": "1.5.0",
            "box_style": "",
            "layout": "IPY_MODEL_388c4bf1c4fe4d55870cdf00761bd319",
            "_model_module": "@jupyter-widgets/controls",
            "children": [
              "IPY_MODEL_9a018f1e600f4e8f88c3859cc7f44e37",
              "IPY_MODEL_21ce6a7f1c5b4d88af3755ac4558a086"
            ]
          }
        },
        "388c4bf1c4fe4d55870cdf00761bd319": {
          "model_module": "@jupyter-widgets/base",
          "model_name": "LayoutModel",
          "state": {
            "_view_name": "LayoutView",
            "grid_template_rows": null,
            "right": null,
            "justify_content": null,
            "_view_module": "@jupyter-widgets/base",
            "overflow": null,
            "_model_module_version": "1.2.0",
            "_view_count": null,
            "flex_flow": null,
            "width": null,
            "min_width": null,
            "border": null,
            "align_items": null,
            "bottom": null,
            "_model_module": "@jupyter-widgets/base",
            "top": null,
            "grid_column": null,
            "overflow_y": null,
            "overflow_x": null,
            "grid_auto_flow": null,
            "grid_area": null,
            "grid_template_columns": null,
            "flex": null,
            "_model_name": "LayoutModel",
            "justify_items": null,
            "grid_row": null,
            "max_height": null,
            "align_content": null,
            "visibility": null,
            "align_self": null,
            "height": null,
            "min_height": null,
            "padding": null,
            "grid_auto_rows": null,
            "grid_gap": null,
            "max_width": null,
            "order": null,
            "_view_module_version": "1.2.0",
            "grid_template_areas": null,
            "object_position": null,
            "object_fit": null,
            "grid_auto_columns": null,
            "margin": null,
            "display": null,
            "left": null
          }
        },
        "9a018f1e600f4e8f88c3859cc7f44e37": {
          "model_module": "@jupyter-widgets/controls",
          "model_name": "FloatProgressModel",
          "state": {
            "_view_name": "ProgressView",
            "style": "IPY_MODEL_c9ebac269bc047908f1daead28915252",
            "_dom_classes": [],
            "description": "Optimization Progress: ",
            "_model_name": "FloatProgressModel",
            "bar_style": "",
            "max": 60,
            "_view_module": "@jupyter-widgets/controls",
            "_model_module_version": "1.5.0",
            "value": 60,
            "_view_count": null,
            "_view_module_version": "1.5.0",
            "orientation": "horizontal",
            "min": 0,
            "description_tooltip": null,
            "_model_module": "@jupyter-widgets/controls",
            "layout": "IPY_MODEL_95ae0b714daa42db816fb87ac88bfd28"
          }
        },
        "21ce6a7f1c5b4d88af3755ac4558a086": {
          "model_module": "@jupyter-widgets/controls",
          "model_name": "HTMLModel",
          "state": {
            "_view_name": "HTMLView",
            "style": "IPY_MODEL_0a5f3d148b0445f3b29cd6d95d5175b0",
            "_dom_classes": [],
            "description": "",
            "_model_name": "HTMLModel",
            "placeholder": "​",
            "_view_module": "@jupyter-widgets/controls",
            "_model_module_version": "1.5.0",
            "value": " 90/? [1:58:33&lt;00:00, 90.87s/pipeline]",
            "_view_count": null,
            "_view_module_version": "1.5.0",
            "description_tooltip": null,
            "_model_module": "@jupyter-widgets/controls",
            "layout": "IPY_MODEL_c9580cb66b734e8abf4f418fa56906bf"
          }
        },
        "c9ebac269bc047908f1daead28915252": {
          "model_module": "@jupyter-widgets/controls",
          "model_name": "ProgressStyleModel",
          "state": {
            "_view_name": "StyleView",
            "_model_name": "ProgressStyleModel",
            "description_width": "initial",
            "_view_module": "@jupyter-widgets/base",
            "_model_module_version": "1.5.0",
            "_view_count": null,
            "_view_module_version": "1.2.0",
            "bar_color": null,
            "_model_module": "@jupyter-widgets/controls"
          }
        },
        "95ae0b714daa42db816fb87ac88bfd28": {
          "model_module": "@jupyter-widgets/base",
          "model_name": "LayoutModel",
          "state": {
            "_view_name": "LayoutView",
            "grid_template_rows": null,
            "right": null,
            "justify_content": null,
            "_view_module": "@jupyter-widgets/base",
            "overflow": null,
            "_model_module_version": "1.2.0",
            "_view_count": null,
            "flex_flow": null,
            "width": null,
            "min_width": null,
            "border": null,
            "align_items": null,
            "bottom": null,
            "_model_module": "@jupyter-widgets/base",
            "top": null,
            "grid_column": null,
            "overflow_y": null,
            "overflow_x": null,
            "grid_auto_flow": null,
            "grid_area": null,
            "grid_template_columns": null,
            "flex": null,
            "_model_name": "LayoutModel",
            "justify_items": null,
            "grid_row": null,
            "max_height": null,
            "align_content": null,
            "visibility": null,
            "align_self": null,
            "height": null,
            "min_height": null,
            "padding": null,
            "grid_auto_rows": null,
            "grid_gap": null,
            "max_width": null,
            "order": null,
            "_view_module_version": "1.2.0",
            "grid_template_areas": null,
            "object_position": null,
            "object_fit": null,
            "grid_auto_columns": null,
            "margin": null,
            "display": null,
            "left": null
          }
        },
        "0a5f3d148b0445f3b29cd6d95d5175b0": {
          "model_module": "@jupyter-widgets/controls",
          "model_name": "DescriptionStyleModel",
          "state": {
            "_view_name": "StyleView",
            "_model_name": "DescriptionStyleModel",
            "description_width": "",
            "_view_module": "@jupyter-widgets/base",
            "_model_module_version": "1.5.0",
            "_view_count": null,
            "_view_module_version": "1.2.0",
            "_model_module": "@jupyter-widgets/controls"
          }
        },
        "c9580cb66b734e8abf4f418fa56906bf": {
          "model_module": "@jupyter-widgets/base",
          "model_name": "LayoutModel",
          "state": {
            "_view_name": "LayoutView",
            "grid_template_rows": null,
            "right": null,
            "justify_content": null,
            "_view_module": "@jupyter-widgets/base",
            "overflow": null,
            "_model_module_version": "1.2.0",
            "_view_count": null,
            "flex_flow": null,
            "width": null,
            "min_width": null,
            "border": null,
            "align_items": null,
            "bottom": null,
            "_model_module": "@jupyter-widgets/base",
            "top": null,
            "grid_column": null,
            "overflow_y": null,
            "overflow_x": null,
            "grid_auto_flow": null,
            "grid_area": null,
            "grid_template_columns": null,
            "flex": null,
            "_model_name": "LayoutModel",
            "justify_items": null,
            "grid_row": null,
            "max_height": null,
            "align_content": null,
            "visibility": null,
            "align_self": null,
            "height": null,
            "min_height": null,
            "padding": null,
            "grid_auto_rows": null,
            "grid_gap": null,
            "max_width": null,
            "order": null,
            "_view_module_version": "1.2.0",
            "grid_template_areas": null,
            "object_position": null,
            "object_fit": null,
            "grid_auto_columns": null,
            "margin": null,
            "display": null,
            "left": null
          }
        }
      }
    }
  },
  "cells": [
    {
      "cell_type": "code",
      "metadata": {
        "colab": {
          "base_uri": "https://localhost:8080/"
        },
        "id": "bJtMsWco2vcC",
        "outputId": "1ba9d33a-1e0d-4675-a0cd-667720fcd20b"
      },
      "source": [
        "pip install TPOT"
      ],
      "execution_count": null,
      "outputs": [
        {
          "output_type": "stream",
          "text": [
            "Collecting TPOT\n",
            "\u001b[?25l  Downloading https://files.pythonhosted.org/packages/b2/55/a7185198f554ea19758e5ac4641f100c94cba4585e738e2e48e3c40a0b7f/TPOT-0.11.7-py3-none-any.whl (87kB)\n",
            "\u001b[K     |████████████████████████████████| 92kB 6.2MB/s \n",
            "\u001b[?25hCollecting deap>=1.2\n",
            "\u001b[?25l  Downloading https://files.pythonhosted.org/packages/99/d1/803c7a387d8a7e6866160b1541307f88d534da4291572fb32f69d2548afb/deap-1.3.1-cp37-cp37m-manylinux2010_x86_64.whl (157kB)\n",
            "\u001b[K     |████████████████████████████████| 163kB 15.0MB/s \n",
            "\u001b[?25hRequirement already satisfied: tqdm>=4.36.1 in /usr/local/lib/python3.7/dist-packages (from TPOT) (4.41.1)\n",
            "Requirement already satisfied: joblib>=0.13.2 in /usr/local/lib/python3.7/dist-packages (from TPOT) (1.0.1)\n",
            "Collecting update-checker>=0.16\n",
            "  Downloading https://files.pythonhosted.org/packages/0c/ba/8dd7fa5f0b1c6a8ac62f8f57f7e794160c1f86f31c6d0fb00f582372a3e4/update_checker-0.18.0-py3-none-any.whl\n",
            "Requirement already satisfied: scikit-learn>=0.22.0 in /usr/local/lib/python3.7/dist-packages (from TPOT) (0.22.2.post1)\n",
            "Requirement already satisfied: numpy>=1.16.3 in /usr/local/lib/python3.7/dist-packages (from TPOT) (1.19.5)\n",
            "Requirement already satisfied: scipy>=1.3.1 in /usr/local/lib/python3.7/dist-packages (from TPOT) (1.4.1)\n",
            "Requirement already satisfied: pandas>=0.24.2 in /usr/local/lib/python3.7/dist-packages (from TPOT) (1.1.5)\n",
            "Collecting xgboost>=1.1.0\n",
            "\u001b[?25l  Downloading https://files.pythonhosted.org/packages/bb/35/169eec194bf1f9ef52ed670f5032ef2abaf6ed285cfadcb4b6026b800fc9/xgboost-1.4.2-py3-none-manylinux2010_x86_64.whl (166.7MB)\n",
            "\u001b[K     |████████████████████████████████| 166.7MB 91kB/s \n",
            "\u001b[?25hCollecting stopit>=1.1.1\n",
            "  Downloading https://files.pythonhosted.org/packages/35/58/e8bb0b0fb05baf07bbac1450c447d753da65f9701f551dca79823ce15d50/stopit-1.1.2.tar.gz\n",
            "Requirement already satisfied: requests>=2.3.0 in /usr/local/lib/python3.7/dist-packages (from update-checker>=0.16->TPOT) (2.23.0)\n",
            "Requirement already satisfied: pytz>=2017.2 in /usr/local/lib/python3.7/dist-packages (from pandas>=0.24.2->TPOT) (2018.9)\n",
            "Requirement already satisfied: python-dateutil>=2.7.3 in /usr/local/lib/python3.7/dist-packages (from pandas>=0.24.2->TPOT) (2.8.1)\n",
            "Requirement already satisfied: idna<3,>=2.5 in /usr/local/lib/python3.7/dist-packages (from requests>=2.3.0->update-checker>=0.16->TPOT) (2.10)\n",
            "Requirement already satisfied: chardet<4,>=3.0.2 in /usr/local/lib/python3.7/dist-packages (from requests>=2.3.0->update-checker>=0.16->TPOT) (3.0.4)\n",
            "Requirement already satisfied: certifi>=2017.4.17 in /usr/local/lib/python3.7/dist-packages (from requests>=2.3.0->update-checker>=0.16->TPOT) (2020.12.5)\n",
            "Requirement already satisfied: urllib3!=1.25.0,!=1.25.1,<1.26,>=1.21.1 in /usr/local/lib/python3.7/dist-packages (from requests>=2.3.0->update-checker>=0.16->TPOT) (1.24.3)\n",
            "Requirement already satisfied: six>=1.5 in /usr/local/lib/python3.7/dist-packages (from python-dateutil>=2.7.3->pandas>=0.24.2->TPOT) (1.15.0)\n",
            "Building wheels for collected packages: stopit\n",
            "  Building wheel for stopit (setup.py) ... \u001b[?25l\u001b[?25hdone\n",
            "  Created wheel for stopit: filename=stopit-1.1.2-cp37-none-any.whl size=11954 sha256=b9f71c25d3b9fe5909204a900c6852fb18b5e9edbf6b578662509a5a00bd220f\n",
            "  Stored in directory: /root/.cache/pip/wheels/3c/85/2b/2580190404636bfc63e8de3dff629c03bb795021e1983a6cc7\n",
            "Successfully built stopit\n",
            "Installing collected packages: deap, update-checker, xgboost, stopit, TPOT\n",
            "  Found existing installation: xgboost 0.90\n",
            "    Uninstalling xgboost-0.90:\n",
            "      Successfully uninstalled xgboost-0.90\n",
            "Successfully installed TPOT-0.11.7 deap-1.3.1 stopit-1.1.2 update-checker-0.18.0 xgboost-1.4.2\n"
          ],
          "name": "stdout"
        }
      ]
    },
    {
      "cell_type": "code",
      "metadata": {
        "colab": {
          "base_uri": "https://localhost:8080/"
        },
        "id": "_0Xw33Xhzw6y",
        "outputId": "1a3d7136-bab6-4653-d071-93ffc6869de0"
      },
      "source": [
        "import numpy as np\n",
        "import pandas as pd\n",
        "import os\n",
        "import matplotlib.pyplot as plt\n",
        "import tensorflow as tf\n",
        "from google.colab import drive\n",
        "#from tensorflow.keras.preprocessing.image import load_img, img_to_array\n",
        "#from tensorflow.keras.utils import to_categorical\n",
        "from sklearn.model_selection import train_test_split\n",
        "from tpot import TPOTClassifier\n",
        "from tpot import TPOTRegressor\n",
        "#from decimal import Decimal\n",
        "from sklearn.tree import DecisionTreeClassifier\n",
        "from sklearn.datasets import make_regression\n",
        "from sklearn.model_selection import train_test_split\n",
        "from sklearn.metrics import r2_score\n",
        "drive.mount('/content/gdrive/')\n"
      ],
      "execution_count": null,
      "outputs": [
        {
          "output_type": "stream",
          "text": [
            "/usr/local/lib/python3.7/dist-packages/sklearn/externals/six.py:31: FutureWarning: The module is deprecated in version 0.21 and will be removed in version 0.23 since we've dropped support for Python 2.7. Please rely on the official version of six (https://pypi.org/project/six/).\n",
            "  \"(https://pypi.org/project/six/).\", FutureWarning)\n",
            "/usr/local/lib/python3.7/dist-packages/sklearn/utils/deprecation.py:144: FutureWarning: The sklearn.neighbors.base module is  deprecated in version 0.22 and will be removed in version 0.24. The corresponding classes / functions should instead be imported from sklearn.neighbors. Anything that cannot be imported from sklearn.neighbors is now part of the private API.\n",
            "  warnings.warn(message, FutureWarning)\n"
          ],
          "name": "stderr"
        },
        {
          "output_type": "stream",
          "text": [
            "Mounted at /content/gdrive/\n"
          ],
          "name": "stdout"
        }
      ]
    },
    {
      "cell_type": "markdown",
      "metadata": {
        "id": "vsmC538XO248"
      },
      "source": [
        "디렉토리 이름에서 파일을 가져옴."
      ]
    },
    {
      "cell_type": "code",
      "metadata": {
        "id": "ktCcQAvj0JRj"
      },
      "source": [
        "directory = '/content/gdrive/MyDrive/archive'\n",
        "Name = []\n",
        "for file in os.listdir(directory):\n",
        "    Name+=[file]\n",
        "N = []\n",
        "for i in range(len(Name)):\n",
        "    N+=[i]\n",
        "normal_mapping=dict(zip(Name,N)) "
      ],
      "execution_count": null,
      "outputs": []
    },
    {
      "cell_type": "markdown",
      "metadata": {
        "id": "5s2gnHpeO-RM"
      },
      "source": [
        "이미지 파일 전처리."
      ]
    },
    {
      "cell_type": "code",
      "metadata": {
        "id": "Gk0G1qck0aAJ"
      },
      "source": [
        "dataset=[]\n",
        "count=0\n",
        "for name in Name:\n",
        "    path=os.path.join(directory,name)\n",
        "    for im in os.listdir(path):\n",
        "        if im[-4:]=='.jpg':\n",
        "            image=load_img(os.path.join(path,im), grayscale=False, color_mode='rgb', target_size=(480,360))\n",
        "            image=img_to_array(image)\n",
        "            image=image/255.0\n",
        "            dataset.append([image,count]) \n",
        "    count=count+1"
      ],
      "execution_count": null,
      "outputs": []
    },
    {
      "cell_type": "markdown",
      "metadata": {
        "id": "0F6LVsbDPGCT"
      },
      "source": [
        "dataset에서 각각 data와 label로 구분."
      ]
    },
    {
      "cell_type": "code",
      "metadata": {
        "id": "qRVq23H4GqW2"
      },
      "source": [
        "data,labels0=zip(*dataset)"
      ],
      "execution_count": null,
      "outputs": []
    },
    {
      "cell_type": "markdown",
      "metadata": {
        "id": "TQyQPXkMPU-L"
      },
      "source": [
        "to_categorical 함수는 다중 클래스 분류의 경우 클래스별로 확률 값을 지정해 주기위해 'one-hot 인코딩' 사용을 위해 keras에서 지원하는 함수이다."
      ]
    },
    {
      "cell_type": "code",
      "metadata": {
        "id": "yyANWuXwHTiv"
      },
      "source": [
        "labels1=to_categorical(labels0)\n",
        "data=np.array(data)\n",
        "labels=np.array(labels1)"
      ],
      "execution_count": null,
      "outputs": []
    },
    {
      "cell_type": "markdown",
      "metadata": {
        "id": "M5nt6g7IPrrs"
      },
      "source": [
        "data = data.reshape(720,-1)\n",
        "labels = labels.reshape(-1)"
      ]
    },
    {
      "cell_type": "code",
      "metadata": {
        "id": "QFwLHafeHaMd"
      },
      "source": [
        "trainx,testx,trainy,testy=train_test_split(data,labels)"
      ],
      "execution_count": null,
      "outputs": []
    },
    {
      "cell_type": "markdown",
      "metadata": {
        "id": "RLUU6K8hP5W-"
      },
      "source": [
        "훈련에는 80% 테스트에는 20% 사용할 수 있도록 나눈다."
      ]
    },
    {
      "cell_type": "code",
      "metadata": {
        "id": "6b53TkGjHgNW"
      },
      "source": [
        "tpot = train_test_split(data,labels,train_size=0.8, test_size=0.2)"
      ],
      "execution_count": null,
      "outputs": []
    },
    {
      "cell_type": "markdown",
      "metadata": {
        "id": "VGfkT2npQIDT"
      },
      "source": [
        "n_jops : tpot 최적화 프로세스 중에 파이프 라인을 평가하기 위해 사용할 프로세스 수. (-1은 최대의 cpu 사용)\n",
        "\n",
        "generation : 파이프 라인 최적화 프로세스 반복 횟수\n",
        "\n",
        "early_stop : 최적화 프로세스에 개선이 없는지 확인하는 수 (없으면 종료)\n"
      ]
    },
    {
      "cell_type": "code",
      "metadata": {
        "id": "jiHmsWuUJ0pX",
        "colab": {
          "base_uri": "https://localhost:8080/",
          "height": 1000,
          "referenced_widgets": [
            "15964fe1a4f34059861efbe10dc75ade",
            "388c4bf1c4fe4d55870cdf00761bd319",
            "9a018f1e600f4e8f88c3859cc7f44e37",
            "21ce6a7f1c5b4d88af3755ac4558a086",
            "c9ebac269bc047908f1daead28915252",
            "95ae0b714daa42db816fb87ac88bfd28",
            "0a5f3d148b0445f3b29cd6d95d5175b0",
            "c9580cb66b734e8abf4f418fa56906bf"
          ]
        },
        "outputId": "d48409d1-770e-4654-ed4c-9316bebf3942"
      },
      "source": [
        "tpot = TPOTClassifier(\n",
        "  verbosity=3, \n",
        "  n_jobs=-1, \n",
        "  generations=5, \n",
        "  population_size=10,\n",
        "  early_stop = 5\n",
        ")\n",
        "tpot.fit(trainx, trainy)\n",
        "print(tpot.score(testx, testy))\n"
      ],
      "execution_count": null,
      "outputs": [
        {
          "output_type": "stream",
          "text": [
            "32 operators have been imported by TPOT.\n"
          ],
          "name": "stdout"
        },
        {
          "output_type": "display_data",
          "data": {
            "application/vnd.jupyter.widget-view+json": {
              "model_id": "15964fe1a4f34059861efbe10dc75ade",
              "version_minor": 0,
              "version_major": 2
            },
            "text/plain": [
              "HBox(children=(FloatProgress(value=0.0, description='Optimization Progress', max=60.0, style=ProgressStyle(des…"
            ]
          },
          "metadata": {
            "tags": []
          }
        },
        {
          "output_type": "stream",
          "text": [
            "\rSkipped pipeline #1 due to time out. Continuing to the next pipeline.\n",
            "Skipped pipeline #4 due to time out. Continuing to the next pipeline.\n",
            "Skipped pipeline #7 due to time out. Continuing to the next pipeline.\n",
            "Skipped pipeline #9 due to time out. Continuing to the next pipeline.\n",
            "Skipped pipeline #11 due to time out. Continuing to the next pipeline.\n",
            "Skipped pipeline #13 due to time out. Continuing to the next pipeline.\n",
            "Skipped pipeline #16 due to time out. Continuing to the next pipeline.\n",
            "Skipped pipeline #19 due to time out. Continuing to the next pipeline.\n",
            "Skipped pipeline #21 due to time out. Continuing to the next pipeline.\n",
            "Skipped pipeline #23 due to time out. Continuing to the next pipeline.\n",
            "Skipped pipeline #25 due to time out. Continuing to the next pipeline.\n",
            "Skipped pipeline #28 due to time out. Continuing to the next pipeline.\n",
            "Skipped pipeline #30 due to time out. Continuing to the next pipeline.\n",
            "Skipped pipeline #32 due to time out. Continuing to the next pipeline.\n",
            "Skipped pipeline #34 due to time out. Continuing to the next pipeline.\n",
            "\n",
            "Generation 1 - Current Pareto front scores:\n",
            "\n",
            "-1\t0.6611111111111111\tKNeighborsClassifier(input_matrix, KNeighborsClassifier__n_neighbors=96, KNeighborsClassifier__p=1, KNeighborsClassifier__weights=distance)\n",
            "_pre_test decorator: _random_mutation_operator: num_test=0 Expected n_neighbors <= n_samples,  but n_samples = 50, n_neighbors = 55.\n",
            "Skipped pipeline #37 due to time out. Continuing to the next pipeline.\n",
            "Skipped pipeline #39 due to time out. Continuing to the next pipeline.\n",
            "Skipped pipeline #42 due to time out. Continuing to the next pipeline.\n",
            "Skipped pipeline #45 due to time out. Continuing to the next pipeline.\n",
            "Skipped pipeline #48 due to time out. Continuing to the next pipeline.\n",
            "Skipped pipeline #50 due to time out. Continuing to the next pipeline.\n",
            "\n",
            "Generation 2 - Current Pareto front scores:\n",
            "\n",
            "-1\t0.6611111111111111\tKNeighborsClassifier(input_matrix, KNeighborsClassifier__n_neighbors=96, KNeighborsClassifier__p=1, KNeighborsClassifier__weights=distance)\n",
            "_pre_test decorator: _random_mutation_operator: num_test=0 cosine was provided as affinity. Ward can only work with euclidean distances..\n",
            "_pre_test decorator: _random_mutation_operator: num_test=0 Solver lbfgs supports only dual=False, got dual=True.\n",
            "Skipped pipeline #52 due to time out. Continuing to the next pipeline.\n",
            "Skipped pipeline #54 due to time out. Continuing to the next pipeline.\n",
            "Skipped pipeline #58 due to time out. Continuing to the next pipeline.\n",
            "Skipped pipeline #61 due to time out. Continuing to the next pipeline.\n",
            "Skipped pipeline #63 due to time out. Continuing to the next pipeline.\n",
            "Skipped pipeline #65 due to time out. Continuing to the next pipeline.\n",
            "\n",
            "Generation 3 - Current Pareto front scores:\n",
            "\n",
            "-1\t0.6611111111111111\tKNeighborsClassifier(input_matrix, KNeighborsClassifier__n_neighbors=96, KNeighborsClassifier__p=1, KNeighborsClassifier__weights=distance)\n",
            "Pipeline encountered that has previously been evaluated during the optimization process. Using the score from the previous evaluation.\n",
            "Pipeline encountered that has previously been evaluated during the optimization process. Using the score from the previous evaluation.\n",
            "Skipped pipeline #76 due to time out. Continuing to the next pipeline.\n",
            "\n",
            "Generation 4 - Current Pareto front scores:\n",
            "\n",
            "-1\t0.6611111111111111\tKNeighborsClassifier(input_matrix, KNeighborsClassifier__n_neighbors=96, KNeighborsClassifier__p=1, KNeighborsClassifier__weights=distance)\n",
            "_pre_test decorator: _random_mutation_operator: num_test=0 Unsupported set of arguments: The combination of penalty='l2' and loss='hinge' are not supported when dual=False, Parameters: penalty='l2', loss='hinge', dual=False.\n",
            "Pipeline encountered that has previously been evaluated during the optimization process. Using the score from the previous evaluation.\n",
            "Skipped pipeline #80 due to time out. Continuing to the next pipeline.\n",
            "Skipped pipeline #85 due to time out. Continuing to the next pipeline.\n",
            "\n",
            "Generation 5 - Current Pareto front scores:\n",
            "\n",
            "-1\t0.6611111111111111\tKNeighborsClassifier(input_matrix, KNeighborsClassifier__n_neighbors=96, KNeighborsClassifier__p=1, KNeighborsClassifier__weights=distance)\n",
            "0.6833333333333333\n"
          ],
          "name": "stdout"
        }
      ]
    }
  ]
}