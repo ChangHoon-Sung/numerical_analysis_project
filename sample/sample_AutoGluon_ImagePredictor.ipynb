{
  "nbformat": 4,
  "nbformat_minor": 0,
  "metadata": {
    "colab": {
      "name": "AutoGluon_ImagePredictor.ipynb",
      "provenance": [],
      "collapsed_sections": []
    },
    "kernelspec": {
      "name": "python3",
      "display_name": "Python 3"
    },
    "language_info": {
      "name": "python"
    },
    "accelerator": "GPU",
    "widgets": {
      "application/vnd.jupyter.widget-state+json": {
        "8eff84ffd4de48f4be8d895b19672c3e": {
          "model_module": "@jupyter-widgets/controls",
          "model_name": "HBoxModel",
          "state": {
            "_view_name": "HBoxView",
            "_dom_classes": [],
            "_model_name": "HBoxModel",
            "_view_module": "@jupyter-widgets/controls",
            "_model_module_version": "1.5.0",
            "_view_count": null,
            "_view_module_version": "1.5.0",
            "box_style": "",
            "layout": "IPY_MODEL_d91911b1f866427e819c0b4195491d32",
            "_model_module": "@jupyter-widgets/controls",
            "children": [
              "IPY_MODEL_1b661edaa17545afa9469129d8bdc0ad",
              "IPY_MODEL_9940e4e02785403cb9706ed62ef652b0"
            ]
          }
        },
        "d91911b1f866427e819c0b4195491d32": {
          "model_module": "@jupyter-widgets/base",
          "model_name": "LayoutModel",
          "state": {
            "_view_name": "LayoutView",
            "grid_template_rows": null,
            "right": null,
            "justify_content": null,
            "_view_module": "@jupyter-widgets/base",
            "overflow": null,
            "_model_module_version": "1.2.0",
            "_view_count": null,
            "flex_flow": null,
            "width": null,
            "min_width": null,
            "border": null,
            "align_items": null,
            "bottom": null,
            "_model_module": "@jupyter-widgets/base",
            "top": null,
            "grid_column": null,
            "overflow_y": null,
            "overflow_x": null,
            "grid_auto_flow": null,
            "grid_area": null,
            "grid_template_columns": null,
            "flex": null,
            "_model_name": "LayoutModel",
            "justify_items": null,
            "grid_row": null,
            "max_height": null,
            "align_content": null,
            "visibility": null,
            "align_self": null,
            "height": null,
            "min_height": null,
            "padding": null,
            "grid_auto_rows": null,
            "grid_gap": null,
            "max_width": null,
            "order": null,
            "_view_module_version": "1.2.0",
            "grid_template_areas": null,
            "object_position": null,
            "object_fit": null,
            "grid_auto_columns": null,
            "margin": null,
            "display": null,
            "left": null
          }
        },
        "1b661edaa17545afa9469129d8bdc0ad": {
          "model_module": "@jupyter-widgets/controls",
          "model_name": "FloatProgressModel",
          "state": {
            "_view_name": "ProgressView",
            "style": "IPY_MODEL_7987bec79320403799135562b6f8c7c6",
            "_dom_classes": [],
            "description": "100%",
            "_model_name": "FloatProgressModel",
            "bar_style": "success",
            "max": 3,
            "_view_module": "@jupyter-widgets/controls",
            "_model_module_version": "1.5.0",
            "value": 3,
            "_view_count": null,
            "_view_module_version": "1.5.0",
            "orientation": "horizontal",
            "min": 0,
            "description_tooltip": null,
            "_model_module": "@jupyter-widgets/controls",
            "layout": "IPY_MODEL_6db8e64959bb48658fe0e8c878abfc88"
          }
        },
        "9940e4e02785403cb9706ed62ef652b0": {
          "model_module": "@jupyter-widgets/controls",
          "model_name": "HTMLModel",
          "state": {
            "_view_name": "HTMLView",
            "style": "IPY_MODEL_cfe9eb71bd8642db9cddc934faab9bea",
            "_dom_classes": [],
            "description": "",
            "_model_name": "HTMLModel",
            "placeholder": "​",
            "_view_module": "@jupyter-widgets/controls",
            "_model_module_version": "1.5.0",
            "value": " 3/3 [00:11&lt;00:00,  3.99s/it]",
            "_view_count": null,
            "_view_module_version": "1.5.0",
            "description_tooltip": null,
            "_model_module": "@jupyter-widgets/controls",
            "layout": "IPY_MODEL_3feea30ba2664f9bab29c6cbcfe843a3"
          }
        },
        "7987bec79320403799135562b6f8c7c6": {
          "model_module": "@jupyter-widgets/controls",
          "model_name": "ProgressStyleModel",
          "state": {
            "_view_name": "StyleView",
            "_model_name": "ProgressStyleModel",
            "description_width": "initial",
            "_view_module": "@jupyter-widgets/base",
            "_model_module_version": "1.5.0",
            "_view_count": null,
            "_view_module_version": "1.2.0",
            "bar_color": null,
            "_model_module": "@jupyter-widgets/controls"
          }
        },
        "6db8e64959bb48658fe0e8c878abfc88": {
          "model_module": "@jupyter-widgets/base",
          "model_name": "LayoutModel",
          "state": {
            "_view_name": "LayoutView",
            "grid_template_rows": null,
            "right": null,
            "justify_content": null,
            "_view_module": "@jupyter-widgets/base",
            "overflow": null,
            "_model_module_version": "1.2.0",
            "_view_count": null,
            "flex_flow": null,
            "width": null,
            "min_width": null,
            "border": null,
            "align_items": null,
            "bottom": null,
            "_model_module": "@jupyter-widgets/base",
            "top": null,
            "grid_column": null,
            "overflow_y": null,
            "overflow_x": null,
            "grid_auto_flow": null,
            "grid_area": null,
            "grid_template_columns": null,
            "flex": null,
            "_model_name": "LayoutModel",
            "justify_items": null,
            "grid_row": null,
            "max_height": null,
            "align_content": null,
            "visibility": null,
            "align_self": null,
            "height": null,
            "min_height": null,
            "padding": null,
            "grid_auto_rows": null,
            "grid_gap": null,
            "max_width": null,
            "order": null,
            "_view_module_version": "1.2.0",
            "grid_template_areas": null,
            "object_position": null,
            "object_fit": null,
            "grid_auto_columns": null,
            "margin": null,
            "display": null,
            "left": null
          }
        },
        "cfe9eb71bd8642db9cddc934faab9bea": {
          "model_module": "@jupyter-widgets/controls",
          "model_name": "DescriptionStyleModel",
          "state": {
            "_view_name": "StyleView",
            "_model_name": "DescriptionStyleModel",
            "description_width": "",
            "_view_module": "@jupyter-widgets/base",
            "_model_module_version": "1.5.0",
            "_view_count": null,
            "_view_module_version": "1.2.0",
            "_model_module": "@jupyter-widgets/controls"
          }
        },
        "3feea30ba2664f9bab29c6cbcfe843a3": {
          "model_module": "@jupyter-widgets/base",
          "model_name": "LayoutModel",
          "state": {
            "_view_name": "LayoutView",
            "grid_template_rows": null,
            "right": null,
            "justify_content": null,
            "_view_module": "@jupyter-widgets/base",
            "overflow": null,
            "_model_module_version": "1.2.0",
            "_view_count": null,
            "flex_flow": null,
            "width": null,
            "min_width": null,
            "border": null,
            "align_items": null,
            "bottom": null,
            "_model_module": "@jupyter-widgets/base",
            "top": null,
            "grid_column": null,
            "overflow_y": null,
            "overflow_x": null,
            "grid_auto_flow": null,
            "grid_area": null,
            "grid_template_columns": null,
            "flex": null,
            "_model_name": "LayoutModel",
            "justify_items": null,
            "grid_row": null,
            "max_height": null,
            "align_content": null,
            "visibility": null,
            "align_self": null,
            "height": null,
            "min_height": null,
            "padding": null,
            "grid_auto_rows": null,
            "grid_gap": null,
            "max_width": null,
            "order": null,
            "_view_module_version": "1.2.0",
            "grid_template_areas": null,
            "object_position": null,
            "object_fit": null,
            "grid_auto_columns": null,
            "margin": null,
            "display": null,
            "left": null
          }
        }
      }
    }
  },
  "cells": [
    {
      "cell_type": "code",
      "metadata": {
        "colab": {
          "base_uri": "https://localhost:8080/"
        },
        "id": "Gptks1oA7N6D",
        "outputId": "4e3612c8-4698-477c-844f-c3201cbea861"
      },
      "source": [
        "# Here we assume CUDA 10.1 is installed.  You should change the number\n",
        "# according to your own CUDA version (e.g. mxnet_cu100 for CUDA 10.0).\n",
        "!pip install --upgrade pip\n",
        "!pip install --upgrade setuptools\n",
        "!python3 -m pip install --upgrade \"mxnet_cu101<2.0.0\""
      ],
      "execution_count": null,
      "outputs": [
        {
          "output_type": "stream",
          "text": [
            "Requirement already satisfied: pip in /usr/local/lib/python3.7/dist-packages (21.1.1)\n",
            "\u001b[33mWARNING: Running pip as root will break packages and permissions. You should install packages reliably by using venv: https://pip.pypa.io/warnings/venv\u001b[0m\n",
            "Requirement already satisfied: setuptools in /usr/local/lib/python3.7/dist-packages (56.2.0)\n",
            "\u001b[31mERROR: Operation cancelled by user\u001b[0m\n",
            "Requirement already satisfied: mxnet_cu101<2.0.0 in /usr/local/lib/python3.7/dist-packages (1.8.0.post0)\n",
            "\u001b[31mERROR: Operation cancelled by user\u001b[0m\n"
          ],
          "name": "stdout"
        }
      ]
    },
    {
      "cell_type": "markdown",
      "metadata": {
        "id": "VZY2ploI0E8F"
      },
      "source": [
        "#Restart Runtime\n",
        "pip, setuptools, mxnet(tensorflow같은 딥러닝 프레임워크) 설치 적용을 위해서 반드리 런타임을 다시 시작해야 한다.\n",
        "\n",
        "이때 '런타임 초기화'가 아닌 '런타임 다시 시작'임에 유의한다."
      ]
    },
    {
      "cell_type": "code",
      "metadata": {
        "colab": {
          "base_uri": "https://localhost:8080/"
        },
        "id": "L5_G80lZ9V8A",
        "outputId": "62dfb8f8-8a27-401c-d424-c1400c2d2cb9"
      },
      "source": [
        "%pip install --pre autogluon"
      ],
      "execution_count": null,
      "outputs": [
        {
          "output_type": "stream",
          "text": [
            "Requirement already satisfied: autogluon in /usr/local/lib/python3.7/dist-packages (0.2.0)\n",
            "Requirement already satisfied: autogluon.vision==0.2.0 in /usr/local/lib/python3.7/dist-packages (from autogluon) (0.2.0)\n",
            "Requirement already satisfied: autogluon.extra==0.2.0 in /usr/local/lib/python3.7/dist-packages (from autogluon) (0.2.0)\n",
            "Requirement already satisfied: autogluon.core==0.2.0 in /usr/local/lib/python3.7/dist-packages (from autogluon) (0.2.0)\n",
            "Requirement already satisfied: autogluon.features==0.2.0 in /usr/local/lib/python3.7/dist-packages (from autogluon) (0.2.0)\n",
            "Requirement already satisfied: autogluon.text==0.2.0 in /usr/local/lib/python3.7/dist-packages (from autogluon) (0.2.0)\n",
            "Requirement already satisfied: autogluon.tabular[all]==0.2.0 in /usr/local/lib/python3.7/dist-packages (from autogluon) (0.2.0)\n",
            "Requirement already satisfied: autogluon.mxnet==0.2.0 in /usr/local/lib/python3.7/dist-packages (from autogluon) (0.2.0)\n",
            "Requirement already satisfied: dask>=2.6.0 in /usr/local/lib/python3.7/dist-packages (from autogluon.core==0.2.0->autogluon) (2021.5.0)\n",
            "Requirement already satisfied: scikit-learn<0.25,>=0.23.2 in /usr/local/lib/python3.7/dist-packages (from autogluon.core==0.2.0->autogluon) (0.24.2)\n",
            "Requirement already satisfied: pandas<2.0,>=1.0.0 in /usr/local/lib/python3.7/dist-packages (from autogluon.core==0.2.0->autogluon) (1.1.5)\n",
            "Requirement already satisfied: boto3 in /usr/local/lib/python3.7/dist-packages (from autogluon.core==0.2.0->autogluon) (1.17.73)\n",
            "Requirement already satisfied: dill==0.3.3 in /usr/local/lib/python3.7/dist-packages (from autogluon.core==0.2.0->autogluon) (0.3.3)\n",
            "Requirement already satisfied: scipy<1.7,>=1.5.4 in /usr/local/lib/python3.7/dist-packages (from autogluon.core==0.2.0->autogluon) (1.6.3)\n",
            "Requirement already satisfied: matplotlib in /usr/local/lib/python3.7/dist-packages (from autogluon.core==0.2.0->autogluon) (3.2.2)\n",
            "Requirement already satisfied: ConfigSpace==0.4.18 in /usr/local/lib/python3.7/dist-packages (from autogluon.core==0.2.0->autogluon) (0.4.18)\n",
            "Requirement already satisfied: distributed>=2.6.0 in /usr/local/lib/python3.7/dist-packages (from autogluon.core==0.2.0->autogluon) (2021.5.0)\n",
            "Requirement already satisfied: numpy==1.19.5 in /usr/local/lib/python3.7/dist-packages (from autogluon.core==0.2.0->autogluon) (1.19.5)\n",
            "Requirement already satisfied: autograd>=1.3 in /usr/local/lib/python3.7/dist-packages (from autogluon.core==0.2.0->autogluon) (1.3)\n",
            "Requirement already satisfied: requests in /usr/local/lib/python3.7/dist-packages (from autogluon.core==0.2.0->autogluon) (2.23.0)\n",
            "Requirement already satisfied: tqdm>=4.38.0 in /usr/local/lib/python3.7/dist-packages (from autogluon.core==0.2.0->autogluon) (4.41.1)\n",
            "Requirement already satisfied: graphviz<0.9.0,>=0.8.1 in /usr/local/lib/python3.7/dist-packages (from autogluon.core==0.2.0->autogluon) (0.8.4)\n",
            "Requirement already satisfied: cython in /usr/local/lib/python3.7/dist-packages (from autogluon.core==0.2.0->autogluon) (0.29.23)\n",
            "Requirement already satisfied: tornado>=5.0.1 in /usr/local/lib/python3.7/dist-packages (from autogluon.core==0.2.0->autogluon) (5.1.1)\n",
            "Requirement already satisfied: paramiko>=2.4 in /usr/local/lib/python3.7/dist-packages (from autogluon.core==0.2.0->autogluon) (2.7.2)\n",
            "Requirement already satisfied: gluoncv<0.11,>=0.10.1.post0 in /usr/local/lib/python3.7/dist-packages (from autogluon.extra==0.2.0->autogluon) (0.10.1.post0)\n",
            "Requirement already satisfied: openml in /usr/local/lib/python3.7/dist-packages (from autogluon.extra==0.2.0->autogluon) (0.12.1)\n",
            "Requirement already satisfied: pytest in /usr/local/lib/python3.7/dist-packages (from autogluon.extra==0.2.0->autogluon) (3.6.4)\n",
            "Requirement already satisfied: Pillow<=8.1 in /usr/local/lib/python3.7/dist-packages (from autogluon.mxnet==0.2.0->autogluon) (7.1.2)\n",
            "Requirement already satisfied: networkx<3.0,>=2.3 in /usr/local/lib/python3.7/dist-packages (from autogluon.tabular[all]==0.2.0->autogluon) (2.5.1)\n",
            "Requirement already satisfied: psutil<5.9,>=5.7.3 in /usr/local/lib/python3.7/dist-packages (from autogluon.tabular[all]==0.2.0->autogluon) (5.8.0)\n",
            "Requirement already satisfied: fastai<3.0,>=2.0 in /usr/local/lib/python3.7/dist-packages (from autogluon.tabular[all]==0.2.0->autogluon) (2.3.1)\n",
            "Requirement already satisfied: xgboost<1.4,>=1.3.2 in /usr/local/lib/python3.7/dist-packages (from autogluon.tabular[all]==0.2.0->autogluon) (1.3.3)\n",
            "Requirement already satisfied: catboost<0.26,>=0.24.0 in /usr/local/lib/python3.7/dist-packages (from autogluon.tabular[all]==0.2.0->autogluon) (0.25.1)\n",
            "Requirement already satisfied: lightgbm<4.0,>=3.0 in /usr/local/lib/python3.7/dist-packages (from autogluon.tabular[all]==0.2.0->autogluon) (3.2.1)\n",
            "Requirement already satisfied: torch<2.0,>=1.0 in /usr/local/lib/python3.7/dist-packages (from autogluon.tabular[all]==0.2.0->autogluon) (1.8.1+cu101)\n",
            "Requirement already satisfied: pyarrow in /usr/local/lib/python3.7/dist-packages (from autogluon.text==0.2.0->autogluon) (3.0.0)\n",
            "Requirement already satisfied: autogluon-contrib-nlp==0.0.1b20210201 in /usr/local/lib/python3.7/dist-packages (from autogluon.text==0.2.0->autogluon) (0.0.1b20210201)\n",
            "Requirement already satisfied: contextvars in /usr/local/lib/python3.7/dist-packages (from autogluon-contrib-nlp==0.0.1b20210201->autogluon.text==0.2.0->autogluon) (2.4)\n",
            "Requirement already satisfied: tokenizers==0.9.4 in /usr/local/lib/python3.7/dist-packages (from autogluon-contrib-nlp==0.0.1b20210201->autogluon.text==0.2.0->autogluon) (0.9.4)\n",
            "Requirement already satisfied: yacs>=0.1.6 in /usr/local/lib/python3.7/dist-packages (from autogluon-contrib-nlp==0.0.1b20210201->autogluon.text==0.2.0->autogluon) (0.1.8)\n",
            "Requirement already satisfied: protobuf in /usr/local/lib/python3.7/dist-packages (from autogluon-contrib-nlp==0.0.1b20210201->autogluon.text==0.2.0->autogluon) (3.12.4)\n",
            "Requirement already satisfied: flake8 in /usr/local/lib/python3.7/dist-packages (from autogluon-contrib-nlp==0.0.1b20210201->autogluon.text==0.2.0->autogluon) (3.9.2)\n",
            "Requirement already satisfied: sentencepiece==0.1.95 in /usr/local/lib/python3.7/dist-packages (from autogluon-contrib-nlp==0.0.1b20210201->autogluon.text==0.2.0->autogluon) (0.1.95)\n",
            "Requirement already satisfied: sacremoses>=0.0.38 in /usr/local/lib/python3.7/dist-packages (from autogluon-contrib-nlp==0.0.1b20210201->autogluon.text==0.2.0->autogluon) (0.0.45)\n",
            "Requirement already satisfied: sacrebleu in /usr/local/lib/python3.7/dist-packages (from autogluon-contrib-nlp==0.0.1b20210201->autogluon.text==0.2.0->autogluon) (1.5.1)\n",
            "Requirement already satisfied: regex in /usr/local/lib/python3.7/dist-packages (from autogluon-contrib-nlp==0.0.1b20210201->autogluon.text==0.2.0->autogluon) (2019.12.20)\n",
            "Requirement already satisfied: d8<1.0,>=0.0.2 in /usr/local/lib/python3.7/dist-packages (from autogluon.vision==0.2.0->autogluon) (0.0.2.post0)\n",
            "Requirement already satisfied: pyparsing in /usr/local/lib/python3.7/dist-packages (from ConfigSpace==0.4.18->autogluon.core==0.2.0->autogluon) (2.4.7)\n",
            "Requirement already satisfied: future>=0.15.2 in /usr/local/lib/python3.7/dist-packages (from autograd>=1.3->autogluon.core==0.2.0->autogluon) (0.16.0)\n",
            "Requirement already satisfied: plotly in /usr/local/lib/python3.7/dist-packages (from catboost<0.26,>=0.24.0->autogluon.tabular[all]==0.2.0->autogluon) (4.4.1)\n",
            "Requirement already satisfied: six in /usr/local/lib/python3.7/dist-packages (from catboost<0.26,>=0.24.0->autogluon.tabular[all]==0.2.0->autogluon) (1.15.0)\n",
            "Requirement already satisfied: kaggle in /usr/local/lib/python3.7/dist-packages (from d8<1.0,>=0.0.2->autogluon.vision==0.2.0->autogluon) (1.5.12)\n",
            "Requirement already satisfied: xxhash in /usr/local/lib/python3.7/dist-packages (from d8<1.0,>=0.0.2->autogluon.vision==0.2.0->autogluon) (2.0.2)\n",
            "Requirement already satisfied: cloudpickle>=1.1.1 in /usr/local/lib/python3.7/dist-packages (from dask>=2.6.0->autogluon.core==0.2.0->autogluon) (1.6.0)\n",
            "Requirement already satisfied: partd>=0.3.10 in /usr/local/lib/python3.7/dist-packages (from dask>=2.6.0->autogluon.core==0.2.0->autogluon) (1.2.0)\n",
            "Requirement already satisfied: toolz>=0.8.2 in /usr/local/lib/python3.7/dist-packages (from dask>=2.6.0->autogluon.core==0.2.0->autogluon) (0.11.1)\n",
            "Requirement already satisfied: pyyaml in /usr/local/lib/python3.7/dist-packages (from dask>=2.6.0->autogluon.core==0.2.0->autogluon) (3.13)\n",
            "Requirement already satisfied: fsspec>=0.6.0 in /usr/local/lib/python3.7/dist-packages (from dask>=2.6.0->autogluon.core==0.2.0->autogluon) (2021.5.0)\n",
            "Requirement already satisfied: msgpack>=0.6.0 in /usr/local/lib/python3.7/dist-packages (from distributed>=2.6.0->autogluon.core==0.2.0->autogluon) (1.0.2)\n",
            "Requirement already satisfied: zict>=0.1.3 in /usr/local/lib/python3.7/dist-packages (from distributed>=2.6.0->autogluon.core==0.2.0->autogluon) (2.0.0)\n",
            "Requirement already satisfied: sortedcontainers!=2.0.0,!=2.0.1 in /usr/local/lib/python3.7/dist-packages (from distributed>=2.6.0->autogluon.core==0.2.0->autogluon) (2.3.0)\n",
            "Requirement already satisfied: click>=6.6 in /usr/local/lib/python3.7/dist-packages (from distributed>=2.6.0->autogluon.core==0.2.0->autogluon) (8.0.0)\n",
            "Requirement already satisfied: tblib>=1.6.0 in /usr/local/lib/python3.7/dist-packages (from distributed>=2.6.0->autogluon.core==0.2.0->autogluon) (1.7.0)\n",
            "Requirement already satisfied: setuptools in /usr/local/lib/python3.7/dist-packages (from distributed>=2.6.0->autogluon.core==0.2.0->autogluon) (56.2.0)\n",
            "Requirement already satisfied: packaging in /usr/local/lib/python3.7/dist-packages (from fastai<3.0,>=2.0->autogluon.tabular[all]==0.2.0->autogluon) (20.9)\n",
            "Requirement already satisfied: spacy<4 in /usr/local/lib/python3.7/dist-packages (from fastai<3.0,>=2.0->autogluon.tabular[all]==0.2.0->autogluon) (2.2.4)\n",
            "Requirement already satisfied: torchvision>=0.8.2 in /usr/local/lib/python3.7/dist-packages (from fastai<3.0,>=2.0->autogluon.tabular[all]==0.2.0->autogluon) (0.9.1+cu101)\n",
            "Requirement already satisfied: fastprogress>=0.2.4 in /usr/local/lib/python3.7/dist-packages (from fastai<3.0,>=2.0->autogluon.tabular[all]==0.2.0->autogluon) (1.0.0)\n",
            "Requirement already satisfied: pip in /usr/local/lib/python3.7/dist-packages (from fastai<3.0,>=2.0->autogluon.tabular[all]==0.2.0->autogluon) (21.1.1)\n",
            "Requirement already satisfied: fastcore<1.4,>=1.3.8 in /usr/local/lib/python3.7/dist-packages (from fastai<3.0,>=2.0->autogluon.tabular[all]==0.2.0->autogluon) (1.3.20)\n",
            "Requirement already satisfied: opencv-python in /usr/local/lib/python3.7/dist-packages (from gluoncv<0.11,>=0.10.1.post0->autogluon.extra==0.2.0->autogluon) (4.1.2.30)\n",
            "Requirement already satisfied: decord in /usr/local/lib/python3.7/dist-packages (from gluoncv<0.11,>=0.10.1.post0->autogluon.extra==0.2.0->autogluon) (0.5.2)\n",
            "Requirement already satisfied: tensorboardx in /usr/local/lib/python3.7/dist-packages (from gluoncv<0.11,>=0.10.1.post0->autogluon.extra==0.2.0->autogluon) (2.2)\n",
            "Requirement already satisfied: autocfg in /usr/local/lib/python3.7/dist-packages (from gluoncv<0.11,>=0.10.1.post0->autogluon.extra==0.2.0->autogluon) (0.0.8)\n",
            "Requirement already satisfied: portalocker in /usr/local/lib/python3.7/dist-packages (from gluoncv<0.11,>=0.10.1.post0->autogluon.extra==0.2.0->autogluon) (2.0.0)\n",
            "Requirement already satisfied: wheel in /usr/local/lib/python3.7/dist-packages (from lightgbm<4.0,>=3.0->autogluon.tabular[all]==0.2.0->autogluon) (0.36.2)\n",
            "Requirement already satisfied: decorator<5,>=4.3 in /usr/local/lib/python3.7/dist-packages (from networkx<3.0,>=2.3->autogluon.tabular[all]==0.2.0->autogluon) (4.4.2)\n",
            "Requirement already satisfied: python-dateutil>=2.7.3 in /usr/local/lib/python3.7/dist-packages (from pandas<2.0,>=1.0.0->autogluon.core==0.2.0->autogluon) (2.8.1)\n",
            "Requirement already satisfied: pytz>=2017.2 in /usr/local/lib/python3.7/dist-packages (from pandas<2.0,>=1.0.0->autogluon.core==0.2.0->autogluon) (2018.9)\n",
            "Requirement already satisfied: bcrypt>=3.1.3 in /usr/local/lib/python3.7/dist-packages (from paramiko>=2.4->autogluon.core==0.2.0->autogluon) (3.2.0)\n",
            "Requirement already satisfied: pynacl>=1.0.1 in /usr/local/lib/python3.7/dist-packages (from paramiko>=2.4->autogluon.core==0.2.0->autogluon) (1.4.0)\n",
            "Requirement already satisfied: cryptography>=2.5 in /usr/local/lib/python3.7/dist-packages (from paramiko>=2.4->autogluon.core==0.2.0->autogluon) (3.4.7)\n",
            "Requirement already satisfied: cffi>=1.1 in /usr/local/lib/python3.7/dist-packages (from bcrypt>=3.1.3->paramiko>=2.4->autogluon.core==0.2.0->autogluon) (1.14.5)\n",
            "Requirement already satisfied: pycparser in /usr/local/lib/python3.7/dist-packages (from cffi>=1.1->bcrypt>=3.1.3->paramiko>=2.4->autogluon.core==0.2.0->autogluon) (2.20)\n",
            "Requirement already satisfied: locket in /usr/local/lib/python3.7/dist-packages (from partd>=0.3.10->dask>=2.6.0->autogluon.core==0.2.0->autogluon) (0.2.1)\n",
            "Requirement already satisfied: joblib in /usr/local/lib/python3.7/dist-packages (from sacremoses>=0.0.38->autogluon-contrib-nlp==0.0.1b20210201->autogluon.text==0.2.0->autogluon) (1.0.1)\n",
            "Requirement already satisfied: threadpoolctl>=2.0.0 in /usr/local/lib/python3.7/dist-packages (from scikit-learn<0.25,>=0.23.2->autogluon.core==0.2.0->autogluon) (2.1.0)\n",
            "Requirement already satisfied: srsly<1.1.0,>=1.0.2 in /usr/local/lib/python3.7/dist-packages (from spacy<4->fastai<3.0,>=2.0->autogluon.tabular[all]==0.2.0->autogluon) (1.0.5)\n",
            "Requirement already satisfied: blis<0.5.0,>=0.4.0 in /usr/local/lib/python3.7/dist-packages (from spacy<4->fastai<3.0,>=2.0->autogluon.tabular[all]==0.2.0->autogluon) (0.4.1)\n",
            "Requirement already satisfied: cymem<2.1.0,>=2.0.2 in /usr/local/lib/python3.7/dist-packages (from spacy<4->fastai<3.0,>=2.0->autogluon.tabular[all]==0.2.0->autogluon) (2.0.5)\n",
            "Requirement already satisfied: preshed<3.1.0,>=3.0.2 in /usr/local/lib/python3.7/dist-packages (from spacy<4->fastai<3.0,>=2.0->autogluon.tabular[all]==0.2.0->autogluon) (3.0.5)\n",
            "Requirement already satisfied: thinc==7.4.0 in /usr/local/lib/python3.7/dist-packages (from spacy<4->fastai<3.0,>=2.0->autogluon.tabular[all]==0.2.0->autogluon) (7.4.0)\n",
            "Requirement already satisfied: catalogue<1.1.0,>=0.0.7 in /usr/local/lib/python3.7/dist-packages (from spacy<4->fastai<3.0,>=2.0->autogluon.tabular[all]==0.2.0->autogluon) (1.0.0)\n",
            "Requirement already satisfied: wasabi<1.1.0,>=0.4.0 in /usr/local/lib/python3.7/dist-packages (from spacy<4->fastai<3.0,>=2.0->autogluon.tabular[all]==0.2.0->autogluon) (0.8.2)\n",
            "Requirement already satisfied: plac<1.2.0,>=0.9.6 in /usr/local/lib/python3.7/dist-packages (from spacy<4->fastai<3.0,>=2.0->autogluon.tabular[all]==0.2.0->autogluon) (1.1.3)\n",
            "Requirement already satisfied: murmurhash<1.1.0,>=0.28.0 in /usr/local/lib/python3.7/dist-packages (from spacy<4->fastai<3.0,>=2.0->autogluon.tabular[all]==0.2.0->autogluon) (1.0.5)\n",
            "Requirement already satisfied: importlib-metadata>=0.20 in /usr/local/lib/python3.7/dist-packages (from catalogue<1.1.0,>=0.0.7->spacy<4->fastai<3.0,>=2.0->autogluon.tabular[all]==0.2.0->autogluon) (4.0.1)\n",
            "Requirement already satisfied: typing-extensions>=3.6.4 in /usr/local/lib/python3.7/dist-packages (from importlib-metadata>=0.20->catalogue<1.1.0,>=0.0.7->spacy<4->fastai<3.0,>=2.0->autogluon.tabular[all]==0.2.0->autogluon) (3.7.4.3)\n",
            "Requirement already satisfied: zipp>=0.5 in /usr/local/lib/python3.7/dist-packages (from importlib-metadata>=0.20->catalogue<1.1.0,>=0.0.7->spacy<4->fastai<3.0,>=2.0->autogluon.tabular[all]==0.2.0->autogluon) (3.4.1)\n",
            "Requirement already satisfied: chardet<4,>=3.0.2 in /usr/local/lib/python3.7/dist-packages (from requests->autogluon.core==0.2.0->autogluon) (3.0.4)\n",
            "Requirement already satisfied: idna<3,>=2.5 in /usr/local/lib/python3.7/dist-packages (from requests->autogluon.core==0.2.0->autogluon) (2.10)\n",
            "Requirement already satisfied: certifi>=2017.4.17 in /usr/local/lib/python3.7/dist-packages (from requests->autogluon.core==0.2.0->autogluon) (2020.12.5)\n",
            "Requirement already satisfied: urllib3!=1.25.0,!=1.25.1,<1.26,>=1.21.1 in /usr/local/lib/python3.7/dist-packages (from requests->autogluon.core==0.2.0->autogluon) (1.25.11)\n",
            "Requirement already satisfied: heapdict in /usr/local/lib/python3.7/dist-packages (from zict>=0.1.3->distributed>=2.6.0->autogluon.core==0.2.0->autogluon) (1.0.1)\n",
            "Requirement already satisfied: s3transfer<0.5.0,>=0.4.0 in /usr/local/lib/python3.7/dist-packages (from boto3->autogluon.core==0.2.0->autogluon) (0.4.2)\n",
            "Requirement already satisfied: botocore<1.21.0,>=1.20.73 in /usr/local/lib/python3.7/dist-packages (from boto3->autogluon.core==0.2.0->autogluon) (1.20.73)\n",
            "Requirement already satisfied: jmespath<1.0.0,>=0.7.1 in /usr/local/lib/python3.7/dist-packages (from boto3->autogluon.core==0.2.0->autogluon) (0.10.0)\n",
            "Requirement already satisfied: immutables>=0.9 in /usr/local/lib/python3.7/dist-packages (from contextvars->autogluon-contrib-nlp==0.0.1b20210201->autogluon.text==0.2.0->autogluon) (0.15)\n",
            "Requirement already satisfied: pyflakes<2.4.0,>=2.3.0 in /usr/local/lib/python3.7/dist-packages (from flake8->autogluon-contrib-nlp==0.0.1b20210201->autogluon.text==0.2.0->autogluon) (2.3.1)\n",
            "Requirement already satisfied: mccabe<0.7.0,>=0.6.0 in /usr/local/lib/python3.7/dist-packages (from flake8->autogluon-contrib-nlp==0.0.1b20210201->autogluon.text==0.2.0->autogluon) (0.6.1)\n",
            "Requirement already satisfied: pycodestyle<2.8.0,>=2.7.0 in /usr/local/lib/python3.7/dist-packages (from flake8->autogluon-contrib-nlp==0.0.1b20210201->autogluon.text==0.2.0->autogluon) (2.7.0)\n",
            "Requirement already satisfied: python-slugify in /usr/local/lib/python3.7/dist-packages (from kaggle->d8<1.0,>=0.0.2->autogluon.vision==0.2.0->autogluon) (5.0.2)\n",
            "Requirement already satisfied: kiwisolver>=1.0.1 in /usr/local/lib/python3.7/dist-packages (from matplotlib->autogluon.core==0.2.0->autogluon) (1.3.1)\n",
            "Requirement already satisfied: cycler>=0.10 in /usr/local/lib/python3.7/dist-packages (from matplotlib->autogluon.core==0.2.0->autogluon) (0.10.0)\n",
            "Requirement already satisfied: minio in /usr/local/lib/python3.7/dist-packages (from openml->autogluon.extra==0.2.0->autogluon) (7.0.3)\n",
            "Requirement already satisfied: liac-arff>=2.4.0 in /usr/local/lib/python3.7/dist-packages (from openml->autogluon.extra==0.2.0->autogluon) (2.5.0)\n",
            "Requirement already satisfied: xmltodict in /usr/local/lib/python3.7/dist-packages (from openml->autogluon.extra==0.2.0->autogluon) (0.12.0)\n",
            "Requirement already satisfied: retrying>=1.3.3 in /usr/local/lib/python3.7/dist-packages (from plotly->catboost<0.26,>=0.24.0->autogluon.tabular[all]==0.2.0->autogluon) (1.3.3)\n",
            "Requirement already satisfied: atomicwrites>=1.0 in /usr/local/lib/python3.7/dist-packages (from pytest->autogluon.extra==0.2.0->autogluon) (1.4.0)\n",
            "Requirement already satisfied: pluggy<0.8,>=0.5 in /usr/local/lib/python3.7/dist-packages (from pytest->autogluon.extra==0.2.0->autogluon) (0.7.1)\n",
            "Requirement already satisfied: py>=1.5.0 in /usr/local/lib/python3.7/dist-packages (from pytest->autogluon.extra==0.2.0->autogluon) (1.10.0)\n",
            "Requirement already satisfied: attrs>=17.4.0 in /usr/local/lib/python3.7/dist-packages (from pytest->autogluon.extra==0.2.0->autogluon) (21.2.0)\n",
            "Requirement already satisfied: more-itertools>=4.0.0 in /usr/local/lib/python3.7/dist-packages (from pytest->autogluon.extra==0.2.0->autogluon) (8.7.0)\n",
            "Requirement already satisfied: text-unidecode>=1.3 in /usr/local/lib/python3.7/dist-packages (from python-slugify->kaggle->d8<1.0,>=0.0.2->autogluon.vision==0.2.0->autogluon) (1.3)\n",
            "\u001b[33mWARNING: Running pip as root will break packages and permissions. You should install packages reliably by using venv: https://pip.pypa.io/warnings/venv\u001b[0m\n"
          ],
          "name": "stdout"
        }
      ]
    },
    {
      "cell_type": "code",
      "metadata": {
        "id": "UiLJ89Nh7XOz"
      },
      "source": [
        "import autogluon.core as ag\n",
        "from autogluon.vision import ImagePredictor"
      ],
      "execution_count": null,
      "outputs": []
    },
    {
      "cell_type": "code",
      "metadata": {
        "colab": {
          "base_uri": "https://localhost:8080/"
        },
        "id": "14nuWdSz7mDV",
        "outputId": "f4817a97-5966-499d-eb9b-4f9f7d7a77a3"
      },
      "source": [
        "from google.colab import drive\n",
        "drive.mount('/content/drive')"
      ],
      "execution_count": null,
      "outputs": [
        {
          "output_type": "stream",
          "text": [
            "Drive already mounted at /content/drive; to attempt to forcibly remount, call drive.mount(\"/content/drive\", force_remount=True).\n"
          ],
          "name": "stdout"
        }
      ]
    },
    {
      "cell_type": "code",
      "metadata": {
        "colab": {
          "base_uri": "https://localhost:8080/"
        },
        "id": "hjzlFkHC4ZAG",
        "outputId": "0f15390c-8a85-4b44-e63e-f05aadcea54f"
      },
      "source": [
        "!unzip ./drive/MyDrive/archive_60_20.zip"
      ],
      "execution_count": null,
      "outputs": [
        {
          "output_type": "stream",
          "text": [
            "unzip:  cannot find or open ./drive/MyDrive/archive_60_20.zip, ./drive/MyDrive/archive_60_20.zip.zip or ./drive/MyDrive/archive_60_20.zip.ZIP.\n"
          ],
          "name": "stdout"
        }
      ]
    },
    {
      "cell_type": "code",
      "metadata": {
        "colab": {
          "base_uri": "https://localhost:8080/"
        },
        "id": "868MMwKQtqui",
        "outputId": "9190631d-9410-46ab-fa5c-534423501ab5"
      },
      "source": [
        "%cd /content\n",
        "train_dataset, _, test_dataset = ImagePredictor.Dataset.from_folders('./data')\n",
        "print(train_dataset)\n",
        "print(test_dataset)"
      ],
      "execution_count": null,
      "outputs": [
        {
          "output_type": "stream",
          "text": [
            "/content\n",
            "                                       image  label\n",
            "0     /content/data/train/blast/IMG_0448.jpg      0\n",
            "1     /content/data/train/blast/IMG_0535.jpg      0\n",
            "2     /content/data/train/blast/IMG_0536.jpg      0\n",
            "3     /content/data/train/blast/IMG_0541.jpg      0\n",
            "4     /content/data/train/blast/IMG_0543.jpg      0\n",
            "..                                       ...    ...\n",
            "175  /content/data/train/tungro/IMG_0886.jpg      2\n",
            "176  /content/data/train/tungro/IMG_0887.jpg      2\n",
            "177  /content/data/train/tungro/IMG_0888.jpg      2\n",
            "178  /content/data/train/tungro/IMG_0889.jpg      2\n",
            "179  /content/data/train/tungro/IMG_0890.jpg      2\n",
            "\n",
            "[180 rows x 2 columns]\n",
            "                                     image  label\n",
            "0    /content/data/test/blast/IMG_0682.jpg      0\n",
            "1    /content/data/test/blast/IMG_0684.jpg      0\n",
            "2    /content/data/test/blast/IMG_0687.jpg      0\n",
            "3    /content/data/test/blast/IMG_0691.jpg      0\n",
            "4    /content/data/test/blast/IMG_0692.jpg      0\n",
            "5    /content/data/test/blast/IMG_0694.jpg      0\n",
            "6    /content/data/test/blast/IMG_0695.jpg      0\n",
            "7    /content/data/test/blast/IMG_0698.jpg      0\n",
            "8    /content/data/test/blast/IMG_0701.jpg      0\n",
            "9    /content/data/test/blast/IMG_0704.jpg      0\n",
            "10   /content/data/test/blast/IMG_0705.jpg      0\n",
            "11   /content/data/test/blast/IMG_0707.jpg      0\n",
            "12   /content/data/test/blast/IMG_0708.jpg      0\n",
            "13   /content/data/test/blast/IMG_0711.jpg      0\n",
            "14   /content/data/test/blast/IMG_0713.jpg      0\n",
            "15   /content/data/test/blast/IMG_0716.jpg      0\n",
            "16   /content/data/test/blast/IMG_0717.jpg      0\n",
            "17   /content/data/test/blast/IMG_0718.jpg      0\n",
            "18   /content/data/test/blast/IMG_0720.jpg      0\n",
            "19   /content/data/test/blast/IMG_0722.jpg      0\n",
            "20  /content/data/test/blight/IMG_1033.jpg      1\n",
            "21  /content/data/test/blight/IMG_1034.jpg      1\n",
            "22  /content/data/test/blight/IMG_1035.jpg      1\n",
            "23  /content/data/test/blight/IMG_1036.jpg      1\n",
            "24  /content/data/test/blight/IMG_1042.jpg      1\n",
            "25  /content/data/test/blight/IMG_1043.jpg      1\n",
            "26  /content/data/test/blight/IMG_1047.jpg      1\n",
            "27  /content/data/test/blight/IMG_1055.jpg      1\n",
            "28  /content/data/test/blight/IMG_1056.jpg      1\n",
            "29  /content/data/test/blight/IMG_1057.jpg      1\n",
            "30  /content/data/test/blight/IMG_1059.jpg      1\n",
            "31  /content/data/test/blight/IMG_1063.jpg      1\n",
            "32  /content/data/test/blight/IMG_1064.jpg      1\n",
            "33  /content/data/test/blight/IMG_1065.jpg      1\n",
            "34  /content/data/test/blight/IMG_1066.jpg      1\n",
            "35  /content/data/test/blight/IMG_1068.jpg      1\n",
            "36  /content/data/test/blight/IMG_1069.jpg      1\n",
            "37  /content/data/test/blight/IMG_1071.jpg      1\n",
            "38  /content/data/test/blight/IMG_1072.jpg      1\n",
            "39  /content/data/test/blight/IMG_1075.jpg      1\n",
            "40  /content/data/test/tungro/IMG_0891.jpg      2\n",
            "41  /content/data/test/tungro/IMG_0895.jpg      2\n",
            "42  /content/data/test/tungro/IMG_0896.jpg      2\n",
            "43  /content/data/test/tungro/IMG_0897.jpg      2\n",
            "44  /content/data/test/tungro/IMG_0898.jpg      2\n",
            "45  /content/data/test/tungro/IMG_0899.jpg      2\n",
            "46  /content/data/test/tungro/IMG_0900.jpg      2\n",
            "47  /content/data/test/tungro/IMG_0901.jpg      2\n",
            "48  /content/data/test/tungro/IMG_0902.jpg      2\n",
            "49  /content/data/test/tungro/IMG_0903.jpg      2\n",
            "50  /content/data/test/tungro/IMG_0904.jpg      2\n",
            "51  /content/data/test/tungro/IMG_0906.jpg      2\n",
            "52  /content/data/test/tungro/IMG_0907.jpg      2\n",
            "53  /content/data/test/tungro/IMG_0911.jpg      2\n",
            "54  /content/data/test/tungro/IMG_0912.jpg      2\n",
            "55  /content/data/test/tungro/IMG_0913.jpg      2\n",
            "56  /content/data/test/tungro/IMG_0916.jpg      2\n",
            "57  /content/data/test/tungro/IMG_0917.jpg      2\n",
            "58  /content/data/test/tungro/IMG_0923.jpg      2\n",
            "59  /content/data/test/tungro/IMG_1028.jpg      2\n"
          ],
          "name": "stdout"
        }
      ]
    },
    {
      "cell_type": "code",
      "metadata": {
        "colab": {
          "base_uri": "https://localhost:8080/",
          "height": 1000,
          "referenced_widgets": [
            "8eff84ffd4de48f4be8d895b19672c3e",
            "d91911b1f866427e819c0b4195491d32",
            "1b661edaa17545afa9469129d8bdc0ad",
            "9940e4e02785403cb9706ed62ef652b0",
            "7987bec79320403799135562b6f8c7c6",
            "6db8e64959bb48658fe0e8c878abfc88",
            "cfe9eb71bd8642db9cddc934faab9bea",
            "3feea30ba2664f9bab29c6cbcfe843a3"
          ]
        },
        "id": "UznuAZB_7nV5",
        "outputId": "0dbef484-b5d8-4bfb-c232-2943eef356da"
      },
      "source": [
        "predictor = ImagePredictor()\n",
        "# since the original dataset does not provide validation split, the `fit` function splits it randomly with 90/10 ratio\n",
        "predictor.fit(train_dataset, hyperparameters={'epochs':10}, hyperparameter_tune_kwargs={'num_trials': 3})  # you can trust the default config, we reduce the # epoch to save some build time"
      ],
      "execution_count": null,
      "outputs": [
        {
          "output_type": "stream",
          "text": [
            "INFO:root:`time_limit=auto` set to `time_limit=7200`.\n",
            "INFO:root:Reset labels to [0, 1, 2]\n",
            "WARNING:gluoncv.auto.tasks.image_classification:The number of requested GPUs is greater than the number of available GPUs.Reduce the number to 1\n",
            "INFO:gluoncv.auto.tasks.image_classification:Randomly split train_data into train[162]/validation[18] splits.\n",
            "INFO:gluoncv.auto.tasks.image_classification:Starting HPO experiments\n"
          ],
          "name": "stderr"
        },
        {
          "output_type": "display_data",
          "data": {
            "application/vnd.jupyter.widget-view+json": {
              "model_id": "8eff84ffd4de48f4be8d895b19672c3e",
              "version_minor": 0,
              "version_major": 2
            },
            "text/plain": [
              "HBox(children=(FloatProgress(value=0.0, max=3.0), HTML(value='')))"
            ]
          },
          "metadata": {
            "tags": []
          }
        },
        {
          "output_type": "stream",
          "text": [
            "INFO:ImageClassificationEstimator:modified configs(<old> != <new>): {\n",
            "INFO:ImageClassificationEstimator:root.img_cls.model   resnet50_v1 != resnet50_v1b\n",
            "INFO:ImageClassificationEstimator:root.train.rec_train_idx ~/.mxnet/datasets/imagenet/rec/train.idx != auto\n",
            "INFO:ImageClassificationEstimator:root.train.early_stop_baseline 0.0 != -inf\n",
            "INFO:ImageClassificationEstimator:root.train.lr        0.1 != 0.01\n",
            "INFO:ImageClassificationEstimator:root.train.batch_size 128 != 16\n",
            "INFO:ImageClassificationEstimator:root.train.num_workers 4 != 2\n",
            "INFO:ImageClassificationEstimator:root.train.rec_val   ~/.mxnet/datasets/imagenet/rec/val.rec != auto\n",
            "INFO:ImageClassificationEstimator:root.train.early_stop_max_value 1.0 != inf\n",
            "INFO:ImageClassificationEstimator:root.train.rec_val_idx ~/.mxnet/datasets/imagenet/rec/val.idx != auto\n",
            "INFO:ImageClassificationEstimator:root.train.early_stop_patience -1 != 10\n",
            "INFO:ImageClassificationEstimator:root.train.num_training_samples 1281167 != -1\n",
            "INFO:ImageClassificationEstimator:root.train.rec_train ~/.mxnet/datasets/imagenet/rec/train.rec != auto\n",
            "INFO:ImageClassificationEstimator:root.train.data_dir  ~/.mxnet/datasets/imagenet != auto\n",
            "INFO:ImageClassificationEstimator:root.valid.num_workers 4 != 2\n",
            "INFO:ImageClassificationEstimator:root.valid.batch_size 128 != 16\n",
            "INFO:ImageClassificationEstimator:}\n",
            "INFO:ImageClassificationEstimator:Saved config to /content/c1f961c4/.trial_0/config.yaml\n",
            "INFO:ImageClassificationEstimator:Start training from [Epoch 0]\n",
            "INFO:ImageClassificationEstimator:modified configs(<old> != <new>): {\n",
            "INFO:ImageClassificationEstimator:root.img_cls.model   resnet50_v1 != resnest50\n",
            "INFO:ImageClassificationEstimator:root.train.rec_train_idx ~/.mxnet/datasets/imagenet/rec/train.idx != auto\n",
            "INFO:ImageClassificationEstimator:root.train.early_stop_baseline 0.0 != -inf\n",
            "INFO:ImageClassificationEstimator:root.train.lr        0.1 != 0.01\n",
            "INFO:ImageClassificationEstimator:root.train.batch_size 128 != 16\n",
            "INFO:ImageClassificationEstimator:root.train.num_workers 4 != 2\n",
            "INFO:ImageClassificationEstimator:root.train.rec_val   ~/.mxnet/datasets/imagenet/rec/val.rec != auto\n",
            "INFO:ImageClassificationEstimator:root.train.early_stop_max_value 1.0 != inf\n",
            "INFO:ImageClassificationEstimator:root.train.rec_val_idx ~/.mxnet/datasets/imagenet/rec/val.idx != auto\n",
            "INFO:ImageClassificationEstimator:root.train.early_stop_patience -1 != 10\n",
            "INFO:ImageClassificationEstimator:root.train.num_training_samples 1281167 != -1\n",
            "INFO:ImageClassificationEstimator:root.train.rec_train ~/.mxnet/datasets/imagenet/rec/train.rec != auto\n",
            "INFO:ImageClassificationEstimator:root.train.data_dir  ~/.mxnet/datasets/imagenet != auto\n",
            "INFO:ImageClassificationEstimator:root.valid.num_workers 4 != 2\n",
            "INFO:ImageClassificationEstimator:root.valid.batch_size 128 != 16\n",
            "INFO:ImageClassificationEstimator:}\n",
            "INFO:ImageClassificationEstimator:Saved config to /content/c1f961c4/.trial_1/config.yaml\n",
            "INFO:ImageClassificationEstimator:Start training from [Epoch 0]\n",
            "INFO:ImageClassificationEstimator:modified configs(<old> != <new>): {\n",
            "INFO:ImageClassificationEstimator:root.img_cls.model   resnet50_v1 != resnet50_v1b\n",
            "INFO:ImageClassificationEstimator:root.train.rec_train_idx ~/.mxnet/datasets/imagenet/rec/train.idx != auto\n",
            "INFO:ImageClassificationEstimator:root.train.early_stop_baseline 0.0 != -inf\n",
            "INFO:ImageClassificationEstimator:root.train.lr        0.1 != 0.05\n",
            "INFO:ImageClassificationEstimator:root.train.batch_size 128 != 16\n",
            "INFO:ImageClassificationEstimator:root.train.num_workers 4 != 2\n",
            "INFO:ImageClassificationEstimator:root.train.rec_val   ~/.mxnet/datasets/imagenet/rec/val.rec != auto\n",
            "INFO:ImageClassificationEstimator:root.train.early_stop_max_value 1.0 != inf\n",
            "INFO:ImageClassificationEstimator:root.train.rec_val_idx ~/.mxnet/datasets/imagenet/rec/val.idx != auto\n",
            "INFO:ImageClassificationEstimator:root.train.early_stop_patience -1 != 10\n",
            "INFO:ImageClassificationEstimator:root.train.num_training_samples 1281167 != -1\n",
            "INFO:ImageClassificationEstimator:root.train.rec_train ~/.mxnet/datasets/imagenet/rec/train.rec != auto\n",
            "INFO:ImageClassificationEstimator:root.train.data_dir  ~/.mxnet/datasets/imagenet != auto\n",
            "INFO:ImageClassificationEstimator:root.valid.num_workers 4 != 2\n",
            "INFO:ImageClassificationEstimator:root.valid.batch_size 128 != 16\n",
            "INFO:ImageClassificationEstimator:}\n",
            "INFO:ImageClassificationEstimator:Saved config to /content/c1f961c4/.trial_2/config.yaml\n",
            "INFO:ImageClassificationEstimator:Start training from [Epoch 0]\n",
            "INFO:ImageClassificationEstimator:modified configs(<old> != <new>): {\n",
            "INFO:ImageClassificationEstimator:root.img_cls.model   resnet50_v1 != resnet50_v1b\n",
            "INFO:ImageClassificationEstimator:root.train.rec_train_idx ~/.mxnet/datasets/imagenet/rec/train.idx != auto\n",
            "INFO:ImageClassificationEstimator:root.train.early_stop_baseline 0.0 != -inf\n",
            "INFO:ImageClassificationEstimator:root.train.lr        0.1 != 0.01\n",
            "INFO:ImageClassificationEstimator:root.train.batch_size 128 != 16\n",
            "INFO:ImageClassificationEstimator:root.train.num_workers 4 != 2\n",
            "INFO:ImageClassificationEstimator:root.train.rec_val   ~/.mxnet/datasets/imagenet/rec/val.rec != auto\n",
            "INFO:ImageClassificationEstimator:root.train.early_stop_max_value 1.0 != inf\n",
            "INFO:ImageClassificationEstimator:root.train.rec_val_idx ~/.mxnet/datasets/imagenet/rec/val.idx != auto\n",
            "INFO:ImageClassificationEstimator:root.train.early_stop_patience -1 != 10\n",
            "INFO:ImageClassificationEstimator:root.train.num_training_samples 1281167 != -1\n",
            "INFO:ImageClassificationEstimator:root.train.rec_train ~/.mxnet/datasets/imagenet/rec/train.rec != auto\n",
            "INFO:ImageClassificationEstimator:root.train.data_dir  ~/.mxnet/datasets/imagenet != auto\n",
            "INFO:ImageClassificationEstimator:root.valid.num_workers 4 != 2\n",
            "INFO:ImageClassificationEstimator:root.valid.batch_size 128 != 16\n",
            "INFO:ImageClassificationEstimator:}\n",
            "INFO:ImageClassificationEstimator:Saved config to /content/c1f961c4/.trial_0/config.yaml\n"
          ],
          "name": "stderr"
        },
        {
          "output_type": "stream",
          "text": [
            "\n"
          ],
          "name": "stdout"
        },
        {
          "output_type": "stream",
          "text": [
            "INFO:ImageClassificationEstimator:Start training from [Epoch 0]\n",
            "Exception ignored in: <function DataLoader.__del__ at 0x7ff4583f0170>\n",
            "Traceback (most recent call last):\n",
            "  File \"/usr/local/lib/python3.7/dist-packages/mxnet/gluon/data/dataloader.py\", line 661, in __del__\n",
            "    self._worker_pool.terminate()\n",
            "  File \"/usr/lib/python3.7/multiprocessing/pool.py\", line 548, in terminate\n",
            "    self._terminate()\n",
            "  File \"/usr/lib/python3.7/multiprocessing/util.py\", line 224, in __call__\n",
            "    res = self._callback(*self._args, **self._kwargs)\n",
            "  File \"/usr/lib/python3.7/multiprocessing/pool.py\", line 594, in _terminate_pool\n",
            "    worker_handler.join()\n",
            "  File \"/usr/lib/python3.7/threading.py\", line 1044, in join\n",
            "    self._wait_for_tstate_lock()\n",
            "  File \"/usr/lib/python3.7/threading.py\", line 1060, in _wait_for_tstate_lock\n",
            "    elif lock.acquire(block, timeout):\n",
            "KeyboardInterrupt\n",
            "Exception ignored in: <function DataLoader.__del__ at 0x7ff4583f0170>\n",
            "Traceback (most recent call last):\n",
            "  File \"/usr/local/lib/python3.7/dist-packages/mxnet/gluon/data/dataloader.py\", line 661, in __del__\n",
            "    self._worker_pool.terminate()\n",
            "  File \"/usr/lib/python3.7/multiprocessing/pool.py\", line 548, in terminate\n",
            "    self._terminate()\n",
            "  File \"/usr/lib/python3.7/multiprocessing/util.py\", line 224, in __call__\n",
            "    res = self._callback(*self._args, **self._kwargs)\n",
            "  File \"/usr/lib/python3.7/multiprocessing/pool.py\", line 617, in _terminate_pool\n",
            "    p.join()\n",
            "  File \"/usr/lib/python3.7/multiprocessing/process.py\", line 140, in join\n",
            "    res = self._popen.wait(timeout)\n",
            "  File \"/usr/lib/python3.7/multiprocessing/popen_fork.py\", line 48, in wait\n",
            "    return self.poll(os.WNOHANG if timeout == 0.0 else 0)\n",
            "  File \"/usr/lib/python3.7/multiprocessing/popen_fork.py\", line 28, in poll\n",
            "    pid, sts = os.waitpid(self.pid, flag)\n",
            "KeyboardInterrupt: \n",
            "INFO:autogluon.core.scheduler.seq_scheduler:Saving Training Curve in checkpoint/plot_training_curves.png\n"
          ],
          "name": "stderr"
        }
      ]
    },
    {
      "cell_type": "code",
      "metadata": {
        "id": "cqngS_Fp7pLa"
      },
      "source": [
        "fit_result = predictor.fit_summary()\n",
        "print('Top-1 train acc: %.3f, val acc: %.3f' %(fit_result['train_acc'], fit_result['valid_acc']))"
      ],
      "execution_count": null,
      "outputs": []
    },
    {
      "cell_type": "code",
      "metadata": {
        "id": "w8YJn19qALcj"
      },
      "source": [
        "test_acc, _ = predictor.evaluate(test_dataset)\n",
        "print('Top-1 test acc: %.3f' % test_acc)"
      ],
      "execution_count": null,
      "outputs": []
    }
  ]
}