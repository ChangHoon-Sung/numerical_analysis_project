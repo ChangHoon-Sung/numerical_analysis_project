{
  "nbformat": 4,
  "nbformat_minor": 0,
  "metadata": {
    "colab": {
      "name": "sample_Tpot_ImagePredictor.ipynb",
      "provenance": [],
      "collapsed_sections": []
    },
    "kernelspec": {
      "name": "python3",
      "display_name": "Python 3"
    },
    "language_info": {
      "name": "python"
    },
    "accelerator": "GPU",
    "widgets": {
      "application/vnd.jupyter.widget-state+json": {
        "322e9a5667974fab9184e4e1d5234525": {
          "model_module": "@jupyter-widgets/controls",
          "model_name": "HBoxModel",
          "state": {
            "_view_name": "HBoxView",
            "_dom_classes": [],
            "_model_name": "HBoxModel",
            "_view_module": "@jupyter-widgets/controls",
            "_model_module_version": "1.5.0",
            "_view_count": null,
            "_view_module_version": "1.5.0",
            "box_style": "",
            "layout": "IPY_MODEL_b7da377898a34902be3049dd11f53e97",
            "_model_module": "@jupyter-widgets/controls",
            "children": [
              "IPY_MODEL_f7655944c2aa461798fa10a65f6f668b",
              "IPY_MODEL_4537f84dd2124dd1b2c9f3e4f3e23114"
            ]
          }
        },
        "b7da377898a34902be3049dd11f53e97": {
          "model_module": "@jupyter-widgets/base",
          "model_name": "LayoutModel",
          "state": {
            "_view_name": "LayoutView",
            "grid_template_rows": null,
            "right": null,
            "justify_content": null,
            "_view_module": "@jupyter-widgets/base",
            "overflow": null,
            "_model_module_version": "1.2.0",
            "_view_count": null,
            "flex_flow": null,
            "width": null,
            "min_width": null,
            "border": null,
            "align_items": null,
            "bottom": null,
            "_model_module": "@jupyter-widgets/base",
            "top": null,
            "grid_column": null,
            "overflow_y": null,
            "overflow_x": null,
            "grid_auto_flow": null,
            "grid_area": null,
            "grid_template_columns": null,
            "flex": null,
            "_model_name": "LayoutModel",
            "justify_items": null,
            "grid_row": null,
            "max_height": null,
            "align_content": null,
            "visibility": null,
            "align_self": null,
            "height": null,
            "min_height": null,
            "padding": null,
            "grid_auto_rows": null,
            "grid_gap": null,
            "max_width": null,
            "order": null,
            "_view_module_version": "1.2.0",
            "grid_template_areas": null,
            "object_position": null,
            "object_fit": null,
            "grid_auto_columns": null,
            "margin": null,
            "display": null,
            "left": null
          }
        },
        "f7655944c2aa461798fa10a65f6f668b": {
          "model_module": "@jupyter-widgets/controls",
          "model_name": "FloatProgressModel",
          "state": {
            "_view_name": "ProgressView",
            "style": "IPY_MODEL_e62c1ab68b09438b96e0d4a4a2720cdf",
            "_dom_classes": [],
            "description": "Optimization Progress: ",
            "_model_name": "FloatProgressModel",
            "bar_style": "",
            "max": 11,
            "_view_module": "@jupyter-widgets/controls",
            "_model_module_version": "1.5.0",
            "value": 11,
            "_view_count": null,
            "_view_module_version": "1.5.0",
            "orientation": "horizontal",
            "min": 0,
            "description_tooltip": null,
            "_model_module": "@jupyter-widgets/controls",
            "layout": "IPY_MODEL_6b1bb9ea90fe444dae00b1416f534947"
          }
        },
        "4537f84dd2124dd1b2c9f3e4f3e23114": {
          "model_module": "@jupyter-widgets/controls",
          "model_name": "HTMLModel",
          "state": {
            "_view_name": "HTMLView",
            "style": "IPY_MODEL_c981ffce717347b89901e8d621c79748",
            "_dom_classes": [],
            "description": "",
            "_model_name": "HTMLModel",
            "placeholder": "​",
            "_view_module": "@jupyter-widgets/controls",
            "_model_module_version": "1.5.0",
            "value": " 13/? [24:55&lt;00:00, 179.46s/pipeline]",
            "_view_count": null,
            "_view_module_version": "1.5.0",
            "description_tooltip": null,
            "_model_module": "@jupyter-widgets/controls",
            "layout": "IPY_MODEL_11ad7e19f3ce417b938de11f508aefef"
          }
        },
        "e62c1ab68b09438b96e0d4a4a2720cdf": {
          "model_module": "@jupyter-widgets/controls",
          "model_name": "ProgressStyleModel",
          "state": {
            "_view_name": "StyleView",
            "_model_name": "ProgressStyleModel",
            "description_width": "initial",
            "_view_module": "@jupyter-widgets/base",
            "_model_module_version": "1.5.0",
            "_view_count": null,
            "_view_module_version": "1.2.0",
            "bar_color": null,
            "_model_module": "@jupyter-widgets/controls"
          }
        },
        "6b1bb9ea90fe444dae00b1416f534947": {
          "model_module": "@jupyter-widgets/base",
          "model_name": "LayoutModel",
          "state": {
            "_view_name": "LayoutView",
            "grid_template_rows": null,
            "right": null,
            "justify_content": null,
            "_view_module": "@jupyter-widgets/base",
            "overflow": null,
            "_model_module_version": "1.2.0",
            "_view_count": null,
            "flex_flow": null,
            "width": null,
            "min_width": null,
            "border": null,
            "align_items": null,
            "bottom": null,
            "_model_module": "@jupyter-widgets/base",
            "top": null,
            "grid_column": null,
            "overflow_y": null,
            "overflow_x": null,
            "grid_auto_flow": null,
            "grid_area": null,
            "grid_template_columns": null,
            "flex": null,
            "_model_name": "LayoutModel",
            "justify_items": null,
            "grid_row": null,
            "max_height": null,
            "align_content": null,
            "visibility": null,
            "align_self": null,
            "height": null,
            "min_height": null,
            "padding": null,
            "grid_auto_rows": null,
            "grid_gap": null,
            "max_width": null,
            "order": null,
            "_view_module_version": "1.2.0",
            "grid_template_areas": null,
            "object_position": null,
            "object_fit": null,
            "grid_auto_columns": null,
            "margin": null,
            "display": null,
            "left": null
          }
        },
        "c981ffce717347b89901e8d621c79748": {
          "model_module": "@jupyter-widgets/controls",
          "model_name": "DescriptionStyleModel",
          "state": {
            "_view_name": "StyleView",
            "_model_name": "DescriptionStyleModel",
            "description_width": "",
            "_view_module": "@jupyter-widgets/base",
            "_model_module_version": "1.5.0",
            "_view_count": null,
            "_view_module_version": "1.2.0",
            "_model_module": "@jupyter-widgets/controls"
          }
        },
        "11ad7e19f3ce417b938de11f508aefef": {
          "model_module": "@jupyter-widgets/base",
          "model_name": "LayoutModel",
          "state": {
            "_view_name": "LayoutView",
            "grid_template_rows": null,
            "right": null,
            "justify_content": null,
            "_view_module": "@jupyter-widgets/base",
            "overflow": null,
            "_model_module_version": "1.2.0",
            "_view_count": null,
            "flex_flow": null,
            "width": null,
            "min_width": null,
            "border": null,
            "align_items": null,
            "bottom": null,
            "_model_module": "@jupyter-widgets/base",
            "top": null,
            "grid_column": null,
            "overflow_y": null,
            "overflow_x": null,
            "grid_auto_flow": null,
            "grid_area": null,
            "grid_template_columns": null,
            "flex": null,
            "_model_name": "LayoutModel",
            "justify_items": null,
            "grid_row": null,
            "max_height": null,
            "align_content": null,
            "visibility": null,
            "align_self": null,
            "height": null,
            "min_height": null,
            "padding": null,
            "grid_auto_rows": null,
            "grid_gap": null,
            "max_width": null,
            "order": null,
            "_view_module_version": "1.2.0",
            "grid_template_areas": null,
            "object_position": null,
            "object_fit": null,
            "grid_auto_columns": null,
            "margin": null,
            "display": null,
            "left": null
          }
        }
      }
    }
  },
  "cells": [
    {
      "source": [
        "# Numerical Analysis Project\n",
        "Team: 아프지마\n",
        "\n",
        "Member\n",
        "\n",
        "* 20181628 성창훈\n",
        "* 20181635 신명철\n",
        "\n",
        "written by 성창훈, 신명철"
      ],
      "cell_type": "markdown",
      "metadata": {}
    },
    {
      "source": [
        "# Google Colab\n",
        "\n",
        "TPOT은 NVIDIA RAPIDS 환경에서 GPU 가속을 활용할 수 있다.\n",
        "\n",
        "그러나 Web-Based 노트북에서 해당 환경을 설치하는 것이 매우 까다롭고 오래걸려 CPU로 학습을 진행했다."
      ],
      "cell_type": "markdown",
      "metadata": {}
    },
    {
      "source": [
        "# Packages\n",
        "\n",
        "대다수의 Web-Based notebook 서비스들(Google Colab, Kaggle, Paperspace...)은 docker를 이용해 일관된 환경을 제공한다.\n",
        "\n",
        "환경의 업데이트는 패키지의 업데이트보다 보수적으로 이루어지므로 보통 버전이 낮다.\n",
        "\n",
        "이때 일부 최신 패키지는 높은 버전의 pip 버전을 요하므로, 반드시 패키지 관리 도구를 최신 버전으로 업데이트하여 사용한다.\n",
        "\n",
        "업데이트 후에는 kernel을 다시 시작한다. (초기화가 아님에 유의한다)"
      ],
      "cell_type": "markdown",
      "metadata": {}
    },
    {
      "cell_type": "code",
      "metadata": {
        "colab": {
          "base_uri": "https://localhost:8080/"
        },
        "id": "bJtMsWco2vcC",
        "outputId": "91ecba53-01d4-465e-e8cd-786b23279e94"
      },
      "source": [
        "pip install TPOT"
      ],
      "execution_count": null,
      "outputs": [
        {
          "output_type": "stream",
          "text": [
            "Requirement already satisfied: TPOT in /usr/local/lib/python3.7/dist-packages (0.11.7)\n",
            "Requirement already satisfied: scipy>=1.3.1 in /usr/local/lib/python3.7/dist-packages (from TPOT) (1.4.1)\n",
            "Requirement already satisfied: xgboost>=1.1.0 in /usr/local/lib/python3.7/dist-packages (from TPOT) (1.4.2)\n",
            "Requirement already satisfied: pandas>=0.24.2 in /usr/local/lib/python3.7/dist-packages (from TPOT) (1.1.5)\n",
            "Requirement already satisfied: update-checker>=0.16 in /usr/local/lib/python3.7/dist-packages (from TPOT) (0.18.0)\n",
            "Requirement already satisfied: deap>=1.2 in /usr/local/lib/python3.7/dist-packages (from TPOT) (1.3.1)\n",
            "Requirement already satisfied: tqdm>=4.36.1 in /usr/local/lib/python3.7/dist-packages (from TPOT) (4.41.1)\n",
            "Requirement already satisfied: scikit-learn>=0.22.0 in /usr/local/lib/python3.7/dist-packages (from TPOT) (0.22.2.post1)\n",
            "Requirement already satisfied: joblib>=0.13.2 in /usr/local/lib/python3.7/dist-packages (from TPOT) (1.0.1)\n",
            "Requirement already satisfied: numpy>=1.16.3 in /usr/local/lib/python3.7/dist-packages (from TPOT) (1.19.5)\n",
            "Requirement already satisfied: stopit>=1.1.1 in /usr/local/lib/python3.7/dist-packages (from TPOT) (1.1.2)\n",
            "Requirement already satisfied: pytz>=2017.2 in /usr/local/lib/python3.7/dist-packages (from pandas>=0.24.2->TPOT) (2018.9)\n",
            "Requirement already satisfied: python-dateutil>=2.7.3 in /usr/local/lib/python3.7/dist-packages (from pandas>=0.24.2->TPOT) (2.8.1)\n",
            "Requirement already satisfied: requests>=2.3.0 in /usr/local/lib/python3.7/dist-packages (from update-checker>=0.16->TPOT) (2.23.0)\n",
            "Requirement already satisfied: six>=1.5 in /usr/local/lib/python3.7/dist-packages (from python-dateutil>=2.7.3->pandas>=0.24.2->TPOT) (1.15.0)\n",
            "Requirement already satisfied: certifi>=2017.4.17 in /usr/local/lib/python3.7/dist-packages (from requests>=2.3.0->update-checker>=0.16->TPOT) (2020.12.5)\n",
            "Requirement already satisfied: chardet<4,>=3.0.2 in /usr/local/lib/python3.7/dist-packages (from requests>=2.3.0->update-checker>=0.16->TPOT) (3.0.4)\n",
            "Requirement already satisfied: idna<3,>=2.5 in /usr/local/lib/python3.7/dist-packages (from requests>=2.3.0->update-checker>=0.16->TPOT) (2.10)\n",
            "Requirement already satisfied: urllib3!=1.25.0,!=1.25.1,<1.26,>=1.21.1 in /usr/local/lib/python3.7/dist-packages (from requests>=2.3.0->update-checker>=0.16->TPOT) (1.24.3)\n"
          ],
          "name": "stdout"
        }
      ]
    },
    {
      "source": [
        "# TPOT\n",
        "\n",
        "TPOT은 Tree-based Pipeline Optimization Tool의 약자를 의미한다.\n",
        "\n",
        "유전적 알고리즘을 이용해 파이프라인을 최적화하는 것을 목표로 한다.\n",
        "\n",
        "다른 패키지와 마찬가지로 모델을 자동으로 탐색하고(NAS), 하이퍼파라메터를 최적화한다(HPO)."
      ],
      "cell_type": "markdown",
      "metadata": {}
    },
    {
      "cell_type": "code",
      "metadata": {
        "colab": {
          "base_uri": "https://localhost:8080/"
        },
        "id": "EA1g2BYyrxPe",
        "outputId": "da28d706-4c04-459f-9853-8edd4675c06e"
      },
      "source": [
        "import numpy as np\n",
        "import pandas as pd\n",
        "import os\n",
        "from google.colab import drive\n",
        "from sklearn.model_selection import train_test_split\n",
        "from tpot import TPOTClassifier\n",
        "from tpot import TPOTRegressor\n",
        "\n",
        "drive.mount('/content/gdrive/')"
      ],
      "execution_count": null,
      "outputs": [
        {
          "output_type": "stream",
          "text": [
            "Drive already mounted at /content/gdrive/; to attempt to forcibly remount, call drive.mount(\"/content/gdrive/\", force_remount=True).\n"
          ],
          "name": "stdout"
        },
        {
          "output_type": "stream",
          "text": [
            "/usr/local/lib/python3.7/dist-packages/sklearn/externals/six.py:31: FutureWarning: The module is deprecated in version 0.21 and will be removed in version 0.23 since we've dropped support for Python 2.7. Please rely on the official version of six (https://pypi.org/project/six/).\n",
            "  \"(https://pypi.org/project/six/).\", FutureWarning)\n",
            "/usr/local/lib/python3.7/dist-packages/sklearn/utils/deprecation.py:144: FutureWarning: The sklearn.neighbors.base module is  deprecated in version 0.22 and will be removed in version 0.24. The corresponding classes / functions should instead be imported from sklearn.neighbors. Anything that cannot be imported from sklearn.neighbors is now part of the private API.\n",
            "  warnings.warn(message, FutureWarning)\n"
          ],
          "name": "stderr"
        }
      ]
    },
    {
      "source": [
        "# Data Loading\n",
        "\n",
        "Kaggle의 Leaf Rice Disease Dataset을 이용한다.\n",
        "\n",
        "모든 노트에서 데이터 처리하는 것이 번거로우므로, ndarray화 시킨 이미지 데이터셋을 구글 드라이브에 업로드한 후, 각 노트에서 불러와 사용했다.\n",
        "\n",
        "dataset = imgset_360_480.npy.npz\n",
        "\n",
        "* `dataset['x'].shape : (240, 360, 480, 1)` -> Numpy ndarray image data\n",
        "* `dataset['y'].shape : (240, )` -> labels composed of 0, 1, 2\n",
        "\n",
        "TPOT 같은 경우 이미지 사이즈가 크면 메모리를 초과하여 런타임이 강제 종료되는 상황이 자주 발생했으므로, grayscale을 적용했다.\n",
        "\n",
        "다른 패키지에 비해 입력되는 데이터의 양이 1/3 수준이다."
      ],
      "cell_type": "markdown",
      "metadata": {}
    },
    {
      "cell_type": "code",
      "metadata": {
        "id": "Q7pDmNSZsdUX"
      },
      "source": [
        "dataset = np.load('/content/gdrive/MyDrive/imgset_360_480.npy.npz')"
      ],
      "execution_count": null,
      "outputs": []
    },
    {
      "cell_type": "code",
      "metadata": {
        "id": "kvkgETSos4Sf"
      },
      "source": [
        "x = dataset['x']\n",
        "y = dataset['y']"
      ],
      "execution_count": null,
      "outputs": []
    },
    {
      "cell_type": "code",
      "metadata": {
        "id": "TWfdUJpxtHuo"
      },
      "source": [
        "x = x.reshape(240,360 * 480 * 1)"
      ],
      "execution_count": null,
      "outputs": []
    },
    {
      "cell_type": "code",
      "metadata": {
        "id": "_9XSoRB3uFBP"
      },
      "source": [
        "trainx, testx, trainy, testy = train_test_split(x, y)"
      ],
      "execution_count": null,
      "outputs": []
    },
    {
      "source": [
        "# Build a classifier and Fit\n",
        "TPOT이 classification에 적합한 모델을 탐색한다.\n",
        "\n",
        "코드가 간단한 것이 AutoML의 큰 장점인데, 모델 설계와 학습을 단 두 줄에 끝냈다.\n",
        "\n",
        "TPOT은 하드웨어 스펙의 한계로, 다른 패키지들과 비교했을 때 비교적 작은 인자를 입력했다.\n",
        "\n",
        "유전 알고리즘에 대해서는 최대 10세대까지 진행되도록 했다.\n",
        "\n",
        "유전 알고리즘의 출력 내용을 보면 세대에 따라 더 높은 정확성을 가지도록 모델 구조나 데이터 전처리, 경사하강 기법, 학습 속도 등을 찾아낸 것을 알 수 있다.\n"
      ],
      "cell_type": "markdown",
      "metadata": {}
    },
    {
      "cell_type": "code",
      "metadata": {
        "id": "jiHmsWuUJ0pX",
        "colab": {
          "base_uri": "https://localhost:8080/",
          "height": 1000,
          "referenced_widgets": [
            "322e9a5667974fab9184e4e1d5234525",
            "b7da377898a34902be3049dd11f53e97",
            "f7655944c2aa461798fa10a65f6f668b",
            "4537f84dd2124dd1b2c9f3e4f3e23114",
            "e62c1ab68b09438b96e0d4a4a2720cdf",
            "6b1bb9ea90fe444dae00b1416f534947",
            "c981ffce717347b89901e8d621c79748",
            "11ad7e19f3ce417b938de11f508aefef"
          ]
        },
        "outputId": "4f2270fd-b996-4fb7-8a0f-6fcec0c0eda0"
      },
      "source": [
        "tpot = TPOTClassifier(\n",
        "  verbosity=3, \n",
        "  n_jobs=-1, \n",
        "  generations=10, \n",
        "  population_size= 1,\n",
        "  early_stop = 5\n",
        ")\n",
        "tpot.fit(trainx, trainy)\n",
        "print(tpot.score(testx, testy))\n"
      ],
      "execution_count": null,
      "outputs": [
        {
          "output_type": "stream",
          "text": [
            "32 operators have been imported by TPOT.\n"
          ],
          "name": "stdout"
        },
        {
          "output_type": "display_data",
          "data": {
            "application/vnd.jupyter.widget-view+json": {
              "model_id": "322e9a5667974fab9184e4e1d5234525",
              "version_minor": 0,
              "version_major": 2
            },
            "text/plain": [
              "HBox(children=(FloatProgress(value=0.0, description='Optimization Progress', max=11.0, style=ProgressStyle(des…"
            ]
          },
          "metadata": {
            "tags": []
          }
        },
        {
          "output_type": "stream",
          "text": [
            "\r\n",
            "Generation 1 - Current Pareto front scores:\n",
            "\r\n",
            "-1\t0.3333333333333333\tMLPClassifier(input_matrix, MLPClassifier__alpha=0.0001, MLPClassifier__learning_rate_init=0.01)\n",
            "\r\n",
            "-2\t0.35\tMLPClassifier(FastICA(input_matrix, FastICA__tol=0.9), MLPClassifier__alpha=0.0001, MLPClassifier__learning_rate_init=0.01)\n",
            "\n",
            "Generation 2 - Current Pareto front scores:\n",
            "\n",
            "-1\t0.3333333333333333\tMLPClassifier(input_matrix, MLPClassifier__alpha=0.0001, MLPClassifier__learning_rate_init=0.01)\n",
            "\n",
            "-2\t0.35\tMLPClassifier(FastICA(input_matrix, FastICA__tol=0.9), MLPClassifier__alpha=0.0001, MLPClassifier__learning_rate_init=0.01)\n",
            "\n",
            "Generation 3 - Current Pareto front scores:\n",
            "\n",
            "-1\t0.3333333333333333\tMLPClassifier(input_matrix, MLPClassifier__alpha=0.0001, MLPClassifier__learning_rate_init=0.01)\n",
            "\n",
            "-2\t0.35\tMLPClassifier(FastICA(input_matrix, FastICA__tol=0.9), MLPClassifier__alpha=0.0001, MLPClassifier__learning_rate_init=0.01)\n",
            "\n",
            "Generation 4 - Current Pareto front scores:\n",
            "\n",
            "-1\t0.34444444444444444\tMLPClassifier(input_matrix, MLPClassifier__alpha=0.01, MLPClassifier__learning_rate_init=0.01)\n",
            "\n",
            "-2\t0.35\tMLPClassifier(FastICA(input_matrix, FastICA__tol=0.9), MLPClassifier__alpha=0.0001, MLPClassifier__learning_rate_init=0.01)\n",
            "\n",
            "Generation 5 - Current Pareto front scores:\n",
            "\n",
            "-1\t0.34444444444444444\tMLPClassifier(input_matrix, MLPClassifier__alpha=0.01, MLPClassifier__learning_rate_init=0.01)\n",
            "\n",
            "-2\t0.35\tMLPClassifier(FastICA(input_matrix, FastICA__tol=0.9), MLPClassifier__alpha=0.0001, MLPClassifier__learning_rate_init=0.01)\n",
            "\n",
            "Generation 6 - Current Pareto front scores:\n",
            "\n",
            "-1\t0.34444444444444444\tMLPClassifier(input_matrix, MLPClassifier__alpha=0.01, MLPClassifier__learning_rate_init=0.01)\n",
            "\n",
            "-2\t0.35\tMLPClassifier(FastICA(input_matrix, FastICA__tol=0.9), MLPClassifier__alpha=0.0001, MLPClassifier__learning_rate_init=0.01)\n",
            "\n",
            "Generation 7 - Current Pareto front scores:\n",
            "\n",
            "-1\t0.6555555555555556\tExtraTreesClassifier(input_matrix, ExtraTreesClassifier__bootstrap=False, ExtraTreesClassifier__criterion=entropy, ExtraTreesClassifier__max_features=0.35000000000000003, ExtraTreesClassifier__min_samples_leaf=20, ExtraTreesClassifier__min_samples_split=13, ExtraTreesClassifier__n_estimators=100)\n",
            "\n",
            "Generation 8 - Current Pareto front scores:\n",
            "\n",
            "-1\t0.6555555555555556\tExtraTreesClassifier(input_matrix, ExtraTreesClassifier__bootstrap=False, ExtraTreesClassifier__criterion=entropy, ExtraTreesClassifier__max_features=0.35000000000000003, ExtraTreesClassifier__min_samples_leaf=20, ExtraTreesClassifier__min_samples_split=13, ExtraTreesClassifier__n_estimators=100)\n",
            "\n",
            "-2\t0.6555555555555557\tExtraTreesClassifier(SelectPercentile(input_matrix, SelectPercentile__percentile=83), ExtraTreesClassifier__bootstrap=False, ExtraTreesClassifier__criterion=entropy, ExtraTreesClassifier__max_features=0.35000000000000003, ExtraTreesClassifier__min_samples_leaf=20, ExtraTreesClassifier__min_samples_split=13, ExtraTreesClassifier__n_estimators=100)\n",
            "Skipped pipeline #10 due to time out. Continuing to the next pipeline.\n",
            "\n",
            "Generation 9 - Current Pareto front scores:\n",
            "\n",
            "-1\t0.6555555555555556\tExtraTreesClassifier(input_matrix, ExtraTreesClassifier__bootstrap=False, ExtraTreesClassifier__criterion=entropy, ExtraTreesClassifier__max_features=0.35000000000000003, ExtraTreesClassifier__min_samples_leaf=20, ExtraTreesClassifier__min_samples_split=13, ExtraTreesClassifier__n_estimators=100)\n",
            "\n",
            "-2\t0.6555555555555557\tExtraTreesClassifier(SelectPercentile(input_matrix, SelectPercentile__percentile=83), ExtraTreesClassifier__bootstrap=False, ExtraTreesClassifier__criterion=entropy, ExtraTreesClassifier__max_features=0.35000000000000003, ExtraTreesClassifier__min_samples_leaf=20, ExtraTreesClassifier__min_samples_split=13, ExtraTreesClassifier__n_estimators=100)\n",
            "Skipped pipeline #12 due to time out. Continuing to the next pipeline.\n",
            "\n",
            "Generation 10 - Current Pareto front scores:\n",
            "\n",
            "-1\t0.6555555555555556\tExtraTreesClassifier(input_matrix, ExtraTreesClassifier__bootstrap=False, ExtraTreesClassifier__criterion=entropy, ExtraTreesClassifier__max_features=0.35000000000000003, ExtraTreesClassifier__min_samples_leaf=20, ExtraTreesClassifier__min_samples_split=13, ExtraTreesClassifier__n_estimators=100)\n",
            "\n",
            "-2\t0.6555555555555557\tExtraTreesClassifier(SelectPercentile(input_matrix, SelectPercentile__percentile=83), ExtraTreesClassifier__bootstrap=False, ExtraTreesClassifier__criterion=entropy, ExtraTreesClassifier__max_features=0.35000000000000003, ExtraTreesClassifier__min_samples_leaf=20, ExtraTreesClassifier__min_samples_split=13, ExtraTreesClassifier__n_estimators=100)\n",
            "0.7833333333333333\n"
          ],
          "name": "stdout"
        }
      ]
    },
    {
      "source": [
        "# Get accuracy of the last generation model\n",
        "\n",
        "총 학습시간은 24분으로 30분을 학습하게 한 다른 패키지와 유사한 시간을 소요했다.\n",
        "\n",
        "가장 마지막 세대 모델의 성능을 테스트한 결과 test_accuracy 78.3%를 달성했다.\n",
        "\n",
        "충분한 RAM과 GPU 가속 환경이었다면 더 좋은 결과가 나왔을 것이다.\n",
        "\n",
        "\n",
        "\n"
      ],
      "cell_type": "markdown",
      "metadata": {}
    },
    {
      "cell_type": "code",
      "metadata": {
        "colab": {
          "base_uri": "https://localhost:8080/"
        },
        "id": "Emacmah25CRA",
        "outputId": "72fa31e1-01d3-4a61-8059-10706b2b4a5d"
      },
      "source": [
        "print('accurate : ',tpot.score(testx,testy))"
      ],
      "execution_count": null,
      "outputs": [
        {
          "output_type": "stream",
          "text": [
            "accurate :  0.7833333333333333\n"
          ],
          "name": "stdout"
        }
      ]
    }
  ]
}